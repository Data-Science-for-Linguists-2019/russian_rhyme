{
 "cells": [
  {
   "cell_type": "code",
   "execution_count": 221,
   "metadata": {},
   "outputs": [],
   "source": [
    "# https://stackoverflow.com/questions/30312566/python-how-to-get-values-from-a-dictionary-from-pandas-series\n",
    "# https://towardsdatascience.com/apply-and-lambda-usage-in-pandas-b13a1ea037f7\n",
    "# https://spapas.github.io/2016/04/27/python-nested-list-comprehensions/\n",
    "import pandas as pd\n",
    "import numpy as np\n",
    "import json\n",
    "pd.set_option('display.max_colwidth', -1) # show all text in cell, without truncation; default is 50\n",
    "pd.set_option('display.max_columns', None) # show all columns; default is 20"
   ]
  },
  {
   "cell_type": "code",
   "execution_count": 222,
   "metadata": {},
   "outputs": [
    {
     "name": "stdout",
     "output_type": "stream",
     "text": [
      "{'Syllabic': '0', 'Sonorant': '1', 'Anterior': '1', 'Coronal': '1', 'Palatalized': '0', 'Nasal': '1', 'Voiced': '1', 'Continuant': '0', 'Lateral': '0', 'Delayedrelease': '0'}\n",
      "1\n",
      "{'Sonorant', 'Back', 'Palatalized', 'Nasal', 'Voiced', 'Syllabic', 'Anterior', 'Continuant', 'High', 'Lateral', 'Low', 'Delayedrelease', 'Coronal'}\n"
     ]
    }
   ],
   "source": [
    "with open('features.json') as json_file:\n",
    "    feature_matrix = json.load(json_file)\n",
    "feature_names = {feature for segment,features in feature_matrix.items() for feature in features}\n",
    "print(feature_matrix['n'])\n",
    "print(feature_matrix['a']['Syllabic'])\n",
    "print(feature_names)"
   ]
  },
  {
   "cell_type": "code",
   "execution_count": 223,
   "metadata": {},
   "outputs": [],
   "source": [
    "df = pd.DataFrame()\n",
    "# df['token1'] = ['a', 'e', 'i']\n",
    "df['token2'] = ['t', 'dn', 'n']"
   ]
  },
  {
   "cell_type": "markdown",
   "metadata": {},
   "source": [
    "Series cannot be used directly as dictionary keys because they are not hashable. This method first uses `map()` to select the dictionary that corresponds to the segment from **feature_matrix** and then uses `apply()` with a lambda function to get the feature of interest. We specify a default value to avoid a key error with features not specified for the given segment (e.g., consonantal features and vowels).\n",
    "\n",
    "**TODO**: Create different features depending on whether the column is consonantal or vocalic, that is, 10 features for consonantal columns and only 5 for vocalic."
   ]
  },
  {
   "cell_type": "code",
   "execution_count": 266,
   "metadata": {},
   "outputs": [
    {
     "name": "stdout",
     "output_type": "stream",
     "text": [
      "Sonorant\n",
      "0    0.0\n",
      "1    0.5\n",
      "2    1.0\n",
      "Name: token2, dtype: float64\n",
      "Back\n",
      "0   NaN\n",
      "1   NaN\n",
      "2   NaN\n",
      "Name: token2, dtype: float64\n",
      "Palatalized\n",
      "0    0.0\n",
      "1    0.0\n",
      "2    0.0\n",
      "Name: token2, dtype: float64\n",
      "Nasal\n",
      "0    0.0\n",
      "1    0.5\n",
      "2    1.0\n",
      "Name: token2, dtype: float64\n",
      "Voiced\n",
      "0    0.0\n",
      "1    1.0\n",
      "2    1.0\n",
      "Name: token2, dtype: float64\n",
      "Syllabic\n",
      "0    0.0\n",
      "1    0.0\n",
      "2    0.0\n",
      "Name: token2, dtype: float64\n",
      "Anterior\n",
      "0    1.0\n",
      "1    1.0\n",
      "2    1.0\n",
      "Name: token2, dtype: float64\n",
      "Continuant\n",
      "0    0.0\n",
      "1    0.0\n",
      "2    0.0\n",
      "Name: token2, dtype: float64\n",
      "High\n",
      "0   NaN\n",
      "1   NaN\n",
      "2   NaN\n",
      "Name: token2, dtype: float64\n",
      "Lateral\n",
      "0    0.0\n",
      "1    0.0\n",
      "2    0.0\n",
      "Name: token2, dtype: float64\n",
      "Low\n",
      "0   NaN\n",
      "1   NaN\n",
      "2   NaN\n",
      "Name: token2, dtype: float64\n",
      "Delayedrelease\n",
      "0    0.0\n",
      "1    0.0\n",
      "2    0.0\n",
      "Name: token2, dtype: float64\n",
      "Coronal\n",
      "0    1.0\n",
      "1    1.0\n",
      "2    1.0\n",
      "Name: token2, dtype: float64\n"
     ]
    },
    {
     "name": "stderr",
     "output_type": "stream",
     "text": [
      "/Users/djb/anaconda3/lib/python3.7/site-packages/ipykernel_launcher.py:5: RuntimeWarning: Mean of empty slice\n",
      "  \"\"\"\n"
     ]
    }
   ],
   "source": [
    "for column_label in ['token2']:\n",
    "    for feature in feature_names:\n",
    "#         df[column_label + '_' + feature] = df[column_label].map(feature_matrix).apply(lambda x: x.get(feature, 'missing'))\n",
    "        print(feature)\n",
    "        print(df[column_label].apply(lambda x: np.nanmean(np.asarray([feature_matrix[char].get(feature, np.nan) for char in list(x)]).astype(np.float32))))\n",
    "#\n",
    "# for char in list(string)\n",
    "# for feature in feature_names\n",
    "# feature_matrix[char][feature]\n",
    "# np.asarray(values).astype(np.float32)"
   ]
  },
  {
   "cell_type": "code",
   "execution_count": null,
   "metadata": {},
   "outputs": [],
   "source": []
  },
  {
   "cell_type": "code",
   "execution_count": null,
   "metadata": {},
   "outputs": [],
   "source": []
  }
 ],
 "metadata": {
  "kernelspec": {
   "display_name": "Python 3",
   "language": "python",
   "name": "python3"
  },
  "language_info": {
   "codemirror_mode": {
    "name": "ipython",
    "version": 3
   },
   "file_extension": ".py",
   "mimetype": "text/x-python",
   "name": "python",
   "nbconvert_exporter": "python",
   "pygments_lexer": "ipython3",
   "version": "3.7.3"
  }
 },
 "nbformat": 4,
 "nbformat_minor": 2
}
