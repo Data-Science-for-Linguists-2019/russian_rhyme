{
 "cells": [
  {
   "cell_type": "markdown",
   "metadata": {},
   "source": [
    "# Palatalization, /j/, and rhyme\n",
    "\n",
    "## Description\n",
    "\n",
    "/j/ can rhyme with any palatalized consonant, e.g., /MiNA/ ~ /iJA/ (меня ~ и я), but palatalized consonants do not automatically rhyme with one another. That is, rhymes of this type are not transitive; if A rhymes with B and A rhymes with C, it is not possible to conclude that B rhymes with C.\n",
    "\n",
    "To address this problem we artificially adjust the values of palatalized consonants to reduce their distance from /j/. Below we explore strategies for making this information available to the system."
   ]
  },
  {
   "cell_type": "markdown",
   "metadata": {},
   "source": [
    "## Import libraries"
   ]
  },
  {
   "cell_type": "code",
   "execution_count": 1,
   "metadata": {},
   "outputs": [],
   "source": [
    "import pandas as pd\n",
    "from scipy.cluster.hierarchy import dendrogram, linkage\n",
    "import matplotlib.pyplot as plt\n",
    "%matplotlib inline\n",
    "import seaborn as sns; sns.set(color_codes=True)"
   ]
  },
  {
   "cell_type": "markdown",
   "metadata": {},
   "source": [
    "## Decompose palatalized consonents into C + /j/\n",
    "\n",
    "One approach involves treating palatalized consonants as if they were sequences of C + /j/, e.g., palatalized /l′/ is rewritten as /lj/. Because our general methods treat consonant clusters as averages of their features values, this strategy averages the property values of the consonant with those of /j/."
   ]
  },
  {
   "cell_type": "markdown",
   "metadata": {},
   "source": [
    "### Prepare data"
   ]
  },
  {
   "cell_type": "code",
   "execution_count": 2,
   "metadata": {},
   "outputs": [
    {
     "data": {
      "text/html": [
       "<div>\n",
       "<style scoped>\n",
       "    .dataframe tbody tr th:only-of-type {\n",
       "        vertical-align: middle;\n",
       "    }\n",
       "\n",
       "    .dataframe tbody tr th {\n",
       "        vertical-align: top;\n",
       "    }\n",
       "\n",
       "    .dataframe thead th {\n",
       "        text-align: right;\n",
       "    }\n",
       "</style>\n",
       "<table border=\"1\" class=\"dataframe\">\n",
       "  <thead>\n",
       "    <tr style=\"text-align: right;\">\n",
       "      <th></th>\n",
       "      <th>Syllabic</th>\n",
       "      <th>Consonantal</th>\n",
       "      <th>Sonorant</th>\n",
       "      <th>Anterior</th>\n",
       "      <th>Coronal</th>\n",
       "      <th>Palatalized</th>\n",
       "      <th>Nasal</th>\n",
       "      <th>Voiced</th>\n",
       "      <th>Continuant</th>\n",
       "      <th>Lateral</th>\n",
       "      <th>Delayed</th>\n",
       "    </tr>\n",
       "    <tr>\n",
       "      <th>Segment</th>\n",
       "      <th></th>\n",
       "      <th></th>\n",
       "      <th></th>\n",
       "      <th></th>\n",
       "      <th></th>\n",
       "      <th></th>\n",
       "      <th></th>\n",
       "      <th></th>\n",
       "      <th></th>\n",
       "      <th></th>\n",
       "      <th></th>\n",
       "    </tr>\n",
       "  </thead>\n",
       "  <tbody>\n",
       "    <tr>\n",
       "      <th>j</th>\n",
       "      <td>0</td>\n",
       "      <td>0.0</td>\n",
       "      <td>1</td>\n",
       "      <td>0.0</td>\n",
       "      <td>1</td>\n",
       "      <td>1.0</td>\n",
       "      <td>0.0</td>\n",
       "      <td>1</td>\n",
       "      <td>1.0</td>\n",
       "      <td>0.0</td>\n",
       "      <td>0</td>\n",
       "    </tr>\n",
       "    <tr>\n",
       "      <th>l</th>\n",
       "      <td>0</td>\n",
       "      <td>1.0</td>\n",
       "      <td>1</td>\n",
       "      <td>1.0</td>\n",
       "      <td>1</td>\n",
       "      <td>0.0</td>\n",
       "      <td>0.0</td>\n",
       "      <td>1</td>\n",
       "      <td>1.0</td>\n",
       "      <td>1.0</td>\n",
       "      <td>0</td>\n",
       "    </tr>\n",
       "    <tr>\n",
       "      <th>l′</th>\n",
       "      <td>0</td>\n",
       "      <td>1.0</td>\n",
       "      <td>1</td>\n",
       "      <td>1.0</td>\n",
       "      <td>1</td>\n",
       "      <td>1.0</td>\n",
       "      <td>0.0</td>\n",
       "      <td>1</td>\n",
       "      <td>1.0</td>\n",
       "      <td>1.0</td>\n",
       "      <td>0</td>\n",
       "    </tr>\n",
       "    <tr>\n",
       "      <th>lj</th>\n",
       "      <td>0</td>\n",
       "      <td>0.5</td>\n",
       "      <td>1</td>\n",
       "      <td>0.5</td>\n",
       "      <td>1</td>\n",
       "      <td>0.5</td>\n",
       "      <td>0.0</td>\n",
       "      <td>1</td>\n",
       "      <td>1.0</td>\n",
       "      <td>0.5</td>\n",
       "      <td>0</td>\n",
       "    </tr>\n",
       "    <tr>\n",
       "      <th>n</th>\n",
       "      <td>0</td>\n",
       "      <td>1.0</td>\n",
       "      <td>1</td>\n",
       "      <td>1.0</td>\n",
       "      <td>1</td>\n",
       "      <td>0.0</td>\n",
       "      <td>1.0</td>\n",
       "      <td>1</td>\n",
       "      <td>0.0</td>\n",
       "      <td>0.0</td>\n",
       "      <td>0</td>\n",
       "    </tr>\n",
       "    <tr>\n",
       "      <th>n′</th>\n",
       "      <td>0</td>\n",
       "      <td>1.0</td>\n",
       "      <td>1</td>\n",
       "      <td>1.0</td>\n",
       "      <td>1</td>\n",
       "      <td>1.0</td>\n",
       "      <td>1.0</td>\n",
       "      <td>1</td>\n",
       "      <td>0.0</td>\n",
       "      <td>0.0</td>\n",
       "      <td>0</td>\n",
       "    </tr>\n",
       "    <tr>\n",
       "      <th>nj</th>\n",
       "      <td>0</td>\n",
       "      <td>0.5</td>\n",
       "      <td>1</td>\n",
       "      <td>0.5</td>\n",
       "      <td>1</td>\n",
       "      <td>0.5</td>\n",
       "      <td>0.5</td>\n",
       "      <td>1</td>\n",
       "      <td>0.5</td>\n",
       "      <td>0.0</td>\n",
       "      <td>0</td>\n",
       "    </tr>\n",
       "  </tbody>\n",
       "</table>\n",
       "</div>"
      ],
      "text/plain": [
       "         Syllabic  Consonantal  Sonorant  Anterior  Coronal  Palatalized  \\\n",
       "Segment                                                                    \n",
       "j               0          0.0         1       0.0        1          1.0   \n",
       "l               0          1.0         1       1.0        1          0.0   \n",
       "l′              0          1.0         1       1.0        1          1.0   \n",
       "lj              0          0.5         1       0.5        1          0.5   \n",
       "n               0          1.0         1       1.0        1          0.0   \n",
       "n′              0          1.0         1       1.0        1          1.0   \n",
       "nj              0          0.5         1       0.5        1          0.5   \n",
       "\n",
       "         Nasal  Voiced  Continuant  Lateral  Delayed  \n",
       "Segment                                               \n",
       "j          0.0       1         1.0      0.0        0  \n",
       "l          0.0       1         1.0      1.0        0  \n",
       "l′         0.0       1         1.0      1.0        0  \n",
       "lj         0.0       1         1.0      0.5        0  \n",
       "n          1.0       1         0.0      0.0        0  \n",
       "n′         1.0       1         0.0      0.0        0  \n",
       "nj         0.5       1         0.5      0.0        0  "
      ]
     },
     "execution_count": 2,
     "metadata": {},
     "output_type": "execute_result"
    }
   ],
   "source": [
    "df = pd.DataFrame([\n",
    "    [\"j\",0,0,1,0,1,1,0,1,1,0,0],\n",
    "    [\"l\",0,1,1,1,1,0,0,1,1,1,0],\n",
    "    [\"l′\",0,1,1,1,1,1,0,1,1,1,0],\n",
    "    [\"lj\",0,0.5,1,0.5,1,0.5,0,1,1,0.5,0],\n",
    "    [\"n\",0,1,1,1,1,0,1,1,0,0,0],\n",
    "    [\"n′\",0,1,1,1,1,1,1,1,0,0,0],\n",
    "    [\"nj\",0,0.5,1,0.5,1,0.5,0.5,1,0.5,0,0]\n",
    "])\n",
    "df.columns = [\"Segment\", \"Syllabic\", \"Consonantal\", \"Sonorant\", \"Anterior\", \"Coronal\", \"Palatalized\",\n",
    "             \"Nasal\", \"Voiced\", \"Continuant\", \"Lateral\", \"Delayed\"]\n",
    "df.set_index(\"Segment\", inplace=True)\n",
    "df"
   ]
  },
  {
   "cell_type": "markdown",
   "metadata": {},
   "source": [
    "### Plot all data, including integral (non-decomposed) palatalized consonants"
   ]
  },
  {
   "cell_type": "code",
   "execution_count": 3,
   "metadata": {},
   "outputs": [
    {
     "data": {
      "image/png": "[encoded data removed]",
      "text/plain": [
       "<Figure size 864x288 with 2 Axes>"
      ]
     },
     "metadata": {
      "needs_background": "light"
     },
     "output_type": "display_data"
    }
   ],
   "source": [
    "ward = linkage(df, method=\"ward\")\n",
    "complete = linkage(df, method=\"complete\")\n",
    "labelList = list(df.index) # segments\n",
    "plt.figure(figsize=(12, 4))\n",
    "plt.subplot(1,2,1)\n",
    "dendrogram(ward, labels=labelList)\n",
    "plt.title(\"Ward\")\n",
    "plt.subplot(1,2,2)\n",
    "dendrogram(complete, labels=labelList)\n",
    "plt.title(\"Complete\")\n",
    "plt.show()"
   ]
  },
  {
   "cell_type": "code",
   "execution_count": 4,
   "metadata": {},
   "outputs": [
    {
     "data": {
      "image/png": "[encoded data removed]",
      "text/plain": [
       "<Figure size 576x432 with 4 Axes>"
      ]
     },
     "metadata": {
      "needs_background": "light"
     },
     "output_type": "display_data"
    }
   ],
   "source": [
    "g = sns.clustermap(df, method=\"ward\", figsize=(8,6))"
   ]
  },
  {
   "cell_type": "markdown",
   "metadata": {},
   "source": [
    "### Discussion\n",
    "\n",
    "Correctly recognizes that /j/ is close to /lj/ and /nj/. Incorrectly regards /lj/ and /nj/ as close to each other."
   ]
  },
  {
   "cell_type": "markdown",
   "metadata": {},
   "source": [
    "### Plot the same without the integral palatalized consonants\n",
    "\n",
    "By removing the phonetically correct integral palatalized consonants, we can see the clustering of plain consonants, /j/, and C + /j/ more easily."
   ]
  },
  {
   "cell_type": "code",
   "execution_count": 5,
   "metadata": {},
   "outputs": [
    {
     "data": {
      "text/html": [
       "<div>\n",
       "<style scoped>\n",
       "    .dataframe tbody tr th:only-of-type {\n",
       "        vertical-align: middle;\n",
       "    }\n",
       "\n",
       "    .dataframe tbody tr th {\n",
       "        vertical-align: top;\n",
       "    }\n",
       "\n",
       "    .dataframe thead th {\n",
       "        text-align: right;\n",
       "    }\n",
       "</style>\n",
       "<table border=\"1\" class=\"dataframe\">\n",
       "  <thead>\n",
       "    <tr style=\"text-align: right;\">\n",
       "      <th></th>\n",
       "      <th>Syllabic</th>\n",
       "      <th>Consonantal</th>\n",
       "      <th>Sonorant</th>\n",
       "      <th>Anterior</th>\n",
       "      <th>Coronal</th>\n",
       "      <th>Palatalized</th>\n",
       "      <th>Nasal</th>\n",
       "      <th>Voiced</th>\n",
       "      <th>Continuant</th>\n",
       "      <th>Lateral</th>\n",
       "      <th>Delayed</th>\n",
       "    </tr>\n",
       "    <tr>\n",
       "      <th>Segment</th>\n",
       "      <th></th>\n",
       "      <th></th>\n",
       "      <th></th>\n",
       "      <th></th>\n",
       "      <th></th>\n",
       "      <th></th>\n",
       "      <th></th>\n",
       "      <th></th>\n",
       "      <th></th>\n",
       "      <th></th>\n",
       "      <th></th>\n",
       "    </tr>\n",
       "  </thead>\n",
       "  <tbody>\n",
       "    <tr>\n",
       "      <th>j</th>\n",
       "      <td>0</td>\n",
       "      <td>0.0</td>\n",
       "      <td>1</td>\n",
       "      <td>0.0</td>\n",
       "      <td>1</td>\n",
       "      <td>1.0</td>\n",
       "      <td>0.0</td>\n",
       "      <td>1</td>\n",
       "      <td>1.0</td>\n",
       "      <td>0.0</td>\n",
       "      <td>0</td>\n",
       "    </tr>\n",
       "    <tr>\n",
       "      <th>l</th>\n",
       "      <td>0</td>\n",
       "      <td>1.0</td>\n",
       "      <td>1</td>\n",
       "      <td>1.0</td>\n",
       "      <td>1</td>\n",
       "      <td>0.0</td>\n",
       "      <td>0.0</td>\n",
       "      <td>1</td>\n",
       "      <td>1.0</td>\n",
       "      <td>1.0</td>\n",
       "      <td>0</td>\n",
       "    </tr>\n",
       "    <tr>\n",
       "      <th>lj</th>\n",
       "      <td>0</td>\n",
       "      <td>0.5</td>\n",
       "      <td>1</td>\n",
       "      <td>0.5</td>\n",
       "      <td>1</td>\n",
       "      <td>0.5</td>\n",
       "      <td>0.0</td>\n",
       "      <td>1</td>\n",
       "      <td>1.0</td>\n",
       "      <td>0.5</td>\n",
       "      <td>0</td>\n",
       "    </tr>\n",
       "    <tr>\n",
       "      <th>n</th>\n",
       "      <td>0</td>\n",
       "      <td>1.0</td>\n",
       "      <td>1</td>\n",
       "      <td>1.0</td>\n",
       "      <td>1</td>\n",
       "      <td>0.0</td>\n",
       "      <td>1.0</td>\n",
       "      <td>1</td>\n",
       "      <td>0.0</td>\n",
       "      <td>0.0</td>\n",
       "      <td>0</td>\n",
       "    </tr>\n",
       "    <tr>\n",
       "      <th>nj</th>\n",
       "      <td>0</td>\n",
       "      <td>0.5</td>\n",
       "      <td>1</td>\n",
       "      <td>0.5</td>\n",
       "      <td>1</td>\n",
       "      <td>0.5</td>\n",
       "      <td>0.5</td>\n",
       "      <td>1</td>\n",
       "      <td>0.5</td>\n",
       "      <td>0.0</td>\n",
       "      <td>0</td>\n",
       "    </tr>\n",
       "  </tbody>\n",
       "</table>\n",
       "</div>"
      ],
      "text/plain": [
       "         Syllabic  Consonantal  Sonorant  Anterior  Coronal  Palatalized  \\\n",
       "Segment                                                                    \n",
       "j               0          0.0         1       0.0        1          1.0   \n",
       "l               0          1.0         1       1.0        1          0.0   \n",
       "lj              0          0.5         1       0.5        1          0.5   \n",
       "n               0          1.0         1       1.0        1          0.0   \n",
       "nj              0          0.5         1       0.5        1          0.5   \n",
       "\n",
       "         Nasal  Voiced  Continuant  Lateral  Delayed  \n",
       "Segment                                               \n",
       "j          0.0       1         1.0      0.0        0  \n",
       "l          0.0       1         1.0      1.0        0  \n",
       "lj         0.0       1         1.0      0.5        0  \n",
       "n          1.0       1         0.0      0.0        0  \n",
       "nj         0.5       1         0.5      0.0        0  "
      ]
     },
     "execution_count": 5,
     "metadata": {},
     "output_type": "execute_result"
    }
   ],
   "source": [
    "df_drop_palatalized = df.drop([\"l′\", \"n′\"])\n",
    "df_drop_palatalized"
   ]
  },
  {
   "cell_type": "code",
   "execution_count": 6,
   "metadata": {},
   "outputs": [
    {
     "data": {
      "image/png": "[encoded data removed]",
      "text/plain": [
       "<Figure size 864x288 with 2 Axes>"
      ]
     },
     "metadata": {
      "needs_background": "light"
     },
     "output_type": "display_data"
    }
   ],
   "source": [
    "ward = linkage(df_drop_palatalized, method=\"ward\")\n",
    "complete = linkage(df_drop_palatalized, method=\"complete\")\n",
    "labelList = list(df_drop_palatalized.index) # segments\n",
    "plt.figure(figsize=(12, 4))\n",
    "plt.subplot(1,2,1)\n",
    "plt.title(\"Ward\")\n",
    "dendrogram(ward, labels=labelList)\n",
    "plt.subplot(1,2,2)\n",
    "plt.title(\"Complete\")\n",
    "dendrogram(complete, labels=labelList)\n",
    "plt.show()"
   ]
  },
  {
   "cell_type": "code",
   "execution_count": 7,
   "metadata": {},
   "outputs": [
    {
     "data": {
      "image/png": "[encoded data removed]",
      "text/plain": [
       "<Figure size 576x432 with 4 Axes>"
      ]
     },
     "metadata": {
      "needs_background": "light"
     },
     "output_type": "display_data"
    }
   ],
   "source": [
    "g = sns.clustermap(df_drop_palatalized, method=\"ward\", figsize=(8,6))\n",
    "plt.show()"
   ]
  },
  {
   "cell_type": "markdown",
   "metadata": {},
   "source": [
    "### Discussion\n",
    "\n",
    "As above, correctly associates the decomposed palatalized consonants with /j/, but incorrectly associates them with each other."
   ]
  },
  {
   "cell_type": "markdown",
   "metadata": {},
   "source": [
    "### Plot instead without decomposition into Cj\n",
    "\n",
    "Does decomposition give better results than using the actual phonetic features? "
   ]
  },
  {
   "cell_type": "code",
   "execution_count": 8,
   "metadata": {},
   "outputs": [
    {
     "data": {
      "text/html": [
       "<div>\n",
       "<style scoped>\n",
       "    .dataframe tbody tr th:only-of-type {\n",
       "        vertical-align: middle;\n",
       "    }\n",
       "\n",
       "    .dataframe tbody tr th {\n",
       "        vertical-align: top;\n",
       "    }\n",
       "\n",
       "    .dataframe thead th {\n",
       "        text-align: right;\n",
       "    }\n",
       "</style>\n",
       "<table border=\"1\" class=\"dataframe\">\n",
       "  <thead>\n",
       "    <tr style=\"text-align: right;\">\n",
       "      <th></th>\n",
       "      <th>Syllabic</th>\n",
       "      <th>Consonantal</th>\n",
       "      <th>Sonorant</th>\n",
       "      <th>Anterior</th>\n",
       "      <th>Coronal</th>\n",
       "      <th>Palatalized</th>\n",
       "      <th>Nasal</th>\n",
       "      <th>Voiced</th>\n",
       "      <th>Continuant</th>\n",
       "      <th>Lateral</th>\n",
       "      <th>Delayed</th>\n",
       "    </tr>\n",
       "    <tr>\n",
       "      <th>Segment</th>\n",
       "      <th></th>\n",
       "      <th></th>\n",
       "      <th></th>\n",
       "      <th></th>\n",
       "      <th></th>\n",
       "      <th></th>\n",
       "      <th></th>\n",
       "      <th></th>\n",
       "      <th></th>\n",
       "      <th></th>\n",
       "      <th></th>\n",
       "    </tr>\n",
       "  </thead>\n",
       "  <tbody>\n",
       "    <tr>\n",
       "      <th>j</th>\n",
       "      <td>0</td>\n",
       "      <td>0.0</td>\n",
       "      <td>1</td>\n",
       "      <td>0.0</td>\n",
       "      <td>1</td>\n",
       "      <td>1.0</td>\n",
       "      <td>0.0</td>\n",
       "      <td>1</td>\n",
       "      <td>1.0</td>\n",
       "      <td>0.0</td>\n",
       "      <td>0</td>\n",
       "    </tr>\n",
       "    <tr>\n",
       "      <th>l</th>\n",
       "      <td>0</td>\n",
       "      <td>1.0</td>\n",
       "      <td>1</td>\n",
       "      <td>1.0</td>\n",
       "      <td>1</td>\n",
       "      <td>0.0</td>\n",
       "      <td>0.0</td>\n",
       "      <td>1</td>\n",
       "      <td>1.0</td>\n",
       "      <td>1.0</td>\n",
       "      <td>0</td>\n",
       "    </tr>\n",
       "    <tr>\n",
       "      <th>l′</th>\n",
       "      <td>0</td>\n",
       "      <td>1.0</td>\n",
       "      <td>1</td>\n",
       "      <td>1.0</td>\n",
       "      <td>1</td>\n",
       "      <td>1.0</td>\n",
       "      <td>0.0</td>\n",
       "      <td>1</td>\n",
       "      <td>1.0</td>\n",
       "      <td>1.0</td>\n",
       "      <td>0</td>\n",
       "    </tr>\n",
       "    <tr>\n",
       "      <th>n</th>\n",
       "      <td>0</td>\n",
       "      <td>1.0</td>\n",
       "      <td>1</td>\n",
       "      <td>1.0</td>\n",
       "      <td>1</td>\n",
       "      <td>0.0</td>\n",
       "      <td>1.0</td>\n",
       "      <td>1</td>\n",
       "      <td>0.0</td>\n",
       "      <td>0.0</td>\n",
       "      <td>0</td>\n",
       "    </tr>\n",
       "    <tr>\n",
       "      <th>n′</th>\n",
       "      <td>0</td>\n",
       "      <td>1.0</td>\n",
       "      <td>1</td>\n",
       "      <td>1.0</td>\n",
       "      <td>1</td>\n",
       "      <td>1.0</td>\n",
       "      <td>1.0</td>\n",
       "      <td>1</td>\n",
       "      <td>0.0</td>\n",
       "      <td>0.0</td>\n",
       "      <td>0</td>\n",
       "    </tr>\n",
       "  </tbody>\n",
       "</table>\n",
       "</div>"
      ],
      "text/plain": [
       "         Syllabic  Consonantal  Sonorant  Anterior  Coronal  Palatalized  \\\n",
       "Segment                                                                    \n",
       "j               0          0.0         1       0.0        1          1.0   \n",
       "l               0          1.0         1       1.0        1          0.0   \n",
       "l′              0          1.0         1       1.0        1          1.0   \n",
       "n               0          1.0         1       1.0        1          0.0   \n",
       "n′              0          1.0         1       1.0        1          1.0   \n",
       "\n",
       "         Nasal  Voiced  Continuant  Lateral  Delayed  \n",
       "Segment                                               \n",
       "j          0.0       1         1.0      0.0        0  \n",
       "l          0.0       1         1.0      1.0        0  \n",
       "l′         0.0       1         1.0      1.0        0  \n",
       "n          1.0       1         0.0      0.0        0  \n",
       "n′         1.0       1         0.0      0.0        0  "
      ]
     },
     "execution_count": 8,
     "metadata": {},
     "output_type": "execute_result"
    }
   ],
   "source": [
    "df_drop_decomposed = df.drop([\"lj\", \"nj\"])\n",
    "df_drop_decomposed"
   ]
  },
  {
   "cell_type": "code",
   "execution_count": 9,
   "metadata": {},
   "outputs": [
    {
     "data": {
      "image/png": "[encoded data removed]",
      "text/plain": [
       "<Figure size 864x288 with 2 Axes>"
      ]
     },
     "metadata": {
      "needs_background": "light"
     },
     "output_type": "display_data"
    }
   ],
   "source": [
    "ward = linkage(df_drop_decomposed, method=\"ward\")\n",
    "complete = linkage(df_drop_decomposed, method=\"complete\")\n",
    "labelList = list(df_drop_decomposed.index) # segments\n",
    "plt.figure(figsize=(12, 4))\n",
    "plt.subplot(1,2,1)\n",
    "dendrogram(ward, labels=labelList)\n",
    "plt.title(\"Ward\")\n",
    "plt.subplot(1,2,2)\n",
    "dendrogram(complete, labels=labelList)\n",
    "plt.title(\"Complete\")\n",
    "plt.show()"
   ]
  },
  {
   "cell_type": "code",
   "execution_count": 10,
   "metadata": {},
   "outputs": [
    {
     "data": {
      "image/png": "[encoded data removed]",
      "text/plain": [
       "<Figure size 576x432 with 4 Axes>"
      ]
     },
     "metadata": {
      "needs_background": "light"
     },
     "output_type": "display_data"
    }
   ],
   "source": [
    "g = sns.clustermap(df_drop_decomposed, method=\"ward\", figsize=(8,6))\n",
    "plt.show()"
   ]
  },
  {
   "cell_type": "markdown",
   "metadata": {},
   "source": [
    "### Discussion\n",
    "\n",
    "This method correctly recognizes that the liquids and nasals are not close to each other, but it incorrectly regards palatalized consonants as closer to their otherwise homorganic non-palatalized consonants than they are to /j/, although they rhyme freely with the latter and not with the former. It also regards /j/ as closer to the liquids than to the nasals, which is correct in terms of feature values, although it is unclear whether there is any differenc ein rhyming practice."
   ]
  },
  {
   "cell_type": "markdown",
   "metadata": {},
   "source": [
    "## Add *rhymes with X* features\n",
    "\n",
    "As an alternative, do not decompose palatalized consonants but do add *rhymes with X* features to all segments, where *x* is the set of all palatal and palatalized consonants. Every segment rhymes only with itself, except that /j/ rhymes with all candidates. That is, the features are symmetrical: the only thing that rhymes with /j/ is /j/ itself. The goal is to reduce the distance between /j/ and all palatalized consonants without inadvertently reducing the pairwise distance between those consonants."
   ]
  },
  {
   "cell_type": "markdown",
   "metadata": {},
   "source": [
    "### Prepare data"
   ]
  },
  {
   "cell_type": "code",
   "execution_count": 11,
   "metadata": {},
   "outputs": [
    {
     "data": {
      "text/html": [
       "<div>\n",
       "<style scoped>\n",
       "    .dataframe tbody tr th:only-of-type {\n",
       "        vertical-align: middle;\n",
       "    }\n",
       "\n",
       "    .dataframe tbody tr th {\n",
       "        vertical-align: top;\n",
       "    }\n",
       "\n",
       "    .dataframe thead th {\n",
       "        text-align: right;\n",
       "    }\n",
       "</style>\n",
       "<table border=\"1\" class=\"dataframe\">\n",
       "  <thead>\n",
       "    <tr style=\"text-align: right;\">\n",
       "      <th></th>\n",
       "      <th>Syllabic</th>\n",
       "      <th>Consonantal</th>\n",
       "      <th>Sonorant</th>\n",
       "      <th>Anterior</th>\n",
       "      <th>Coronal</th>\n",
       "      <th>Palatalized</th>\n",
       "      <th>Nasal</th>\n",
       "      <th>Voiced</th>\n",
       "      <th>Continuant</th>\n",
       "      <th>Lateral</th>\n",
       "      <th>Delayed</th>\n",
       "      <th>RW_l′</th>\n",
       "      <th>RW_n′</th>\n",
       "      <th>RW_j</th>\n",
       "    </tr>\n",
       "    <tr>\n",
       "      <th>Segment</th>\n",
       "      <th></th>\n",
       "      <th></th>\n",
       "      <th></th>\n",
       "      <th></th>\n",
       "      <th></th>\n",
       "      <th></th>\n",
       "      <th></th>\n",
       "      <th></th>\n",
       "      <th></th>\n",
       "      <th></th>\n",
       "      <th></th>\n",
       "      <th></th>\n",
       "      <th></th>\n",
       "      <th></th>\n",
       "    </tr>\n",
       "  </thead>\n",
       "  <tbody>\n",
       "    <tr>\n",
       "      <th>j</th>\n",
       "      <td>0</td>\n",
       "      <td>0</td>\n",
       "      <td>1</td>\n",
       "      <td>0</td>\n",
       "      <td>1</td>\n",
       "      <td>1</td>\n",
       "      <td>0</td>\n",
       "      <td>1</td>\n",
       "      <td>1</td>\n",
       "      <td>0</td>\n",
       "      <td>0</td>\n",
       "      <td>1</td>\n",
       "      <td>1</td>\n",
       "      <td>1</td>\n",
       "    </tr>\n",
       "    <tr>\n",
       "      <th>l</th>\n",
       "      <td>0</td>\n",
       "      <td>1</td>\n",
       "      <td>1</td>\n",
       "      <td>1</td>\n",
       "      <td>1</td>\n",
       "      <td>0</td>\n",
       "      <td>0</td>\n",
       "      <td>1</td>\n",
       "      <td>1</td>\n",
       "      <td>1</td>\n",
       "      <td>0</td>\n",
       "      <td>0</td>\n",
       "      <td>0</td>\n",
       "      <td>0</td>\n",
       "    </tr>\n",
       "    <tr>\n",
       "      <th>l′</th>\n",
       "      <td>0</td>\n",
       "      <td>1</td>\n",
       "      <td>1</td>\n",
       "      <td>1</td>\n",
       "      <td>1</td>\n",
       "      <td>1</td>\n",
       "      <td>0</td>\n",
       "      <td>1</td>\n",
       "      <td>1</td>\n",
       "      <td>1</td>\n",
       "      <td>0</td>\n",
       "      <td>1</td>\n",
       "      <td>0</td>\n",
       "      <td>0</td>\n",
       "    </tr>\n",
       "    <tr>\n",
       "      <th>n</th>\n",
       "      <td>0</td>\n",
       "      <td>1</td>\n",
       "      <td>1</td>\n",
       "      <td>1</td>\n",
       "      <td>1</td>\n",
       "      <td>0</td>\n",
       "      <td>1</td>\n",
       "      <td>1</td>\n",
       "      <td>0</td>\n",
       "      <td>0</td>\n",
       "      <td>0</td>\n",
       "      <td>0</td>\n",
       "      <td>0</td>\n",
       "      <td>0</td>\n",
       "    </tr>\n",
       "    <tr>\n",
       "      <th>n′</th>\n",
       "      <td>0</td>\n",
       "      <td>1</td>\n",
       "      <td>1</td>\n",
       "      <td>1</td>\n",
       "      <td>1</td>\n",
       "      <td>1</td>\n",
       "      <td>1</td>\n",
       "      <td>1</td>\n",
       "      <td>0</td>\n",
       "      <td>0</td>\n",
       "      <td>0</td>\n",
       "      <td>1</td>\n",
       "      <td>0</td>\n",
       "      <td>0</td>\n",
       "    </tr>\n",
       "  </tbody>\n",
       "</table>\n",
       "</div>"
      ],
      "text/plain": [
       "         Syllabic  Consonantal  Sonorant  Anterior  Coronal  Palatalized  \\\n",
       "Segment                                                                    \n",
       "j               0            0         1         0        1            1   \n",
       "l               0            1         1         1        1            0   \n",
       "l′              0            1         1         1        1            1   \n",
       "n               0            1         1         1        1            0   \n",
       "n′              0            1         1         1        1            1   \n",
       "\n",
       "         Nasal  Voiced  Continuant  Lateral  Delayed  RW_l′  RW_n′  RW_j  \n",
       "Segment                                                                   \n",
       "j            0       1           1        0        0      1      1     1  \n",
       "l            0       1           1        1        0      0      0     0  \n",
       "l′           0       1           1        1        0      1      0     0  \n",
       "n            1       1           0        0        0      0      0     0  \n",
       "n′           1       1           0        0        0      1      0     0  "
      ]
     },
     "execution_count": 11,
     "metadata": {},
     "output_type": "execute_result"
    }
   ],
   "source": [
    "df = pd.DataFrame([\n",
    "    [\"j\",0,0,1,0,1,1,0,1,1,0,0,1,1,1],\n",
    "    [\"l\",0,1,1,1,1,0,0,1,1,1,0,0,0,0],\n",
    "    [\"l′\",0,1,1,1,1,1,0,1,1,1,0,1,0,0],\n",
    "    [\"n\",0,1,1,1,1,0,1,1,0,0,0,0,0,0],\n",
    "    [\"n′\",0,1,1,1,1,1,1,1,0,0,0,1,0,0]\n",
    "])\n",
    "df.columns = [\"Segment\", \"Syllabic\", \"Consonantal\", \"Sonorant\", \"Anterior\", \"Coronal\", \"Palatalized\",\n",
    "             \"Nasal\", \"Voiced\", \"Continuant\", \"Lateral\", \"Delayed\", \"RW_l′\", \"RW_n′\", \"RW_j\"]\n",
    "df.set_index(\"Segment\", inplace=True)\n",
    "df"
   ]
  },
  {
   "cell_type": "markdown",
   "metadata": {},
   "source": [
    "### Plot"
   ]
  },
  {
   "cell_type": "code",
   "execution_count": 12,
   "metadata": {},
   "outputs": [
    {
     "data": {
      "image/png": "[encoded data removed]",
      "text/plain": [
       "<Figure size 864x288 with 2 Axes>"
      ]
     },
     "metadata": {
      "needs_background": "light"
     },
     "output_type": "display_data"
    }
   ],
   "source": [
    "ward = linkage(df, method=\"ward\")\n",
    "complete = linkage(df, method=\"complete\")\n",
    "labelList = list(df.index) # segments\n",
    "plt.figure(figsize=(12, 4))\n",
    "plt.subplot(1,2,1)\n",
    "dendrogram(ward, labels=labelList)\n",
    "plt.title(\"Ward\")\n",
    "plt.subplot(1,2,2)\n",
    "dendrogram(complete, labels=labelList)\n",
    "plt.title(\"Complete\")\n",
    "plt.show()"
   ]
  },
  {
   "cell_type": "code",
   "execution_count": 13,
   "metadata": {},
   "outputs": [
    {
     "data": {
      "image/png": "[encoded data removed]",
      "text/plain": [
       "<Figure size 576x432 with 4 Axes>"
      ]
     },
     "metadata": {
      "needs_background": "light"
     },
     "output_type": "display_data"
    }
   ],
   "source": [
    "g = sns.clustermap(df, method=\"ward\", figsize=(8,6))\n",
    "plt.show()"
   ]
  },
  {
   "cell_type": "markdown",
   "metadata": {},
   "source": [
    "### Discussion\n",
    "\n",
    "Adding the *rhymes with X* feature does not affect the clustering because this single feature is of less importance than the rest."
   ]
  },
  {
   "cell_type": "markdown",
   "metadata": {},
   "source": [
    "## General discussion\n",
    "\n",
    "Although this artificially small test case may not be fully representative of actual data, we observe that:\n",
    "\n",
    "1. Decomposing palatalized consonants into C + /j/ makes them meaningfully close to /j/ for clustering purposes, but incorrectly makes them  closer to one another. \n",
    "1. Adding the *rhymes with X* feature has no meaningful impact on the clustering."
   ]
  }
 ],
 "metadata": {
  "kernelspec": {
   "display_name": "Python 3",
   "language": "python",
   "name": "python3"
  },
  "language_info": {
   "codemirror_mode": {
    "name": "ipython",
    "version": 3
   },
   "file_extension": ".py",
   "mimetype": "text/x-python",
   "name": "python",
   "nbconvert_exporter": "python",
   "pygments_lexer": "ipython3",
   "version": "3.7.3"
  }
 },
 "nbformat": 4,
 "nbformat_minor": 2
}
