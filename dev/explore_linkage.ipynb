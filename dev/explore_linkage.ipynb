{
 "cells": [
  {
   "cell_type": "markdown",
   "metadata": {},
   "source": [
    "# Explore linkage methods\n",
    "\n",
    "This notebook builds on the methods explored in [progress_report_4.ipynb](progress_report_4.ipynb) and [samples.ipynb](samples.ipynb), but with an focus on evaluation, rather than visualization. We begin by testing the use of different similarity metrics (Euclidean, cosine) in hierarchical clustering, where Euclidean outperforms cosine (slightly). We then evaluate different clustering methods."
   ]
  },
  {
   "cell_type": "markdown",
   "metadata": {},
   "source": [
    "## Reload libraries each time, since we’re tinkering with them"
   ]
  },
  {
   "cell_type": "code",
   "execution_count": 1,
   "metadata": {},
   "outputs": [],
   "source": [
    "%load_ext autoreload\n",
    "%autoreload 2"
   ]
  },
  {
   "cell_type": "markdown",
   "metadata": {},
   "source": [
    "## Load libraries"
   ]
  },
  {
   "cell_type": "code",
   "execution_count": 2,
   "metadata": {},
   "outputs": [],
   "source": [
    "from xml.dom import pulldom  # parse input XML\n",
    "from xml.dom.minidom import Document  # construct output XML\n",
    "import numpy as np\n",
    "import pandas as pd\n",
    "from scipy import stats\n",
    "from scipy.cluster.hierarchy import dendrogram, linkage\n",
    "# see https://joernhees.de/blog/2015/08/26/scipy-hierarchical-clustering-and-dendrogram-tutorial/\n",
    "from scipy.cluster.hierarchy import cophenet\n",
    "from scipy.spatial.distance import pdist\n",
    "import matplotlib.pyplot as plt\n",
    "import seaborn as sns\n",
    "%matplotlib inline\n",
    "import regex as re\n",
    "from cyr2phon import cyr2phon  # custom package\n",
    "pd.set_option('display.max_colwidth', -1) # show all text in cell, without truncation; default is 50"
   ]
  },
  {
   "cell_type": "markdown",
   "metadata": {},
   "source": [
    "## Class and variables for parsing input XML"
   ]
  },
  {
   "cell_type": "code",
   "execution_count": 3,
   "metadata": {},
   "outputs": [],
   "source": [
    "class Stack(list):  # keep track of open nodes while constructing XML output\n",
    "    def push(self, item):\n",
    "        self.append(item)\n",
    "\n",
    "    def peek(self):  \n",
    "        return self[-1]\n",
    "\n",
    "\n",
    "open_elements = Stack()\n",
    "WS_RE = re.compile(r'\\s+')  # normalize white space in output"
   ]
  },
  {
   "cell_type": "markdown",
   "metadata": {},
   "source": [
    "## Function to parse the XML\n",
    "\n",
    "Returns a list of lists, with stanza number, line number, and `<line>` element for each line. We use the light-weight *xml.dom.pulldom* library to parse the input XML and *xml.dom.minidom* to construct the lines as simplified XML, removing elements we don’t care about, such as `<latin>` and `<italic>`, before serializing them to the output. (We actually do care about `<latin>`, but we are ignoring it temporarily, and we’ll return to it at a later stage in the project.)"
   ]
  },
  {
   "cell_type": "code",
   "execution_count": 4,
   "metadata": {},
   "outputs": [],
   "source": [
    "def process(input_xml):\n",
    "    poemId = \"\"\n",
    "    stanzaNo = 0\n",
    "    lineNo = 0\n",
    "    inline = 0  # flag to control behavior inside and outside lines\n",
    "    result = []  # array of arrays, one per line, with stanzaNo, lineNo, and serialized XML\n",
    "    doc = pulldom.parse(input_xml)\n",
    "    for event, node in doc:\n",
    "        if event == pulldom.START_ELEMENT and node.localName == 'poem':\n",
    "            poemId = node.getAttribute(\"opid\")\n",
    "        elif event == pulldom.START_ELEMENT and node.localName == 'stanza':\n",
    "            stanzaNo = node.getAttribute(\"stanzaNo\")\n",
    "        elif event == pulldom.START_ELEMENT and node.localName == 'line':\n",
    "            d = Document()  # each line is an output XML document\n",
    "            open_elements.push(d)  # document node\n",
    "            lineNo = node.getAttribute(\"lineNo\")\n",
    "            inline = 1  # we’re inside a line\n",
    "            open_elements.peek().appendChild(node)  # add as child of current node in output tree\n",
    "            open_elements.push(node)  # keep track of open elements\n",
    "        elif event == pulldom.END_ELEMENT and node.localName == 'line':\n",
    "            inline = 0  # when we finish our work here, we’ll no longer be inside a line\n",
    "            open_elements.pop()  # line is finished\n",
    "            # serialize XML, strip declaration, rewrite &quot; entity as character\n",
    "            result.append([poemId, int(stanzaNo), int(lineNo),\n",
    "                WS_RE.sub(\" \" ,\n",
    "                open_elements.pop().toxml().replace('<?xml version=\"1.0\" ?>', '').replace('&quot;', '\"'))])\n",
    "        elif event == pulldom.START_ELEMENT and node.localName == 'stress':\n",
    "            open_elements.peek().appendChild(node)  # add as child of current node in output tree\n",
    "            open_elements.push(node)  # keep track of open elements\n",
    "        elif event == pulldom.END_ELEMENT and node.localName == 'stress':\n",
    "            open_elements.pop()  # stress element is finished\n",
    "        elif event == pulldom.CHARACTERS and inline:  # keep text only inside lines\n",
    "            t = d.createTextNode(node.data)\n",
    "            open_elements.peek().appendChild(t)\n",
    "    return result"
   ]
  },
  {
   "cell_type": "markdown",
   "metadata": {},
   "source": [
    "## Function to extract rhyme zone from rhyme word"
   ]
  },
  {
   "cell_type": "code",
   "execution_count": 5,
   "metadata": {},
   "outputs": [],
   "source": [
    "rhymezonepat = re.compile(r'(.?[AEIOU]$)|([AEIOU].*$)')\n",
    "def remove_pretonic_segments(s: str) -> str: # removes segments in place\n",
    "    try:\n",
    "        return rhymezonepat.search(s).group(0)\n",
    "    except: # modify this to raise a real error, instead of just reporting\n",
    "        print(s)"
   ]
  },
  {
   "cell_type": "markdown",
   "metadata": {},
   "source": [
    "## Imports sample file, analyzes, outputs reports"
   ]
  },
  {
   "cell_type": "code",
   "execution_count": 96,
   "metadata": {},
   "outputs": [],
   "source": [
    "def explore(filepath, ceiling=1000, ward=None, dd=None):\n",
    "    '''Render text and dendrograms of rhyme clustering\n",
    "    \n",
    "    Parameters:\n",
    "        filepath (str): path to XML file with poem, required\n",
    "        ceiling (int): maximum number of stanzas to return (useful for sampling long poems), \n",
    "            defaults to high value\n",
    "        ward (boolean): show Ward dendrogram separately (improves legibility of long stanzas),\n",
    "            defaults to None\n",
    "    \n",
    "    Does not return a value; all output is written directly from within the function\n",
    "    '''\n",
    "    \n",
    "    # Read file\n",
    "    with open(filepath) as f:\n",
    "        data = process(f)\n",
    "    df = pd.DataFrame(data, columns=[\"PoemId\", \"StanzaNo\", \"LineNo\", \"Text\"])\n",
    "    \n",
    "    # Prepare data\n",
    "    trans_vec = np.vectorize(cyr2phon.transliterate)\n",
    "    df[\"Phonetic\"] = trans_vec(df[\"Text\"])\n",
    "    df[\"RhymeWord\"] = df[\"Phonetic\"].str.split().str[-1] # clitics have already been joined\n",
    "    df[\"RhymeZone\"] = df[\"RhymeWord\"].apply(remove_pretonic_segments)\n",
    "    df.loc[df[\"RhymeZone\"].isnull(), \"RhymeZone\"] = \"Abcde\" # provisional placeholder for nulls\n",
    "    df[\"tokenized\"] = [x[0] for x in df[\"RhymeZone\"].str.\n",
    "                       findall(r\"(.?)([AEIOU])([^aeiou]*)([aeiou]?)([^aeiou]*)([aeiou]?)([^aeiou]*)([aeiou]?)([^aeiou]*)([aeiou]?)([^aeiou]*)([aeiou]?)([^aeiou]*)([aeiou]?)([^aeiou]*)([aeiou]?)([^aeiou]*)([aeiou]?)\")]\n",
    "    i = 0\n",
    "    while (pd.np.count_nonzero([item[i] for item in df[\"tokenized\"]]) > 0) or (i == 0):\n",
    "        # print([item[i] for item in df[\"tokenized\"]]) # diagnostic\n",
    "        df[\"token\" + str(i)] = [item[i] for item in df[\"tokenized\"]]\n",
    "        i += 1\n",
    "    tokenheaders = df.filter(regex=\"^token\\d\").columns\n",
    "    # tokenheaders = list([item for item in df.columns if re.match(r'token\\d', item)])\n",
    "    df[tokenheaders] = df[tokenheaders].replace(r'^$', \"missing\", regex=True) # replace empty strings with specific value; inplace doesn't work (?)\n",
    "    df.filter(regex=r\"StanzaNo|LineNo|RhymeWord|Text|^token\\d\").head() # columns we care about\n",
    "    dummy = pd.get_dummies(df, columns=df.filter(regex=\"^token\\d\").columns, drop_first=True)\n",
    "    df = df.merge(dummy, on=[\"PoemId\", \"StanzaNo\", \"LineNo\", \"Text\", \"Phonetic\", \"RhymeWord\", \"RhymeZone\", \"tokenized\"])\n",
    "    df.set_index([\"PoemId\", \"StanzaNo\", \"LineNo\"], inplace=True)\n",
    "    \n",
    "    # If \"dendrogram\" parameter is non-null\n",
    "    if dd is not None:\n",
    "        pd.options.display.max_colwidth = 100\n",
    "        print(df[[\"Text\", \"RhymeWord\", \"RhymeZone\"]].to_string(index=False))\n",
    "        plt.figure()\n",
    "        plt.title(\"Ward linkage, no line numbers\")\n",
    "        dendrogram(linkage(df.filter(regex=r\"^token\\d_\"), method=\"ward\"))\n",
    "        plt.show()\n",
    "        pd.options.display.max_colwidth = 50\n",
    "    \n",
    "    # Analyze\n",
    "    methods = {}\n",
    "    methods[\"euclidean\"] = [\"single\", \"complete\", \"average\", \"weighted\", \"centroid\", \"median\", \"ward\"]\n",
    "    methods[\"cosine\"] = [\"single\", \"complete\", \"average\", \"weighted\"]\n",
    "    metrics = [\"euclidean\", \"cosine\"]\n",
    "    result = {}\n",
    "    for cm in metrics: # cm is the clustering metric (euclidean or cosine)\n",
    "        df_interim = pd.DataFrame()\n",
    "        stanzas = df.groupby(level=[0,1])\n",
    "        for offset, (id, lines) in enumerate(stanzas):\n",
    "            if offset < ceiling:\n",
    "                s_interim = pd.Series()\n",
    "                data = lines.copy().filter(regex=r\"^token\\d_\") # only one-hot features\n",
    "                labelList = list(range(1, len(lines)+1)) # labels are line numbers within stanza\n",
    "                data.loc[:,\"LineNo\"] = [2 * n / len(labelList) for n in labelList] # scale to avoid tyranny of proximity\n",
    "                for n, m in enumerate(methods[cm]):\n",
    "                    linked = linkage(data, method=m, metric=cm)\n",
    "                    m_c, m_coph_dist = cophenet(linked, pdist(data))\n",
    "                    s_interim[m] = m_c\n",
    "                df_interim = df_interim.append(s_interim, ignore_index=True)\n",
    "        result[cm] = df_interim\n",
    "    return(result)"
   ]
  },
  {
   "cell_type": "markdown",
   "metadata": {},
   "source": [
    "## Function to print comparative box and whisker plots"
   ]
  },
  {
   "cell_type": "code",
   "execution_count": 75,
   "metadata": {},
   "outputs": [],
   "source": [
    "def plot(data):\n",
    "    plt.figure(figsize=(15, 4))\n",
    "    for n,(id, content) in enumerate(comparison.items()):\n",
    "        plt.subplot(1, 2, n + 1)\n",
    "        plt.title(id)\n",
    "        plt.ylim(.75, 1)\n",
    "        content.boxplot()\n",
    "    plt.show()"
   ]
  },
  {
   "cell_type": "markdown",
   "metadata": {},
   "source": [
    "## Tests with Eugene Onegin chapter 1"
   ]
  },
  {
   "cell_type": "markdown",
   "metadata": {},
   "source": [
    "To evaluate the clustering methods, first generate the dataframe. Rows are stanzas, columns are linkage methods, cell values are cophenetic correlation coefficients (values over .75 are good, but higher is better)."
   ]
  },
  {
   "cell_type": "code",
   "execution_count": 68,
   "metadata": {},
   "outputs": [
    {
     "data": {
      "image/png": "[encoded data removed]",
      "text/plain": [
       "<Figure size 1080x288 with 2 Axes>"
      ]
     },
     "metadata": {
      "needs_background": "light"
     },
     "output_type": "display_data"
    }
   ],
   "source": [
    "comparison = explore(\"data_samples/eo1.xml\", 1000, True)\n",
    "plot(comparison)"
   ]
  },
  {
   "cell_type": "markdown",
   "metadata": {},
   "source": [
    "`comparison` is dictionary, where the keys are the distance metric (euclidean or cosine) and the values are dataframes that compare linkage methods using that distance metric. Because cosine measurements are incompatible with centroid, mean, and ward clustering, those methods have been applied only in the case of Euclidean distance."
   ]
  },
  {
   "cell_type": "markdown",
   "metadata": {},
   "source": [
    "### Discussion\n",
    "\n",
    "Euclidean distance seems to outperform cosine distance consistently. On the other hand, we care only about lower levels of clustering, that is, those that relect rhyme, and not the higher levels, which are artifactual. Meanwhile, much of the variation that is observable in the dendrograms is at those higher (noisy) levels. Since the cophenetic correlation coefficient evalutes the entire clustering result, it isn’t clear (well, to me) whether differences (and especially small differences in values that correspond to clustering differences in the noisy upper levels of the dendrgram) are meaningful."
   ]
  },
  {
   "cell_type": "markdown",
   "metadata": {},
   "source": [
    "# Resume here\n",
    "\n",
    "package dendrogram generation in module for import\n",
    "import and call to compare dendrograms"
   ]
  },
  {
   "cell_type": "markdown",
   "metadata": {},
   "source": [
    "### Brjusov, “Voron” (1924)\n",
    "\n",
    "Translation of Poe, “The raven”. Rhymes are not just pairs."
   ]
  },
  {
   "cell_type": "code",
   "execution_count": 69,
   "metadata": {},
   "outputs": [
    {
     "data": {
      "image/png": "[encoded data removed]",
      "text/plain": [
       "<Figure size 1080x288 with 2 Axes>"
      ]
     },
     "metadata": {
      "needs_background": "light"
     },
     "output_type": "display_data"
    }
   ],
   "source": [
    "comparison = explore(\"data_samples/brjusov_voron.xml\")\n",
    "plot(comparison)"
   ]
  },
  {
   "cell_type": "markdown",
   "metadata": {},
   "source": [
    "## Zinaida Gippius, “Neljubov′” (1907)"
   ]
  },
  {
   "cell_type": "code",
   "execution_count": 70,
   "metadata": {},
   "outputs": [
    {
     "data": {
      "image/png": "[encoded data removed]",
      "text/plain": [
       "<Figure size 1080x288 with 2 Axes>"
      ]
     },
     "metadata": {
      "needs_background": "light"
     },
     "output_type": "display_data"
    }
   ],
   "source": [
    "comparison = explore(\"data_samples/gippius_neljubov.xml\")\n",
    "plot(comparison)"
   ]
  },
  {
   "cell_type": "markdown",
   "metadata": {},
   "source": [
    "## Anna Axmatova “On ljubil ...” (1910)\n",
    "\n",
    "* Expect ABC′ABC′e, where the B rhyme is approximate (*[Inaf]* ~ *[InaJ]*). All methods find this except single.\n",
    "* Line 7 is correctly unpaired, but how can it be recognized as a singleton, and not an approximate rhyme? \n",
    "* It isn’t clear why single linkage seems to fail, except that it is known to be buggy in general (<https://github.com/scipy/scipy/issues/7271>). Since it isn’t likely to be the top choice, it doesn’t have any practical consequences.\n",
    "* Enrichment would be useful for the B rhymes, as would distinctive-feature matching for the pretonic *[p]* ~ *[m]*."
   ]
  },
  {
   "cell_type": "code",
   "execution_count": 97,
   "metadata": {},
   "outputs": [
    {
     "name": "stdout",
     "output_type": "stream",
     "text": [
      "                                                                         Text RhymeWord RhymeZone\n",
      "       <line lineNo=\"001\">Он любил три вещи на св<stress>е</stress>те:</line>   nasVETi       ETi\n",
      " <line lineNo=\"002\">За вечерней пенье, белых павл<stress>и</stress>нов</line>  pavLInaf      Inaf\n",
      "          <line lineNo=\"003\">И стертые карты Ам<stress>е</stress>рики.</line>   aMERiKi     ERiKi\n",
      "      <line lineNo=\"004\">Не любил, когда плачут д<stress>е</stress>ти,</line>      DETi       ETi\n",
      "            <line lineNo=\"005\">Не любил чая с мал<stress>и</stress>ной</line>  smaLInaJ      InaJ\n",
      "               <line lineNo=\"006\">И женской ист<stress>е</stress>рики.</line>  iSTERiKi     ERiKi\n",
      "              <line lineNo=\"007\">…А я была его жен<stress>о</stress>й.</line>     žinOJ        OJ\n"
     ]
    },
    {
     "data": {
      "image/png": "[encoded data removed]",
      "text/plain": [
       "<Figure size 432x288 with 1 Axes>"
      ]
     },
     "metadata": {
      "needs_background": "light"
     },
     "output_type": "display_data"
    },
    {
     "data": {
      "image/png": "[encoded data removed]",
      "text/plain": [
       "<Figure size 1080x288 with 2 Axes>"
      ]
     },
     "metadata": {
      "needs_background": "light"
     },
     "output_type": "display_data"
    }
   ],
   "source": [
    "comparison = explore(\"data_samples/axmatova_on-ljubil.xml\", 1000, True, True)\n",
    "plot(comparison)"
   ]
  },
  {
   "cell_type": "markdown",
   "metadata": {},
   "source": [
    "## Anna Axmatova, “Pamjati Sergeju Eseninu” (1925)\n",
    "\n",
    "Finds inexact rhyme of lines 6 and 8 reliably."
   ]
  },
  {
   "cell_type": "code",
   "execution_count": 54,
   "metadata": {},
   "outputs": [
    {
     "data": {
      "image/png": "[encoded data removed]",
      "text/plain": [
       "<Figure size 1080x288 with 2 Axes>"
      ]
     },
     "metadata": {
      "needs_background": "light"
     },
     "output_type": "display_data"
    }
   ],
   "source": [
    "comparison = explore(\"data_samples/axmatova_pamjati-sergeju-eseninu.xml\")\n",
    "plot(comparison)"
   ]
  },
  {
   "cell_type": "markdown",
   "metadata": {},
   "source": [
    "## Alexander Sergeevič Puškin, “Prorok” (1826)"
   ]
  },
  {
   "cell_type": "code",
   "execution_count": 56,
   "metadata": {},
   "outputs": [
    {
     "name": "stdout",
     "output_type": "stream",
     "text": [
      "{'euclidean':     average  centroid  complete   median    single      ward  weighted\n",
      "0  0.917071   0.89003  0.885786  0.89226  0.896436  0.827468  0.930289, 'cosine':    average  complete    single  weighted\n",
      "0  0.84182  0.827207  0.807698  0.856226}\n"
     ]
    },
    {
     "data": {
      "image/png": "[encoded data removed]",
      "text/plain": [
       "<Figure size 1080x288 with 2 Axes>"
      ]
     },
     "metadata": {
      "needs_background": "light"
     },
     "output_type": "display_data"
    }
   ],
   "source": [
    "comparison = explore(\"data_samples/pushkin_prorok.xml\",1000,True)\n",
    "print(comparison)\n",
    "plot(comparison)"
   ]
  },
  {
   "cell_type": "code",
   "execution_count": null,
   "metadata": {},
   "outputs": [],
   "source": []
  }
 ],
 "metadata": {
  "kernelspec": {
   "display_name": "Python 3",
   "language": "python",
   "name": "python3"
  },
  "language_info": {
   "codemirror_mode": {
    "name": "ipython",
    "version": 3
   },
   "file_extension": ".py",
   "mimetype": "text/x-python",
   "name": "python",
   "nbconvert_exporter": "python",
   "pygments_lexer": "ipython3",
   "version": "3.7.3"
  }
 },
 "nbformat": 4,
 "nbformat_minor": 2
}
