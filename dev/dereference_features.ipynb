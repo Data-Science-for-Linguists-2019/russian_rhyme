{
 "cells": [
  {
   "cell_type": "code",
   "execution_count": 127,
   "metadata": {},
   "outputs": [],
   "source": [
    "# https://stackoverflow.com/questions/30312566/python-how-to-get-values-from-a-dictionary-from-pandas-series\n",
    "# https://towardsdatascience.com/apply-and-lambda-usage-in-pandas-b13a1ea037f7\n",
    "import pandas as pd\n",
    "import json"
   ]
  },
  {
   "cell_type": "code",
   "execution_count": 128,
   "metadata": {},
   "outputs": [
    {
     "name": "stdout",
     "output_type": "stream",
     "text": [
      "{'Syllabic': '1', 'Sonorant': '1', 'High': '0', 'Low': '1', 'Back': '1'}\n",
      "1\n"
     ]
    }
   ],
   "source": [
    "with open('features.json') as json_file:\n",
    "    feature_matrix = json.load(json_file)\n",
    "feature_names = {feature for segment,features in feature_matrix.items() for feature in features}\n",
    "print(feature_matrix['a'])\n",
    "print(feature_matrix['a']['Syllabic'])"
   ]
  },
  {
   "cell_type": "code",
   "execution_count": 129,
   "metadata": {},
   "outputs": [],
   "source": [
    "df = pd.DataFrame()\n",
    "df['token1'] = ['a', 'e', 'i']\n",
    "df['token2'] = ['b', 'd', 's']"
   ]
  },
  {
   "cell_type": "markdown",
   "metadata": {},
   "source": [
    "Series cannot be used directly as dictionary keys because they are not hashable. This method first uses `map()` to select the dictionary that corresponds to the segment from **feature_matrix** and then uses `apply()` with a lambda function to get the feature of interest. We specify a default value to avoid a key error with features not specified for the given segment (e.g., consonantal features and vowels).\n",
    "\n",
    "**TODO**: Create different features depending on whether the column is consonantal or vocalic, that is, 10 features for consonantal columns and only 5 for vocalic."
   ]
  },
  {
   "cell_type": "code",
   "execution_count": 129,
   "metadata": {},
   "outputs": [
    {
     "data": {
      "text/html": [
       "<div>\n",
       "<style scoped>\n",
       "    .dataframe tbody tr th:only-of-type {\n",
       "        vertical-align: middle;\n",
       "    }\n",
       "\n",
       "    .dataframe tbody tr th {\n",
       "        vertical-align: top;\n",
       "    }\n",
       "\n",
       "    .dataframe thead th {\n",
       "        text-align: right;\n",
       "    }\n",
       "</style>\n",
       "<table border=\"1\" class=\"dataframe\">\n",
       "  <thead>\n",
       "    <tr style=\"text-align: right;\">\n",
       "      <th></th>\n",
       "      <th>token1</th>\n",
       "      <th>token2</th>\n",
       "      <th>token1_Sonorant</th>\n",
       "      <th>token1_Back</th>\n",
       "      <th>token1_Palatalized</th>\n",
       "      <th>token1_Nasal</th>\n",
       "      <th>token1_Voiced</th>\n",
       "      <th>token1_Syllabic</th>\n",
       "      <th>token1_Anterior</th>\n",
       "      <th>token1_Continuant</th>\n",
       "      <th>...</th>\n",
       "      <th>token2_Nasal</th>\n",
       "      <th>token2_Voiced</th>\n",
       "      <th>token2_Syllabic</th>\n",
       "      <th>token2_Anterior</th>\n",
       "      <th>token2_Continuant</th>\n",
       "      <th>token2_High</th>\n",
       "      <th>token2_Lateral</th>\n",
       "      <th>token2_Low</th>\n",
       "      <th>token2_Delayedrelease</th>\n",
       "      <th>token2_Coronal</th>\n",
       "    </tr>\n",
       "  </thead>\n",
       "  <tbody>\n",
       "    <tr>\n",
       "      <th>0</th>\n",
       "      <td>a</td>\n",
       "      <td>b</td>\n",
       "      <td>1</td>\n",
       "      <td>1</td>\n",
       "      <td>missing</td>\n",
       "      <td>missing</td>\n",
       "      <td>missing</td>\n",
       "      <td>1</td>\n",
       "      <td>missing</td>\n",
       "      <td>missing</td>\n",
       "      <td>...</td>\n",
       "      <td>missing</td>\n",
       "      <td>missing</td>\n",
       "      <td>1</td>\n",
       "      <td>missing</td>\n",
       "      <td>missing</td>\n",
       "      <td>0</td>\n",
       "      <td>missing</td>\n",
       "      <td>1</td>\n",
       "      <td>missing</td>\n",
       "      <td>missing</td>\n",
       "    </tr>\n",
       "    <tr>\n",
       "      <th>1</th>\n",
       "      <td>e</td>\n",
       "      <td>d</td>\n",
       "      <td>1</td>\n",
       "      <td>0</td>\n",
       "      <td>missing</td>\n",
       "      <td>missing</td>\n",
       "      <td>missing</td>\n",
       "      <td>1</td>\n",
       "      <td>missing</td>\n",
       "      <td>missing</td>\n",
       "      <td>...</td>\n",
       "      <td>missing</td>\n",
       "      <td>missing</td>\n",
       "      <td>1</td>\n",
       "      <td>missing</td>\n",
       "      <td>missing</td>\n",
       "      <td>0</td>\n",
       "      <td>missing</td>\n",
       "      <td>0</td>\n",
       "      <td>missing</td>\n",
       "      <td>missing</td>\n",
       "    </tr>\n",
       "    <tr>\n",
       "      <th>2</th>\n",
       "      <td>i</td>\n",
       "      <td>s</td>\n",
       "      <td>1</td>\n",
       "      <td>0</td>\n",
       "      <td>missing</td>\n",
       "      <td>missing</td>\n",
       "      <td>missing</td>\n",
       "      <td>1</td>\n",
       "      <td>missing</td>\n",
       "      <td>missing</td>\n",
       "      <td>...</td>\n",
       "      <td>missing</td>\n",
       "      <td>missing</td>\n",
       "      <td>1</td>\n",
       "      <td>missing</td>\n",
       "      <td>missing</td>\n",
       "      <td>1</td>\n",
       "      <td>missing</td>\n",
       "      <td>0</td>\n",
       "      <td>missing</td>\n",
       "      <td>missing</td>\n",
       "    </tr>\n",
       "  </tbody>\n",
       "</table>\n",
       "<p>3 rows × 28 columns</p>\n",
       "</div>"
      ],
      "text/plain": [
       "  token1 token2 token1_Sonorant token1_Back token1_Palatalized token1_Nasal  \\\n",
       "0      a      b               1           1            missing      missing   \n",
       "1      e      d               1           0            missing      missing   \n",
       "2      i      s               1           0            missing      missing   \n",
       "\n",
       "  token1_Voiced token1_Syllabic token1_Anterior token1_Continuant  ...  \\\n",
       "0       missing               1         missing           missing  ...   \n",
       "1       missing               1         missing           missing  ...   \n",
       "2       missing               1         missing           missing  ...   \n",
       "\n",
       "  token2_Nasal token2_Voiced token2_Syllabic token2_Anterior  \\\n",
       "0      missing       missing               1         missing   \n",
       "1      missing       missing               1         missing   \n",
       "2      missing       missing               1         missing   \n",
       "\n",
       "  token2_Continuant token2_High token2_Lateral token2_Low  \\\n",
       "0           missing           0        missing          1   \n",
       "1           missing           0        missing          0   \n",
       "2           missing           1        missing          0   \n",
       "\n",
       "  token2_Delayedrelease token2_Coronal  \n",
       "0               missing        missing  \n",
       "1               missing        missing  \n",
       "2               missing        missing  \n",
       "\n",
       "[3 rows x 28 columns]"
      ]
     },
     "execution_count": 129,
     "metadata": {},
     "output_type": "execute_result"
    }
   ],
   "source": [
    "for column_label in ['token1', 'token2']:\n",
    "    for feature in feature_names:\n",
    "        df[column_label + '_' + feature] = df['token1'].map(feature_matrix).apply(lambda x: x.get(feature, 'missing'))\n",
    "df"
   ]
  }
 ],
 "metadata": {
  "kernelspec": {
   "display_name": "Python 3",
   "language": "python",
   "name": "python3"
  },
  "language_info": {
   "codemirror_mode": {
    "name": "ipython",
    "version": 3
   },
   "file_extension": ".py",
   "mimetype": "text/x-python",
   "name": "python",
   "nbconvert_exporter": "python",
   "pygments_lexer": "ipython3",
   "version": "3.7.3"
  }
 },
 "nbformat": 4,
 "nbformat_minor": 2
}
