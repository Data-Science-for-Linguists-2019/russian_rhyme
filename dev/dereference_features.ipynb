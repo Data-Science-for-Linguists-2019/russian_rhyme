{
 "cells": [
  {
   "cell_type": "code",
   "execution_count": 34,
   "metadata": {},
   "outputs": [],
   "source": [
    "# https://stackoverflow.com/questions/30312566/python-how-to-get-values-from-a-dictionary-from-pandas-series\n",
    "import pandas as pd\n",
    "import json"
   ]
  },
  {
   "cell_type": "code",
   "execution_count": 68,
   "metadata": {},
   "outputs": [
    {
     "name": "stdout",
     "output_type": "stream",
     "text": [
      "1\n"
     ]
    }
   ],
   "source": [
    "with open('features.json') as json_file:\n",
    "    feature_matrix = json.load(json_file)\n",
    "feature_names = {feature for segment,features in feature_matrix.items() for feature in features}\n",
    "print(feature_matrix['a']['Syllabic'])"
   ]
  },
  {
   "cell_type": "code",
   "execution_count": 122,
   "metadata": {},
   "outputs": [
    {
     "data": {
      "text/html": [
       "<div>\n",
       "<style scoped>\n",
       "    .dataframe tbody tr th:only-of-type {\n",
       "        vertical-align: middle;\n",
       "    }\n",
       "\n",
       "    .dataframe tbody tr th {\n",
       "        vertical-align: top;\n",
       "    }\n",
       "\n",
       "    .dataframe thead th {\n",
       "        text-align: right;\n",
       "    }\n",
       "</style>\n",
       "<table border=\"1\" class=\"dataframe\">\n",
       "  <thead>\n",
       "    <tr style=\"text-align: right;\">\n",
       "      <th></th>\n",
       "      <th>token1</th>\n",
       "      <th>token2</th>\n",
       "      <th>token1_Sonorant</th>\n",
       "      <th>token1_Back</th>\n",
       "      <th>token1_Palatalized</th>\n",
       "      <th>token1_Nasal</th>\n",
       "      <th>token1_Voiced</th>\n",
       "      <th>token1_Syllabic</th>\n",
       "      <th>token1_Anterior</th>\n",
       "      <th>token1_Continuant</th>\n",
       "      <th>token1_High</th>\n",
       "      <th>token1_Lateral</th>\n",
       "      <th>token1_Low</th>\n",
       "      <th>token1_Delayedrelease</th>\n",
       "      <th>token1_Coronal</th>\n",
       "    </tr>\n",
       "  </thead>\n",
       "  <tbody>\n",
       "    <tr>\n",
       "      <th>0</th>\n",
       "      <td>a</td>\n",
       "      <td>b</td>\n",
       "      <td>1</td>\n",
       "      <td>1</td>\n",
       "      <td>hi</td>\n",
       "      <td>hi</td>\n",
       "      <td>hi</td>\n",
       "      <td>1</td>\n",
       "      <td>hi</td>\n",
       "      <td>hi</td>\n",
       "      <td>0</td>\n",
       "      <td>hi</td>\n",
       "      <td>1</td>\n",
       "      <td>hi</td>\n",
       "      <td>hi</td>\n",
       "    </tr>\n",
       "    <tr>\n",
       "      <th>1</th>\n",
       "      <td>e</td>\n",
       "      <td>d</td>\n",
       "      <td>1</td>\n",
       "      <td>0</td>\n",
       "      <td>hi</td>\n",
       "      <td>hi</td>\n",
       "      <td>hi</td>\n",
       "      <td>1</td>\n",
       "      <td>hi</td>\n",
       "      <td>hi</td>\n",
       "      <td>0</td>\n",
       "      <td>hi</td>\n",
       "      <td>0</td>\n",
       "      <td>hi</td>\n",
       "      <td>hi</td>\n",
       "    </tr>\n",
       "    <tr>\n",
       "      <th>2</th>\n",
       "      <td>i</td>\n",
       "      <td>s</td>\n",
       "      <td>1</td>\n",
       "      <td>0</td>\n",
       "      <td>hi</td>\n",
       "      <td>hi</td>\n",
       "      <td>hi</td>\n",
       "      <td>1</td>\n",
       "      <td>hi</td>\n",
       "      <td>hi</td>\n",
       "      <td>1</td>\n",
       "      <td>hi</td>\n",
       "      <td>0</td>\n",
       "      <td>hi</td>\n",
       "      <td>hi</td>\n",
       "    </tr>\n",
       "  </tbody>\n",
       "</table>\n",
       "</div>"
      ],
      "text/plain": [
       "  token1 token2 token1_Sonorant token1_Back token1_Palatalized token1_Nasal  \\\n",
       "0      a      b               1           1                 hi           hi   \n",
       "1      e      d               1           0                 hi           hi   \n",
       "2      i      s               1           0                 hi           hi   \n",
       "\n",
       "  token1_Voiced token1_Syllabic token1_Anterior token1_Continuant token1_High  \\\n",
       "0            hi               1              hi                hi           0   \n",
       "1            hi               1              hi                hi           0   \n",
       "2            hi               1              hi                hi           1   \n",
       "\n",
       "  token1_Lateral token1_Low token1_Delayedrelease token1_Coronal  \n",
       "0             hi          1                    hi             hi  \n",
       "1             hi          0                    hi             hi  \n",
       "2             hi          0                    hi             hi  "
      ]
     },
     "execution_count": 122,
     "metadata": {},
     "output_type": "execute_result"
    }
   ],
   "source": [
    "df = pd.DataFrame()\n",
    "df['token1'] = ['a', 'e', 'i']\n",
    "df['token2'] = ['b', 'd', 's']\n",
    "for feature in feature_names:\n",
    "    df['token1' + '_' + feature] = df['token1'].map(feature_matrix).apply(lambda x: x.get(feature, 'hi'))\n",
    "#     df['token1' + '_' + feature] = df.apply(lambda x: feature_matrix[x], axis=1)\n",
    "# [x for x in df['token1_Sonorant']]\n",
    "df"
   ]
  },
  {
   "cell_type": "code",
   "execution_count": null,
   "metadata": {},
   "outputs": [],
   "source": []
  },
  {
   "cell_type": "code",
   "execution_count": null,
   "metadata": {},
   "outputs": [],
   "source": []
  }
 ],
 "metadata": {
  "kernelspec": {
   "display_name": "Python 3",
   "language": "python",
   "name": "python3"
  },
  "language_info": {
   "codemirror_mode": {
    "name": "ipython",
    "version": 3
   },
   "file_extension": ".py",
   "mimetype": "text/x-python",
   "name": "python",
   "nbconvert_exporter": "python",
   "pygments_lexer": "ipython3",
   "version": "3.7.3"
  }
 },
 "nbformat": 4,
 "nbformat_minor": 2
}
