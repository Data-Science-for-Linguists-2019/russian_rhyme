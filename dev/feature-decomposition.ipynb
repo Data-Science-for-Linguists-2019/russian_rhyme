{
 "cells": [
  {
   "cell_type": "markdown",
   "metadata": {},
   "source": [
    "# Clustering by phonetic distinctive features\n",
    "\n",
    "2019-06-28, Prague"
   ]
  },
  {
   "cell_type": "markdown",
   "metadata": {},
   "source": [
    "## Left-align tables in notebook"
   ]
  },
  {
   "cell_type": "code",
   "execution_count": 2,
   "metadata": {},
   "outputs": [
    {
     "data": {
      "text/html": [
       "<style>\n",
       "<!-- table {float:left} -->\n",
       "  table {margin-left: 0 !important;}\n",
       "</style>\n"
      ],
      "text/plain": [
       "<IPython.core.display.HTML object>"
      ]
     },
     "metadata": {},
     "output_type": "display_data"
    }
   ],
   "source": [
    "%%html\n",
    "<style>\n",
    "<!-- table {float:left} -->\n",
    "  table {margin-left: 0 !important;}\n",
    "</style>"
   ]
  },
  {
   "cell_type": "markdown",
   "metadata": {},
   "source": [
    "## Description\n",
    "\n",
    "### Data\n",
    "\n",
    "* *sorvat′*\n",
    "* *sovrat′*\n",
    "* *orat′*\n",
    "\n",
    "In Real Life, we model only the *rhyme zone*, which we define as the last stressed vowel in the line (`t1`) and all postonic segments (`t2`–`tn`, where even numbers are consonant clusters \\[0 or more consonants\\] and odd numbers are vowels). In the case of open masculine rhyme, we include also the first pretonic consonant (`t0`). In this example, we pretend that stress falls on the first vowel in order to create an example with constrastive post-tonic consonant clusters."
   ]
  },
  {
   "cell_type": "markdown",
   "metadata": {},
   "source": [
    "### Tokenize\n",
    "\n",
    "Tokenize into V and C(C) sequences:\n",
    "\n",
    "* *s-o-rv-a-t′*\n",
    "* *s-o-vr-a-t′*\n",
    "* *o-r-a-t′*\n",
    "\n",
    "word | t0 | t1 | t2 | t3 | t4 \n",
    "---|---|---|---|---|---\n",
    "sOrvaT| s | O | rv | a | T \n",
    "sOvraT | s | O | vr | a | T \n",
    "OraT | - | O | r | a | T"
   ]
  },
  {
   "cell_type": "markdown",
   "metadata": {},
   "source": [
    "## One-hot encode the vowels\n",
    "\n",
    "`t1` (the tonic vowel) is replaced by five columns: **t1_A**, **t1_E**, **t1_I**, **t1_O**, **t1_U** (one of which is omitted by the function as a dummy; here we arbitrarily choose **t1_U**). Other (unstressed) vowels are replaced by three columns, e.g., **t3_a**, **t3_i**, **t3_u** (here we arbitrarily throw away **t3_u**). For this example we ignore **t0**, which is relevant only for open masculine rhyme.\n",
    "\n",
    "word|t1_A | t1_E | t1_I | t1_O |t2 | t3_a | t3_i | t4\n",
    "---|---|---|---|---|---|---|---|---\n",
    "sOrvaT | 0 | 0 | 0 | 1 | rv | 1 | 0 | T\n",
    "sOvraT | 0 | 0 | 0 | 1 | vr | 1 | 0 | T\n",
    "OraT | 0 | 0 | 0 | 1 | r | 1 | 0 | T"
   ]
  },
  {
   "cell_type": "markdown",
   "metadata": {},
   "source": [
    "In the following discussion (but not in practice) we simplify the vowel representations to make it easier to see the treatment of consonants, which is the focus of the method. Here we keep only a single vowel column for each of the two vowels.\n",
    "\n",
    "word| t1_O | t2 | t3_a | t4\n",
    "---|---|---|---|---\n",
    "sOrvaT | 1 | rv | 1 | T\n",
    "sOvraT | 1 | vr | 1 | T\n",
    "OraT | 1 | r | 1 | T"
   ]
  },
  {
   "cell_type": "markdown",
   "metadata": {},
   "source": [
    "## Multi-hot encode the consonants\n",
    "\n",
    "We create columns for each possible consonant and count the number of times the consonant appears in that position, whether alone or as part of cluster of two or more consonants. We lose information about the order of consonants in a cluster, e.g., /rv/ and /vr/ have the same representation). Because the values are ordinal (the number of times the consonant appears in the cluster, and not just a binary representation of whether it appears), we retain information about repetition. For example, /sts/ has a `2` value for the **s** feature and /st/ and /ts/ both have a `1` value.\n",
    "\n",
    "**(TODO: Can we retain information about order?)**"
   ]
  },
  {
   "cell_type": "markdown",
   "metadata": {},
   "source": [
    "In this exposition (but not in practice), we simplify the representation of the consonants by omitting most of the columns. \n",
    "\n",
    "word| t1_O | t2_r | t2_v | t3_a | t4_T\n",
    "---|---|---|---|---|---\n",
    "sOrvaT | 1 | 1 | 1 | 1 | 1 | 1\n",
    "sOvraT | 1 | 1 | 1 | 1 | 1 | 1\n",
    "OraT | 1 | 1 | 0 | 1 | 1 | 1"
   ]
  },
  {
   "cell_type": "markdown",
   "metadata": {},
   "source": [
    "Finally, for clarity in this description (but not in practice) we retain only the columns pertaining to **t2**.\n",
    "\n",
    "word | t2_r | t2_v\n",
    "---|---|---\n",
    "sOrvaT | 1 | 1\n",
    "sOvraT | 1 | 1\n",
    "OraT | 1 | 0"
   ]
  },
  {
   "cell_type": "markdown",
   "metadata": {},
   "source": [
    "## Decompose segment-by-position columns (e.g., **t2_r**) into binary phonetic distinctive features\n",
    "\n",
    "The features are:\n",
    "\n",
    "Segment | Syllabic | Consonantal | Sonorant | Anterior | Coronal | Palatalized | Nasal | Voiced | Continuant | Lateral | Delayed release\n",
    "---|---|---|---|---|---|---|---|---|---|---|--\n",
    "r | 0 | 1 | 1 | 1| 1 | 0 | 0 | 1 | 1 | 0 | 0\n",
    "v | 0 | 1 | 0 | 1 | 0 | 0 | 0 | 1 | 1 | 0 | 0"
   ]
  },
  {
   "cell_type": "markdown",
   "metadata": {},
   "source": [
    "**(TODO: revise distinctive feature chart)**"
   ]
  },
  {
   "cell_type": "markdown",
   "metadata": {},
   "source": [
    "Create columns for combinations of position and distinctive feature, where the value is the mean representation of the feature in question in all consonants in the cluster. Consonants that repeat in a cluster would be counted individually, so that, for example /sts/ would have a value of `0.67` for **continuant**.\n",
    "\n",
    "word | t2_syllabic | t2_consonantal | t2_sonorant | t2_anterior | t2_coronal | t2_palatalized | t2_nasal | t2_voiced | t2_continuant | t2_lateral | t2_delayed\n",
    "---|---|---|---|---|---|---|---|---|---|---|---\n",
    "sOrvaT | 0 | 1 | 0.5 | 1 | 0.5 | 0| 0| 1 | 1| 0| 0\n",
    "sOvraT | 0 | 1 | 0.5 | 1 | 0.5 | 0| 0| 1 | 1| 0| 0\n",
    "OraT | 0 | 1 | 1 | 1| 1 | 0 | 0 | 1 | 1 | 0 | 0"
   ]
  },
  {
   "cell_type": "markdown",
   "metadata": {},
   "source": [
    "## Discussion\n",
    "\n",
    "Above we identify three ways to represent information about consonant clusters:\n",
    "\n",
    "1. Tokenization (V ~ C(C)) and treatment of the consonant tokens as indivisible (that is, regarding /rv/ and /r/ each as a separate one-hot feature) fails to capture the fact that /rv/ and /r/ have something in common phonetically, that is, that both contain /r/.\n",
    "1. Decomposing consonant clusters into segments and multi-hot encoding on those segments improves on the preceding by capturing the fact that /rv/ and /r/ share a segment, that is, a feature that can be used for clustering. But it fails to capture the fact that the phonetic distance between segments, defined in terms of shared distinctive features, is variable. For example, the two segments in /rv/ agree on being **+continuant**, while those in /rb/ disagree on that feature, and therefore are more distant phonetically than the segments in /rv/. Encoding each segment as a feature means that /rv/ and /rb/ would both be represented as equally distant. (**Note:** Although perhaps they should be!)\n",
    "1. Distinctive feature decomposition improves on the preceding because it does not regard all segments as equally distant from all other segments. Instead, the distance is a function of the number of distinctive feature values the segments share. For example, the value for the **continuant** feature for /rv/ is `1`, since /r/ and /v/ are both **+continuant**, while the value for /rb/ is `0.5` because /r/ is **+continuant** and /b/ is **-continuant**."
   ]
  },
  {
   "cell_type": "markdown",
   "metadata": {},
   "source": [
    "## Possible complications\n",
    "\n",
    "1. The preceding approach weights all features equally. Are some features, though, more significant for identifying rhyme than others?\n",
    "1. The preceding approach treats all features as independent of one another, but some are contingent. For example, **+lateral** predetermines *all* other features except palatalization. Can we reduce overweighting due to redundancy by applying dimensionality reduction?\n",
    "1. We continue to lose, as with all methods discussed here, information about the *order* of consonants."
   ]
  },
  {
   "cell_type": "code",
   "execution_count": null,
   "metadata": {},
   "outputs": [],
   "source": []
  }
 ],
 "metadata": {
  "kernelspec": {
   "display_name": "Python 3",
   "language": "python",
   "name": "python3"
  },
  "language_info": {
   "codemirror_mode": {
    "name": "ipython",
    "version": 3
   },
   "file_extension": ".py",
   "mimetype": "text/x-python",
   "name": "python",
   "nbconvert_exporter": "python",
   "pygments_lexer": "ipython3",
   "version": "3.7.3"
  }
 },
 "nbformat": 4,
 "nbformat_minor": 2
}
