{
 "cells": [
  {
   "cell_type": "markdown",
   "metadata": {},
   "source": [
    "# Where do the clusters change from information to artifactual?\n",
    "\n",
    "Notes and experiments based on:\n",
    "\n",
    "* “SciPy hierarchical clustering and dendrogram tutorial”, Jörn’s Blog, <https://joernhees.de/blog/2015/08/26/scipy-hierarchical-clustering-and-dendrogram-tutorial/>\n",
    "* “Determining the number of clusters in a data set”, Wikipedia, <https://en.wikipedia.org/wiki/Determining_the_number_of_clusters_in_a_data_set>\n",
    "\n",
    "The first of these sources writes that “I honestly think it’s a really bad idea to just use any of those methods, unless you know the data you’re working on really really well.”"
   ]
  },
  {
   "cell_type": "markdown",
   "metadata": {},
   "source": [
    "## Import libraries"
   ]
  },
  {
   "cell_type": "code",
   "execution_count": 22,
   "metadata": {},
   "outputs": [],
   "source": [
    "from cyr2phon.cyrcluster import *\n",
    "import matplotlib.pyplot as plt\n",
    "from matplotlib import gridspec # supports different widths for subplots\n",
    "from scipy.cluster.hierarchy import inconsistent"
   ]
  },
  {
   "cell_type": "markdown",
   "metadata": {},
   "source": [
    "## Function to examine height information\n",
    "\n",
    "Returns Ward linkage object."
   ]
  },
  {
   "cell_type": "code",
   "execution_count": 20,
   "metadata": {},
   "outputs": [],
   "source": [
    "def examine_heights(df, ceiling):\n",
    "    stanzas = df.groupby(level=[0,1])\n",
    "    c = 0\n",
    "    for id, lines in stanzas:\n",
    "        if c < ceiling:\n",
    "            print(pd.concat([lines[\"Text\"].str.replace(r\"<[^>]+?>\", \"\"), \n",
    "                             lines[[\"RhymeWord\", \"RhymeZone\"]]], \n",
    "                            axis=1).to_string(index=False)) # diagnostic, suppress index for legibility\n",
    "            data = lines.copy().filter(regex=r\"^token\\d_\") # only one-hot features\n",
    "            labelList = list(range(1, len(lines)+1)) # labels are line numbers within stanza\n",
    "            data.loc[:,\"LineNo\"] = [2 * n / len(labelList) for n in labelList] # scale to avoid tyranny of proximity\n",
    "            ward = linkage(data, method=\"ward\")\n",
    "            print(ward)\n",
    "            fig = plt.figure(figsize=(15,5))\n",
    "            gs = gridspec.GridSpec(1, 2, width_ratios=[1, 2]) # specify subplots of different widths\n",
    "            ax = fig.add_subplot(gs[0])\n",
    "            ax.set_title('Ward linkage')\n",
    "            dendrogram(ward)\n",
    "            ax = fig.add_subplot(gs[1])\n",
    "            ax.set_title('Heights')\n",
    "            # plot lines separately to label them\n",
    "            x = range(len(ward))\n",
    "            heights = ward[:, 2]\n",
    "            nodecounts = ward[:, 3]\n",
    "            ax.plot(x, heights, label=(\"height\"))\n",
    "            for i, j in zip(x, heights):\n",
    "                ax.annotate(round(j, 2), xy=(i, j - 0.2))\n",
    "            ax.plot(x, nodecounts, label=(\"number of nodes\"))\n",
    "            for i, j in zip(x, nodecounts):\n",
    "                ax.annotate(int(j), xy=(i, j + 0.2))\n",
    "            ax.legend(loc='best')\n",
    "            plt.show()\n",
    "        c += 1\n",
    "        return ward"
   ]
  },
  {
   "cell_type": "markdown",
   "metadata": {},
   "source": [
    "## Examine sample data"
   ]
  },
  {
   "cell_type": "code",
   "execution_count": 21,
   "metadata": {},
   "outputs": [
    {
     "name": "stdout",
     "output_type": "stream",
     "text": [
      "                            Text  RhymeWord RhymeZone\n",
      " \"Мой дядя самых честных правил,     prAVil      AVil\n",
      "       Когда не в шутку занемог,    zaNimOk        Ok\n",
      "        Он уважать себя заставил   zastAVil      AVil\n",
      "        И лучше выдумать не мог.      NimOk        Ok\n",
      "        Его пример другим наука;      naUka       Uka\n",
      "       Но, боже мой, какая скука      skUka       Uka\n",
      " С больным сидеть и день и ночь,       inOČ        OČ\n",
      "        Не отходя ни шагу прочь!       prOČ        OČ\n",
      "          Какое низкое коварство  kavArstva    Arstva\n",
      "          Полу-живого забавлять,   zabavLAT        AT\n",
      "         Ему подушки поправлять,  papravLAT        AT\n",
      "   Печально подносить лекарство,  LikArstva    Arstva\n",
      "     Вздыхать и думать про себя:    praSiBA        BA\n",
      "    Когда же чорт возьмет тебя!\"       TiBA        BA\n",
      "[[ 4.          5.          0.14285714  2.        ]\n",
      " [ 9.         10.          0.14285714  2.        ]\n",
      " [ 6.          7.          0.14285714  2.        ]\n",
      " [12.         13.          0.14285714  2.        ]\n",
      " [ 0.          2.          0.28571429  2.        ]\n",
      " [ 1.          3.          0.28571429  2.        ]\n",
      " [ 8.         11.          0.42857143  2.        ]\n",
      " [16.         19.          2.19693664  4.        ]\n",
      " [15.         20.          2.44948974  4.        ]\n",
      " [17.         22.          2.79698574  6.        ]\n",
      " [14.         21.          3.05560709  6.        ]\n",
      " [23.         24.          3.74029356 12.        ]\n",
      " [18.         25.          4.41048534 14.        ]]\n"
     ]
    },
    {
     "data": {
      "image/png": "[encoded data removed]",
      "text/plain": [
       "<Figure size 1080x360 with 2 Axes>"
      ]
     },
     "metadata": {
      "needs_background": "light"
     },
     "output_type": "display_data"
    }
   ],
   "source": [
    "ward = examine_heights(explore(\"data_samples/eo1.xml\"), ceiling=2)"
   ]
  },
  {
   "cell_type": "markdown",
   "metadata": {},
   "source": [
    "## Inconsistency\n",
    "\n",
    "[scipy.cluster.hierarchy.inconsistent(*Z, depth=2*)](https://docs.scipy.org/doc/scipy/reference/generated/scipy.cluster.hierarchy.inconsistent.html)\n",
    "\n",
    "*Z* is the 4-column linkage matrix, where the third column is the height and the 4th is the number of clusters\n",
    "*depth* is the number of previous levels used for comparison\n",
    "\n",
    "Returns a 4-column matrix with 1) mean height of all links included and 2) standard deviation of the link heights, 3) the number of links included in the calculation, and 4) the inconsistency coefficient.\n",
    "\n",
    "Caution (Jörn): sensitive to value of *depth*."
   ]
  },
  {
   "cell_type": "code",
   "execution_count": 32,
   "metadata": {},
   "outputs": [
    {
     "name": "stdout",
     "output_type": "stream",
     "text": [
      "[[0.14285714 0.         1.         0.        ]\n",
      " [0.14285714 0.         1.         0.        ]\n",
      " [0.14285714 0.         1.         0.        ]\n",
      " [0.14285714 0.         1.         0.        ]\n",
      " [0.28571429 0.         1.         0.        ]\n",
      " [0.28571429 0.         1.         0.        ]\n",
      " [0.42857143 0.         1.         0.        ]\n",
      " [0.87516936 1.14691046 3.         1.152459  ]\n",
      " [1.00697277 1.25739794 3.         1.1472239 ]\n",
      " [1.79644421 1.44255018 3.         0.69359219]\n",
      " [1.79846696 1.49670025 3.         0.83994115]\n",
      " [3.1976288  0.48742695 3.         1.11332531]\n",
      " [2.8121644  2.21348184 3.         0.72208451]]\n",
      "[[ 0.14285714  0.          1.          0.        ]\n",
      " [ 0.14285714  0.          1.          0.        ]\n",
      " [ 0.14285714  0.          1.          0.        ]\n",
      " [ 0.14285714  0.          1.          0.        ]\n",
      " [ 0.28571429  0.          1.          0.        ]\n",
      " [ 0.28571429  0.          1.          0.        ]\n",
      " [ 0.42857143  0.          1.          0.        ]\n",
      " [ 0.87516936  1.14691046  3.          1.152459  ]\n",
      " [ 1.00697277  1.25739794  3.          1.1472239 ]\n",
      " [ 1.19215224  1.31733483  5.          1.21824267]\n",
      " [ 1.16479446  1.36948746  5.          1.38067174]\n",
      " [ 1.4113661   1.42869284 11.          1.63011068]\n",
      " [ 1.55547898  1.59173516 13.          1.79364409]]\n"
     ]
    }
   ],
   "source": [
    "print(inconsistent(ward, 2))\n",
    "print(inconsistent(ward, 100))"
   ]
  },
  {
   "cell_type": "markdown",
   "metadata": {},
   "source": [
    "The biggest jump seems, not surprisingly, to be at the transition from 2-item clusters to larger ones. "
   ]
  },
  {
   "cell_type": "markdown",
   "metadata": {},
   "source": [
    "## Elbow\n",
    "\n",
    "Percentage of variance explained as a function of total clusters. <https://en.wikipedia.org/wiki/Elbow_method_(clustering)>. Cut at the point where adding another cluster ceases to add significant information about variance."
   ]
  },
  {
   "cell_type": "code",
   "execution_count": null,
   "metadata": {},
   "outputs": [],
   "source": []
  }
 ],
 "metadata": {
  "kernelspec": {
   "display_name": "Python 3",
   "language": "python",
   "name": "python3"
  },
  "language_info": {
   "codemirror_mode": {
    "name": "ipython",
    "version": 3
   },
   "file_extension": ".py",
   "mimetype": "text/x-python",
   "name": "python",
   "nbconvert_exporter": "python",
   "pygments_lexer": "ipython3",
   "version": "3.7.3"
  }
 },
 "nbformat": 4,
 "nbformat_minor": 2
}
