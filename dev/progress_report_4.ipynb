{
 "cells": [
  {
   "cell_type": "markdown",
   "metadata": {},
   "source": [
    "# Progress report 4 notebook"
   ]
  },
  {
   "cell_type": "markdown",
   "metadata": {},
   "source": [
    "## Overview\n",
    "This notebook loads and parses a sample of the XML data used in the project. A general report that includes more information about the project is available in the [project report](../docs/progress_report.md).\n",
    "\n",
    "This notebook continues progress reports 1–3, integrating improvements, corrections, and new functionality. This is the *existing* option for report 3, renamed for easy access to and comparison of the three stages. Major changes from earlier approach (see [Progress report 3](progress_report_3.ipynb) for details) are:\n",
    "\n",
    "1. Decomposition is into C(C)/V, rather than syllables\n",
    "2. Rhymes is identified by segments, rather than distinctive features\n",
    "\n",
    "Phonetic distinctive features will return for evaluating and analyzing rhyming lines, even if no longer for identifying them."
   ]
  },
  {
   "cell_type": "markdown",
   "metadata": {},
   "source": [
    "## Sample data\n",
    "\n",
    "The sample dataset consists of multiple stanzas from a long poem. An artificial one-stanza extract looks like the following:"
   ]
  },
  {
   "cell_type": "markdown",
   "metadata": {},
   "source": [
    "```xml\n",
    "<poem opid=\"Eo.1\">\n",
    "    <stanza stanzaNo=\"001\">\n",
    "        <line lineNo=\"001\">\"Мой дядя самых честных пр<stress>а</stress>вил,</line>\n",
    "        <line lineNo=\"002\">Когда не в шутку занем<stress>о</stress>г,</line>\n",
    "        <line lineNo=\"003\">Он уважать себя заст<stress>а</stress>вил</line>\n",
    "        <line lineNo=\"004\">И лучше выдумать не м<stress>о</stress>г.</line>\n",
    "        <line lineNo=\"005\">Его пример другим на<stress>у</stress>ка;</line>\n",
    "        <line lineNo=\"006\">Но, боже мой, какая ск<stress>у</stress>ка</line>\n",
    "        <line lineNo=\"007\">С больным сидеть и день и н<stress>о</stress>чь,</line>\n",
    "        <line lineNo=\"008\">Не отходя ни шагу пр<stress>о</stress>чь!</line>\n",
    "        <line lineNo=\"009\">Какое низкое ков<stress>а</stress>рство</line>\n",
    "        <line lineNo=\"010\">Полу-живого забавл<stress>я</stress>ть,</line>\n",
    "        <line lineNo=\"011\">Ему подушки поправл<stress>я</stress>ть,</line>\n",
    "        <line lineNo=\"012\">Печально подносить лек<stress>а</stress>рство,</line>\n",
    "        <line lineNo=\"013\">Вздыхать и думать про себ<stress>я</stress>:</line>\n",
    "        <line lineNo=\"014\">Когда же чорт возьмет теб<stress>я</stress>!\"</line>\n",
    "    </stanza>\n",
    "</poem>   \n",
    "```"
   ]
  },
  {
   "cell_type": "markdown",
   "metadata": {},
   "source": [
    "## Reload libraries each time, since we’re tinkering with them"
   ]
  },
  {
   "cell_type": "code",
   "execution_count": 1,
   "metadata": {},
   "outputs": [],
   "source": [
    "%load_ext autoreload\n",
    "%autoreload 2"
   ]
  },
  {
   "cell_type": "markdown",
   "metadata": {},
   "source": [
    "## Load libraries"
   ]
  },
  {
   "cell_type": "code",
   "execution_count": 2,
   "metadata": {},
   "outputs": [],
   "source": [
    "from xml.dom import pulldom  # parse input XML\n",
    "from xml.dom.minidom import Document  # construct output XML\n",
    "import numpy as np\n",
    "import pandas as pd\n",
    "from scipy import stats\n",
    "from scipy.cluster.hierarchy import dendrogram, linkage\n",
    "# see https://joernhees.de/blog/2015/08/26/scipy-hierarchical-clustering-and-dendrogram-tutorial/\n",
    "from scipy.cluster.hierarchy import cophenet\n",
    "from scipy.spatial.distance import pdist\n",
    "import matplotlib.pyplot as plt\n",
    "%matplotlib inline\n",
    "import regex as re\n",
    "from cyr2phon import cyr2phon  # custom package\n",
    "pd.set_option('display.max_colwidth', -1) # show all text in cell, without truncation; default is 50"
   ]
  },
  {
   "cell_type": "markdown",
   "metadata": {},
   "source": [
    "## Class and variables for parsing input XML"
   ]
  },
  {
   "cell_type": "code",
   "execution_count": 3,
   "metadata": {},
   "outputs": [],
   "source": [
    "class Stack(list):  # keep track of open nodes while constructing XML output\n",
    "    def push(self, item):\n",
    "        self.append(item)\n",
    "\n",
    "    def peek(self):  \n",
    "        return self[-1]\n",
    "\n",
    "\n",
    "open_elements = Stack()\n",
    "WS_RE = re.compile(r'\\s+')  # normalize white space in output"
   ]
  },
  {
   "cell_type": "markdown",
   "metadata": {},
   "source": [
    "## Function to parse the XML\n",
    "\n",
    "Returns a list of lists, with stanza number, line number, and `<line>` element for each line. We use the light-weight *xml.dom.pulldom* library to parse the input XML and *xml.dom.minidom* to construct the lines as simplified XML, removing elements we don’t care about, such as `<latin>` and `<italic>`, before serializing them to the output. (We actually do care about `<latin>`, but we are ignoring it temporarily, and we’ll return to it at a later stage in the project.)"
   ]
  },
  {
   "cell_type": "code",
   "execution_count": 4,
   "metadata": {},
   "outputs": [],
   "source": [
    "def process(input_xml):\n",
    "    poemId = \"\"\n",
    "    stanzaNo = 0\n",
    "    lineNo = 0\n",
    "    inline = 0  # flag to control behavior inside and outside lines\n",
    "    result = []  # array of arrays, one per line, with stanzaNo, lineNo, and serialized XML\n",
    "    doc = pulldom.parse(input_xml)\n",
    "    for event, node in doc:\n",
    "        if event == pulldom.START_ELEMENT and node.localName == 'poem':\n",
    "            poemId = node.getAttribute(\"opid\")\n",
    "        elif event == pulldom.START_ELEMENT and node.localName == 'stanza':\n",
    "            stanzaNo = node.getAttribute(\"stanzaNo\")\n",
    "        elif event == pulldom.START_ELEMENT and node.localName == 'line':\n",
    "            d = Document()  # each line is an output XML document\n",
    "            open_elements.push(d)  # document node\n",
    "            lineNo = node.getAttribute(\"lineNo\")\n",
    "            inline = 1  # we’re inside a line\n",
    "            open_elements.peek().appendChild(node)  # add as child of current node in output tree\n",
    "            open_elements.push(node)  # keep track of open elements\n",
    "        elif event == pulldom.END_ELEMENT and node.localName == 'line':\n",
    "            inline = 0  # when we finish our work here, we’ll no longer be inside a line\n",
    "            open_elements.pop()  # line is finished\n",
    "            # serialize XML, strip declaration, rewrite &quot; entity as character\n",
    "            result.append([poemId, int(stanzaNo), int(lineNo),\n",
    "                WS_RE.sub(\" \" ,\n",
    "                open_elements.pop().toxml().replace('<?xml version=\"1.0\" ?>', '').replace('&quot;', '\"'))])\n",
    "        elif event == pulldom.START_ELEMENT and node.localName == 'stress':\n",
    "            open_elements.peek().appendChild(node)  # add as child of current node in output tree\n",
    "            open_elements.push(node)  # keep track of open elements\n",
    "        elif event == pulldom.END_ELEMENT and node.localName == 'stress':\n",
    "            open_elements.pop()  # stress element is finished\n",
    "        elif event == pulldom.CHARACTERS and inline:  # keep text only inside lines\n",
    "            t = d.createTextNode(node.data)\n",
    "            open_elements.peek().appendChild(t)\n",
    "    return result"
   ]
  },
  {
   "cell_type": "markdown",
   "metadata": {},
   "source": [
    "## Parse the XML into an array of arrays"
   ]
  },
  {
   "cell_type": "code",
   "execution_count": 5,
   "metadata": {},
   "outputs": [
    {
     "data": {
      "text/plain": [
       "[['Eo.1',\n",
       "  1,\n",
       "  1,\n",
       "  '<line lineNo=\"001\">\"Мой дядя самых честных пр<stress>а</stress>вил,</line>'],\n",
       " ['Eo.1',\n",
       "  1,\n",
       "  2,\n",
       "  '<line lineNo=\"002\">Когда не в шутку занем<stress>о</stress>г,</line>'],\n",
       " ['Eo.1',\n",
       "  1,\n",
       "  3,\n",
       "  '<line lineNo=\"003\">Он уважать себя заст<stress>а</stress>вил</line>'],\n",
       " ['Eo.1',\n",
       "  1,\n",
       "  4,\n",
       "  '<line lineNo=\"004\">И лучше выдумать не м<stress>о</stress>г.</line>'],\n",
       " ['Eo.1',\n",
       "  1,\n",
       "  5,\n",
       "  '<line lineNo=\"005\">Его пример другим на<stress>у</stress>ка;</line>']]"
      ]
     },
     "execution_count": 5,
     "metadata": {},
     "output_type": "execute_result"
    }
   ],
   "source": [
    "# Uncomment one of the two lines below depending on whether you have access to the full data\n",
    "# data = \"data_samples/eo1.xml\" # public sample data\n",
    "data = \"../data/eo-all.xml\" # private full data\n",
    "\n",
    "with open(data) as f:\n",
    "    all_lines = process(f)\n",
    "all_lines[:5]  # take a look"
   ]
  },
  {
   "cell_type": "markdown",
   "metadata": {},
   "source": [
    "## General descriptive information: the wrong way\n",
    "\n",
    "Here is the wrong way to get general information; it assumes that all stanzas contain 14 lines. There are four that don’t:\n",
    "\n",
    "1. 3.3 has 8 lines\n",
    "1. 4.37 has 13 lines\n",
    "1. 8.2 has 4 lines\n",
    "1. 8.25 has 8 lines"
   ]
  },
  {
   "cell_type": "code",
   "execution_count": 6,
   "metadata": {},
   "outputs": [
    {
     "name": "stdout",
     "output_type": "stream",
     "text": [
      "There are 364.35714285714283 14-line stanzas in this sample, with a total of 5101 lines.\n",
      "Since we know that the poem is fully rhymed, there are 2550.5 rhyme pairs in the sample.\n"
     ]
    }
   ],
   "source": [
    "line_count = len(all_lines)\n",
    "print ('There are ' + str(line_count / 14) + ' 14-line stanzas in this sample, with a total of ' + \n",
    "       str(line_count) + ' lines.\\nSince we know that the poem is fully rhymed, there are ' + \n",
    "       str(line_count / 2) + ' rhyme pairs in the sample.')"
   ]
  },
  {
   "cell_type": "markdown",
   "metadata": {},
   "source": [
    "That’s all wrong. We’ll fix it after we write the data into a dataframe."
   ]
  },
  {
   "cell_type": "markdown",
   "metadata": {},
   "source": [
    "## Write the data into a dataframe"
   ]
  },
  {
   "cell_type": "code",
   "execution_count": 7,
   "metadata": {},
   "outputs": [
    {
     "data": {
      "text/html": [
       "<div>\n",
       "<style scoped>\n",
       "    .dataframe tbody tr th:only-of-type {\n",
       "        vertical-align: middle;\n",
       "    }\n",
       "\n",
       "    .dataframe tbody tr th {\n",
       "        vertical-align: top;\n",
       "    }\n",
       "\n",
       "    .dataframe thead th {\n",
       "        text-align: right;\n",
       "    }\n",
       "</style>\n",
       "<table border=\"1\" class=\"dataframe\">\n",
       "  <thead>\n",
       "    <tr style=\"text-align: right;\">\n",
       "      <th></th>\n",
       "      <th>PoemId</th>\n",
       "      <th>StanzaNo</th>\n",
       "      <th>LineNo</th>\n",
       "      <th>Text</th>\n",
       "    </tr>\n",
       "  </thead>\n",
       "  <tbody>\n",
       "    <tr>\n",
       "      <th>0</th>\n",
       "      <td>Eo.1</td>\n",
       "      <td>1</td>\n",
       "      <td>1</td>\n",
       "      <td>&lt;line lineNo=\"001\"&gt;\"Мой дядя самых честных пр&lt;stress&gt;а&lt;/stress&gt;вил,&lt;/line&gt;</td>\n",
       "    </tr>\n",
       "    <tr>\n",
       "      <th>1</th>\n",
       "      <td>Eo.1</td>\n",
       "      <td>1</td>\n",
       "      <td>2</td>\n",
       "      <td>&lt;line lineNo=\"002\"&gt;Когда не в шутку занем&lt;stress&gt;о&lt;/stress&gt;г,&lt;/line&gt;</td>\n",
       "    </tr>\n",
       "    <tr>\n",
       "      <th>2</th>\n",
       "      <td>Eo.1</td>\n",
       "      <td>1</td>\n",
       "      <td>3</td>\n",
       "      <td>&lt;line lineNo=\"003\"&gt;Он уважать себя заст&lt;stress&gt;а&lt;/stress&gt;вил&lt;/line&gt;</td>\n",
       "    </tr>\n",
       "    <tr>\n",
       "      <th>3</th>\n",
       "      <td>Eo.1</td>\n",
       "      <td>1</td>\n",
       "      <td>4</td>\n",
       "      <td>&lt;line lineNo=\"004\"&gt;И лучше выдумать не м&lt;stress&gt;о&lt;/stress&gt;г.&lt;/line&gt;</td>\n",
       "    </tr>\n",
       "    <tr>\n",
       "      <th>4</th>\n",
       "      <td>Eo.1</td>\n",
       "      <td>1</td>\n",
       "      <td>5</td>\n",
       "      <td>&lt;line lineNo=\"005\"&gt;Его пример другим на&lt;stress&gt;у&lt;/stress&gt;ка;&lt;/line&gt;</td>\n",
       "    </tr>\n",
       "  </tbody>\n",
       "</table>\n",
       "</div>"
      ],
      "text/plain": [
       "  PoemId  StanzaNo  LineNo  \\\n",
       "0  Eo.1   1         1        \n",
       "1  Eo.1   1         2        \n",
       "2  Eo.1   1         3        \n",
       "3  Eo.1   1         4        \n",
       "4  Eo.1   1         5        \n",
       "\n",
       "                                                                         Text  \n",
       "0  <line lineNo=\"001\">\"Мой дядя самых честных пр<stress>а</stress>вил,</line>  \n",
       "1  <line lineNo=\"002\">Когда не в шутку занем<stress>о</stress>г,</line>        \n",
       "2  <line lineNo=\"003\">Он уважать себя заст<stress>а</stress>вил</line>         \n",
       "3  <line lineNo=\"004\">И лучше выдумать не м<stress>о</stress>г.</line>         \n",
       "4  <line lineNo=\"005\">Его пример другим на<stress>у</stress>ка;</line>         "
      ]
     },
     "execution_count": 7,
     "metadata": {},
     "output_type": "execute_result"
    }
   ],
   "source": [
    "df = pd.DataFrame(all_lines, columns=[\"PoemId\", \"StanzaNo\", \"LineNo\", \"Text\"])\n",
    "df.head(5)"
   ]
  },
  {
   "cell_type": "markdown",
   "metadata": {},
   "source": [
    "## Descriptive information about the cantos, stanzas, and lines"
   ]
  },
  {
   "cell_type": "code",
   "execution_count": 8,
   "metadata": {},
   "outputs": [
    {
     "name": "stdout",
     "output_type": "stream",
     "text": [
      "<class 'pandas.core.frame.DataFrame'>\n",
      "RangeIndex: 5101 entries, 0 to 5100\n",
      "Data columns (total 4 columns):\n",
      "PoemId      5101 non-null object\n",
      "StanzaNo    5101 non-null int64\n",
      "LineNo      5101 non-null int64\n",
      "Text        5101 non-null object\n",
      "dtypes: int64(2), object(2)\n",
      "memory usage: 159.5+ KB\n"
     ]
    }
   ],
   "source": [
    "df.info()"
   ]
  },
  {
   "cell_type": "code",
   "execution_count": 9,
   "metadata": {},
   "outputs": [
    {
     "name": "stdout",
     "output_type": "stream",
     "text": [
      "PoemId\n",
      "Eo.1    756\n",
      "Eo.2    560\n",
      "Eo.3    568\n",
      "Eo.4    601\n",
      "Eo.5    588\n",
      "Eo.6    602\n",
      "Eo.7    728\n",
      "Eo.8    698\n",
      "Name: StanzaNo, dtype: int64\n"
     ]
    }
   ],
   "source": [
    "cantos = df.groupby(\"PoemId\").count()\n",
    "print(cantos[\"StanzaNo\"]) # line count by canto"
   ]
  },
  {
   "cell_type": "markdown",
   "metadata": {},
   "source": [
    "### Stanzas with fewer than 14 lines (or, in theory, more)"
   ]
  },
  {
   "cell_type": "code",
   "execution_count": 10,
   "metadata": {},
   "outputs": [
    {
     "data": {
      "text/plain": [
       "PoemId  StanzaNo\n",
       "Eo.3    3           8 \n",
       "Eo.4    37          13\n",
       "Eo.8    2           4 \n",
       "        25          8 \n",
       "Name: LineNo, dtype: int64"
      ]
     },
     "execution_count": 10,
     "metadata": {},
     "output_type": "execute_result"
    }
   ],
   "source": [
    "df.groupby([\"PoemId\", \"StanzaNo\"]).filter(lambda x: x[\"LineNo\"].count() != 14).groupby([\"PoemId\", \"StanzaNo\"]).count()[\"LineNo\"]"
   ]
  },
  {
   "cell_type": "markdown",
   "metadata": {},
   "source": [
    "### Lines without stress"
   ]
  },
  {
   "cell_type": "code",
   "execution_count": 11,
   "metadata": {},
   "outputs": [
    {
     "data": {
      "text/html": [
       "<div>\n",
       "<style scoped>\n",
       "    .dataframe tbody tr th:only-of-type {\n",
       "        vertical-align: middle;\n",
       "    }\n",
       "\n",
       "    .dataframe tbody tr th {\n",
       "        vertical-align: top;\n",
       "    }\n",
       "\n",
       "    .dataframe thead th {\n",
       "        text-align: right;\n",
       "    }\n",
       "</style>\n",
       "<table border=\"1\" class=\"dataframe\">\n",
       "  <thead>\n",
       "    <tr style=\"text-align: right;\">\n",
       "      <th></th>\n",
       "      <th>PoemId</th>\n",
       "      <th>StanzaNo</th>\n",
       "      <th>LineNo</th>\n",
       "      <th>Text</th>\n",
       "    </tr>\n",
       "  </thead>\n",
       "  <tbody>\n",
       "    <tr>\n",
       "      <th>2302</th>\n",
       "      <td>Eo.4</td>\n",
       "      <td>37</td>\n",
       "      <td>13</td>\n",
       "      <td>&lt;line lineNo=\"013\"&gt;И одевался...&lt;/line&gt;</td>\n",
       "    </tr>\n",
       "  </tbody>\n",
       "</table>\n",
       "</div>"
      ],
      "text/plain": [
       "     PoemId  StanzaNo  LineNo                                     Text\n",
       "2302  Eo.4   37        13      <line lineNo=\"013\">И одевался...</line>"
      ]
     },
     "execution_count": 11,
     "metadata": {},
     "output_type": "execute_result"
    }
   ],
   "source": [
    "df[df[\"Text\"].str.contains(\"stress\") == False]"
   ]
  },
  {
   "cell_type": "markdown",
   "metadata": {},
   "source": [
    "### Lines with non-Cyrillic stress\n",
    "\n",
    "Rhyme reports about these lines are likely to be wrong. Do something about it eventually."
   ]
  },
  {
   "cell_type": "code",
   "execution_count": 12,
   "metadata": {},
   "outputs": [
    {
     "data": {
      "text/html": [
       "<div>\n",
       "<style scoped>\n",
       "    .dataframe tbody tr th:only-of-type {\n",
       "        vertical-align: middle;\n",
       "    }\n",
       "\n",
       "    .dataframe tbody tr th {\n",
       "        vertical-align: top;\n",
       "    }\n",
       "\n",
       "    .dataframe thead th {\n",
       "        text-align: right;\n",
       "    }\n",
       "</style>\n",
       "<table border=\"1\" class=\"dataframe\">\n",
       "  <thead>\n",
       "    <tr style=\"text-align: right;\">\n",
       "      <th></th>\n",
       "      <th>PoemId</th>\n",
       "      <th>StanzaNo</th>\n",
       "      <th>LineNo</th>\n",
       "      <th>Text</th>\n",
       "    </tr>\n",
       "  </thead>\n",
       "  <tbody>\n",
       "    <tr>\n",
       "      <th>75</th>\n",
       "      <td>Eo.1</td>\n",
       "      <td>6</td>\n",
       "      <td>6</td>\n",
       "      <td>&lt;line lineNo=\"006\"&gt;В конце письма поставить v&lt;stress&gt;a&lt;/stress&gt;le, &lt;/line&gt;</td>\n",
       "    </tr>\n",
       "    <tr>\n",
       "      <th>192</th>\n",
       "      <td>Eo.1</td>\n",
       "      <td>17</td>\n",
       "      <td>11</td>\n",
       "      <td>&lt;line lineNo=\"011\"&gt;Готов охлопать entrech&lt;stress&gt;a&lt;/stress&gt;t, &lt;/line&gt;</td>\n",
       "    </tr>\n",
       "    <tr>\n",
       "      <th>1340</th>\n",
       "      <td>Eo.3</td>\n",
       "      <td>2</td>\n",
       "      <td>11</td>\n",
       "      <td>&lt;line lineNo=\"011\"&gt;И слез, и рифм et ceter&lt;stress&gt;a&lt;/stress&gt; ?:&lt;/line&gt;</td>\n",
       "    </tr>\n",
       "    <tr>\n",
       "      <th>2187</th>\n",
       "      <td>Eo.4</td>\n",
       "      <td>28</td>\n",
       "      <td>10</td>\n",
       "      <td>&lt;line lineNo=\"010\"&gt; Qu'écrirez-vous sur ces tabl&lt;stress&gt;e&lt;/stress&gt;ttes; &lt;/line&gt;</td>\n",
       "    </tr>\n",
       "    <tr>\n",
       "      <th>2188</th>\n",
       "      <td>Eo.4</td>\n",
       "      <td>28</td>\n",
       "      <td>11</td>\n",
       "      <td>&lt;line lineNo=\"011\"&gt;И подпись: t. à v. Ann&lt;stress&gt;e&lt;/stress&gt;tte; &lt;/line&gt;</td>\n",
       "    </tr>\n",
       "    <tr>\n",
       "      <th>2368</th>\n",
       "      <td>Eo.4</td>\n",
       "      <td>43</td>\n",
       "      <td>10</td>\n",
       "      <td>&lt;line lineNo=\"010\"&gt;Читай: вот Прадт, вот W. Sc&lt;stress&gt;o&lt;/stress&gt;tt. &lt;/line&gt;</td>\n",
       "    </tr>\n",
       "    <tr>\n",
       "      <th>2856</th>\n",
       "      <td>Eo.5</td>\n",
       "      <td>27</td>\n",
       "      <td>8</td>\n",
       "      <td>&lt;line lineNo=\"008\"&gt; Réveillez vous, belle endorm&lt;stress&gt;i&lt;/stress&gt;e. &lt;/line&gt;</td>\n",
       "    </tr>\n",
       "    <tr>\n",
       "      <th>2861</th>\n",
       "      <td>Eo.5</td>\n",
       "      <td>27</td>\n",
       "      <td>13</td>\n",
       "      <td>&lt;line lineNo=\"013\"&gt;И смело вместо belle Nin&lt;stress&gt;a&lt;/stress&gt; &lt;/line&gt;</td>\n",
       "    </tr>\n",
       "    <tr>\n",
       "      <th>2862</th>\n",
       "      <td>Eo.5</td>\n",
       "      <td>27</td>\n",
       "      <td>14</td>\n",
       "      <td>&lt;line lineNo=\"014\"&gt;Поставил belle Tatian&lt;stress&gt;a&lt;/stress&gt;. &lt;/line&gt;</td>\n",
       "    </tr>\n",
       "    <tr>\n",
       "      <th>3410</th>\n",
       "      <td>Eo.6</td>\n",
       "      <td>27</td>\n",
       "      <td>2</td>\n",
       "      <td>&lt;line lineNo=\"002\"&gt;\"Вот он: мой друг, monsieur Guill&lt;stress&gt;o&lt;/stress&gt;t. &lt;/line&gt;</td>\n",
       "    </tr>\n",
       "    <tr>\n",
       "      <th>4076</th>\n",
       "      <td>Eo.7</td>\n",
       "      <td>31</td>\n",
       "      <td>10</td>\n",
       "      <td>&lt;line lineNo=\"010\"&gt;Горшки, тазы et ceter&lt;stress&gt;a&lt;/stress&gt;, &lt;/line&gt;</td>\n",
       "    </tr>\n",
       "    <tr>\n",
       "      <th>4702</th>\n",
       "      <td>Eo.8</td>\n",
       "      <td>23</td>\n",
       "      <td>2</td>\n",
       "      <td>&lt;line lineNo=\"002\"&gt;Сей неприятный tête-à-t&lt;stress&gt;ê&lt;/stress&gt;te; &lt;/line&gt;</td>\n",
       "    </tr>\n",
       "    <tr>\n",
       "      <th>4916</th>\n",
       "      <td>Eo.8</td>\n",
       "      <td>38</td>\n",
       "      <td>12</td>\n",
       "      <td>&lt;line lineNo=\"012\"&gt;И он мурлыкал: Bened&lt;stress&gt;e&lt;/stress&gt;tta &lt;/line&gt;</td>\n",
       "    </tr>\n",
       "  </tbody>\n",
       "</table>\n",
       "</div>"
      ],
      "text/plain": [
       "     PoemId  StanzaNo  LineNo  \\\n",
       "75    Eo.1   6         6        \n",
       "192   Eo.1   17        11       \n",
       "1340  Eo.3   2         11       \n",
       "2187  Eo.4   28        10       \n",
       "2188  Eo.4   28        11       \n",
       "2368  Eo.4   43        10       \n",
       "2856  Eo.5   27        8        \n",
       "2861  Eo.5   27        13       \n",
       "2862  Eo.5   27        14       \n",
       "3410  Eo.6   27        2        \n",
       "4076  Eo.7   31        10       \n",
       "4702  Eo.8   23        2        \n",
       "4916  Eo.8   38        12       \n",
       "\n",
       "                                                                                  Text  \n",
       "75    <line lineNo=\"006\">В конце письма поставить v<stress>a</stress>le, </line>        \n",
       "192   <line lineNo=\"011\">Готов охлопать entrech<stress>a</stress>t, </line>             \n",
       "1340  <line lineNo=\"011\">И слез, и рифм et ceter<stress>a</stress> ?:</line>            \n",
       "2187  <line lineNo=\"010\"> Qu'écrirez-vous sur ces tabl<stress>e</stress>ttes; </line>   \n",
       "2188  <line lineNo=\"011\">И подпись: t. à v. Ann<stress>e</stress>tte; </line>           \n",
       "2368  <line lineNo=\"010\">Читай: вот Прадт, вот W. Sc<stress>o</stress>tt. </line>       \n",
       "2856  <line lineNo=\"008\"> Réveillez vous, belle endorm<stress>i</stress>e. </line>      \n",
       "2861  <line lineNo=\"013\">И смело вместо belle Nin<stress>a</stress> </line>             \n",
       "2862  <line lineNo=\"014\">Поставил belle Tatian<stress>a</stress>. </line>               \n",
       "3410  <line lineNo=\"002\">\"Вот он: мой друг, monsieur Guill<stress>o</stress>t. </line>  \n",
       "4076  <line lineNo=\"010\">Горшки, тазы et ceter<stress>a</stress>, </line>               \n",
       "4702  <line lineNo=\"002\">Сей неприятный tête-à-t<stress>ê</stress>te; </line>           \n",
       "4916  <line lineNo=\"012\">И он мурлыкал: Bened<stress>e</stress>tta </line>              "
      ]
     },
     "execution_count": 12,
     "metadata": {},
     "output_type": "execute_result"
    }
   ],
   "source": [
    "df[df[\"Text\"].str.contains(r'<stress>[^а-яА-Я]</stress>')][[\"PoemId\", \"StanzaNo\", \"LineNo\", \"Text\"]]"
   ]
  },
  {
   "cell_type": "markdown",
   "metadata": {},
   "source": [
    "## Transliterate all lines and save in new column\n",
    "\n",
    "1. Because only the last stress in the line is marked, the phonetic representation of all words except the last is incorrect. That doesn’t matter for the analysis of end rhyme.\n",
    "1. Words in foreign languages are not being treated specially, and are therefore usually phonetically incorrect. That *does* matter for the analysis of end rhyme. Deal with it later, first by excluding those lines (revise the XML parsing to record that information), and eventually by phoneticizing them correctly.\n",
    "1. The `transliterate()` function is part of the [custom *cyr2phon* package](cyr2phon/cyr2phon.py)."
   ]
  },
  {
   "cell_type": "code",
   "execution_count": 13,
   "metadata": {},
   "outputs": [
    {
     "data": {
      "text/html": [
       "<div>\n",
       "<style scoped>\n",
       "    .dataframe tbody tr th:only-of-type {\n",
       "        vertical-align: middle;\n",
       "    }\n",
       "\n",
       "    .dataframe tbody tr th {\n",
       "        vertical-align: top;\n",
       "    }\n",
       "\n",
       "    .dataframe thead th {\n",
       "        text-align: right;\n",
       "    }\n",
       "</style>\n",
       "<table border=\"1\" class=\"dataframe\">\n",
       "  <thead>\n",
       "    <tr style=\"text-align: right;\">\n",
       "      <th></th>\n",
       "      <th>PoemId</th>\n",
       "      <th>StanzaNo</th>\n",
       "      <th>LineNo</th>\n",
       "      <th>Text</th>\n",
       "      <th>Phonetic</th>\n",
       "    </tr>\n",
       "  </thead>\n",
       "  <tbody>\n",
       "    <tr>\n",
       "      <th>0</th>\n",
       "      <td>Eo.1</td>\n",
       "      <td>1</td>\n",
       "      <td>1</td>\n",
       "      <td>&lt;line lineNo=\"001\"&gt;\"Мой дядя самых честных пр&lt;stress&gt;а&lt;/stress&gt;вил,&lt;/line&gt;</td>\n",
       "      <td>maJ DiDi samix Čistnix prAVil</td>\n",
       "    </tr>\n",
       "    <tr>\n",
       "      <th>1</th>\n",
       "      <td>Eo.1</td>\n",
       "      <td>1</td>\n",
       "      <td>2</td>\n",
       "      <td>&lt;line lineNo=\"002\"&gt;Когда не в шутку занем&lt;stress&gt;о&lt;/stress&gt;г,&lt;/line&gt;</td>\n",
       "      <td>kagda Nifšutku zaNimOk</td>\n",
       "    </tr>\n",
       "    <tr>\n",
       "      <th>2</th>\n",
       "      <td>Eo.1</td>\n",
       "      <td>1</td>\n",
       "      <td>3</td>\n",
       "      <td>&lt;line lineNo=\"003\"&gt;Он уважать себя заст&lt;stress&gt;а&lt;/stress&gt;вил&lt;/line&gt;</td>\n",
       "      <td>an uvažaT SiBi zastAVil</td>\n",
       "    </tr>\n",
       "    <tr>\n",
       "      <th>3</th>\n",
       "      <td>Eo.1</td>\n",
       "      <td>1</td>\n",
       "      <td>4</td>\n",
       "      <td>&lt;line lineNo=\"004\"&gt;И лучше выдумать не м&lt;stress&gt;о&lt;/stress&gt;г.&lt;/line&gt;</td>\n",
       "      <td>iluČši vidumaT NimOk</td>\n",
       "    </tr>\n",
       "    <tr>\n",
       "      <th>4</th>\n",
       "      <td>Eo.1</td>\n",
       "      <td>1</td>\n",
       "      <td>5</td>\n",
       "      <td>&lt;line lineNo=\"005\"&gt;Его пример другим на&lt;stress&gt;у&lt;/stress&gt;ка;&lt;/line&gt;</td>\n",
       "      <td>Jiva pRiMir druGim naUka</td>\n",
       "    </tr>\n",
       "  </tbody>\n",
       "</table>\n",
       "</div>"
      ],
      "text/plain": [
       "  PoemId  StanzaNo  LineNo  \\\n",
       "0  Eo.1   1         1        \n",
       "1  Eo.1   1         2        \n",
       "2  Eo.1   1         3        \n",
       "3  Eo.1   1         4        \n",
       "4  Eo.1   1         5        \n",
       "\n",
       "                                                                         Text  \\\n",
       "0  <line lineNo=\"001\">\"Мой дядя самых честных пр<stress>а</stress>вил,</line>   \n",
       "1  <line lineNo=\"002\">Когда не в шутку занем<stress>о</stress>г,</line>         \n",
       "2  <line lineNo=\"003\">Он уважать себя заст<stress>а</stress>вил</line>          \n",
       "3  <line lineNo=\"004\">И лучше выдумать не м<stress>о</stress>г.</line>          \n",
       "4  <line lineNo=\"005\">Его пример другим на<stress>у</stress>ка;</line>          \n",
       "\n",
       "                        Phonetic  \n",
       "0  maJ DiDi samix Čistnix prAVil  \n",
       "1  kagda Nifšutku zaNimOk         \n",
       "2  an uvažaT SiBi zastAVil        \n",
       "3  iluČši vidumaT NimOk           \n",
       "4  Jiva pRiMir druGim naUka       "
      ]
     },
     "execution_count": 13,
     "metadata": {},
     "output_type": "execute_result"
    }
   ],
   "source": [
    "trans_vec = np.vectorize(cyr2phon.transliterate)\n",
    "df[\"Phonetic\"] = trans_vec(df[\"Text\"])\n",
    "df.head()  # take a look"
   ]
  },
  {
   "cell_type": "markdown",
   "metadata": {},
   "source": [
    "## Write the rhyme word into a new column"
   ]
  },
  {
   "cell_type": "code",
   "execution_count": 14,
   "metadata": {},
   "outputs": [
    {
     "data": {
      "text/html": [
       "<div>\n",
       "<style scoped>\n",
       "    .dataframe tbody tr th:only-of-type {\n",
       "        vertical-align: middle;\n",
       "    }\n",
       "\n",
       "    .dataframe tbody tr th {\n",
       "        vertical-align: top;\n",
       "    }\n",
       "\n",
       "    .dataframe thead th {\n",
       "        text-align: right;\n",
       "    }\n",
       "</style>\n",
       "<table border=\"1\" class=\"dataframe\">\n",
       "  <thead>\n",
       "    <tr style=\"text-align: right;\">\n",
       "      <th></th>\n",
       "      <th>PoemId</th>\n",
       "      <th>StanzaNo</th>\n",
       "      <th>LineNo</th>\n",
       "      <th>Text</th>\n",
       "      <th>Phonetic</th>\n",
       "      <th>RhymeWord</th>\n",
       "    </tr>\n",
       "  </thead>\n",
       "  <tbody>\n",
       "    <tr>\n",
       "      <th>0</th>\n",
       "      <td>Eo.1</td>\n",
       "      <td>1</td>\n",
       "      <td>1</td>\n",
       "      <td>&lt;line lineNo=\"001\"&gt;\"Мой дядя самых честных пр&lt;stress&gt;а&lt;/stress&gt;вил,&lt;/line&gt;</td>\n",
       "      <td>maJ DiDi samix Čistnix prAVil</td>\n",
       "      <td>prAVil</td>\n",
       "    </tr>\n",
       "    <tr>\n",
       "      <th>1</th>\n",
       "      <td>Eo.1</td>\n",
       "      <td>1</td>\n",
       "      <td>2</td>\n",
       "      <td>&lt;line lineNo=\"002\"&gt;Когда не в шутку занем&lt;stress&gt;о&lt;/stress&gt;г,&lt;/line&gt;</td>\n",
       "      <td>kagda Nifšutku zaNimOk</td>\n",
       "      <td>zaNimOk</td>\n",
       "    </tr>\n",
       "    <tr>\n",
       "      <th>2</th>\n",
       "      <td>Eo.1</td>\n",
       "      <td>1</td>\n",
       "      <td>3</td>\n",
       "      <td>&lt;line lineNo=\"003\"&gt;Он уважать себя заст&lt;stress&gt;а&lt;/stress&gt;вил&lt;/line&gt;</td>\n",
       "      <td>an uvažaT SiBi zastAVil</td>\n",
       "      <td>zastAVil</td>\n",
       "    </tr>\n",
       "    <tr>\n",
       "      <th>3</th>\n",
       "      <td>Eo.1</td>\n",
       "      <td>1</td>\n",
       "      <td>4</td>\n",
       "      <td>&lt;line lineNo=\"004\"&gt;И лучше выдумать не м&lt;stress&gt;о&lt;/stress&gt;г.&lt;/line&gt;</td>\n",
       "      <td>iluČši vidumaT NimOk</td>\n",
       "      <td>NimOk</td>\n",
       "    </tr>\n",
       "    <tr>\n",
       "      <th>4</th>\n",
       "      <td>Eo.1</td>\n",
       "      <td>1</td>\n",
       "      <td>5</td>\n",
       "      <td>&lt;line lineNo=\"005\"&gt;Его пример другим на&lt;stress&gt;у&lt;/stress&gt;ка;&lt;/line&gt;</td>\n",
       "      <td>Jiva pRiMir druGim naUka</td>\n",
       "      <td>naUka</td>\n",
       "    </tr>\n",
       "  </tbody>\n",
       "</table>\n",
       "</div>"
      ],
      "text/plain": [
       "  PoemId  StanzaNo  LineNo  \\\n",
       "0  Eo.1   1         1        \n",
       "1  Eo.1   1         2        \n",
       "2  Eo.1   1         3        \n",
       "3  Eo.1   1         4        \n",
       "4  Eo.1   1         5        \n",
       "\n",
       "                                                                         Text  \\\n",
       "0  <line lineNo=\"001\">\"Мой дядя самых честных пр<stress>а</stress>вил,</line>   \n",
       "1  <line lineNo=\"002\">Когда не в шутку занем<stress>о</stress>г,</line>         \n",
       "2  <line lineNo=\"003\">Он уважать себя заст<stress>а</stress>вил</line>          \n",
       "3  <line lineNo=\"004\">И лучше выдумать не м<stress>о</stress>г.</line>          \n",
       "4  <line lineNo=\"005\">Его пример другим на<stress>у</stress>ка;</line>          \n",
       "\n",
       "                        Phonetic RhymeWord  \n",
       "0  maJ DiDi samix Čistnix prAVil  prAVil    \n",
       "1  kagda Nifšutku zaNimOk         zaNimOk   \n",
       "2  an uvažaT SiBi zastAVil        zastAVil  \n",
       "3  iluČši vidumaT NimOk           NimOk     \n",
       "4  Jiva pRiMir druGim naUka       naUka     "
      ]
     },
     "execution_count": 14,
     "metadata": {},
     "output_type": "execute_result"
    }
   ],
   "source": [
    "df[\"RhymeWord\"] = df[\"Phonetic\"].str.split().str[-1] # clitics have already been joined\n",
    "df.head()  # take a look"
   ]
  },
  {
   "cell_type": "markdown",
   "metadata": {},
   "source": [
    "## Identify rhyme zone and write into new column\n",
    "\n",
    "The *rhyme zone* is the portion of the line that participates in line end-rhyme. According to Russian rhyming conventions, the rhyme zone typically begins with the last stressed vowel of the line and continues until the end of the line. The one exception is that open masculine rhyme (that is, rhyme involving stress on a final syllable that ends in a vowel, e.g., **себя́** *[SiBA]*) also requires a *supporting consonant*, that is, it also requires that the consonants *before the stressed vowels* (not otherwise considered part of the rhyme zone* also agree. For example:\n",
    "\n",
    "* _see_ and _tree_ do not rhyme in Russian because this open (ends in a vowel sound) masculine (stress on the final syllable) rhyme does not have a supporting consonant (consonants before the stressed vowels do not agree).\n",
    "* *seat* and *treat* do rhyme in Russian because closed (ends in a consonant sound) masculine (stress on the final syllable) rhyme does not require a supporting consonant, so the lack of phonetic correspondence between the consonants before the stressed vowels does not matter.\n",
    "\n",
    "Russian rhyme may also be *enriched* by phonetic agreement or similarity outside the rhyme zone. For example, *stop* and *strop* constitute a perfect rhyme because the *op* sounds match. Nonetheless, the match of *st* before the rhyme zone enhances, or enriches, the rhyme. The present study ignores enrichment and concentrates only on the core rhyme components, but enrichment will be incorporated into the analysis at a later stage.\n",
    "\n",
    "With that said, this first pass at identifying the rhyme zone removes the pretonic segments, but not the final consonant of a pretonic onset where a supporting consonant is not needed. More cleaning to follow!"
   ]
  },
  {
   "cell_type": "code",
   "execution_count": 15,
   "metadata": {},
   "outputs": [
    {
     "name": "stdout",
     "output_type": "stream",
     "text": [
      "iaDivalSi\n",
      "têti-à-tÊti\n"
     ]
    },
    {
     "data": {
      "text/html": [
       "<div>\n",
       "<style scoped>\n",
       "    .dataframe tbody tr th:only-of-type {\n",
       "        vertical-align: middle;\n",
       "    }\n",
       "\n",
       "    .dataframe tbody tr th {\n",
       "        vertical-align: top;\n",
       "    }\n",
       "\n",
       "    .dataframe thead th {\n",
       "        text-align: right;\n",
       "    }\n",
       "</style>\n",
       "<table border=\"1\" class=\"dataframe\">\n",
       "  <thead>\n",
       "    <tr style=\"text-align: right;\">\n",
       "      <th></th>\n",
       "      <th>PoemId</th>\n",
       "      <th>StanzaNo</th>\n",
       "      <th>LineNo</th>\n",
       "      <th>Text</th>\n",
       "      <th>Phonetic</th>\n",
       "      <th>RhymeWord</th>\n",
       "      <th>RhymeZone</th>\n",
       "    </tr>\n",
       "  </thead>\n",
       "  <tbody>\n",
       "    <tr>\n",
       "      <th>0</th>\n",
       "      <td>Eo.1</td>\n",
       "      <td>1</td>\n",
       "      <td>1</td>\n",
       "      <td>&lt;line lineNo=\"001\"&gt;\"Мой дядя самых честных пр&lt;stress&gt;а&lt;/stress&gt;вил,&lt;/line&gt;</td>\n",
       "      <td>maJ DiDi samix Čistnix prAVil</td>\n",
       "      <td>prAVil</td>\n",
       "      <td>AVil</td>\n",
       "    </tr>\n",
       "    <tr>\n",
       "      <th>1</th>\n",
       "      <td>Eo.1</td>\n",
       "      <td>1</td>\n",
       "      <td>2</td>\n",
       "      <td>&lt;line lineNo=\"002\"&gt;Когда не в шутку занем&lt;stress&gt;о&lt;/stress&gt;г,&lt;/line&gt;</td>\n",
       "      <td>kagda Nifšutku zaNimOk</td>\n",
       "      <td>zaNimOk</td>\n",
       "      <td>Ok</td>\n",
       "    </tr>\n",
       "    <tr>\n",
       "      <th>2</th>\n",
       "      <td>Eo.1</td>\n",
       "      <td>1</td>\n",
       "      <td>3</td>\n",
       "      <td>&lt;line lineNo=\"003\"&gt;Он уважать себя заст&lt;stress&gt;а&lt;/stress&gt;вил&lt;/line&gt;</td>\n",
       "      <td>an uvažaT SiBi zastAVil</td>\n",
       "      <td>zastAVil</td>\n",
       "      <td>AVil</td>\n",
       "    </tr>\n",
       "    <tr>\n",
       "      <th>3</th>\n",
       "      <td>Eo.1</td>\n",
       "      <td>1</td>\n",
       "      <td>4</td>\n",
       "      <td>&lt;line lineNo=\"004\"&gt;И лучше выдумать не м&lt;stress&gt;о&lt;/stress&gt;г.&lt;/line&gt;</td>\n",
       "      <td>iluČši vidumaT NimOk</td>\n",
       "      <td>NimOk</td>\n",
       "      <td>Ok</td>\n",
       "    </tr>\n",
       "    <tr>\n",
       "      <th>4</th>\n",
       "      <td>Eo.1</td>\n",
       "      <td>1</td>\n",
       "      <td>5</td>\n",
       "      <td>&lt;line lineNo=\"005\"&gt;Его пример другим на&lt;stress&gt;у&lt;/stress&gt;ка;&lt;/line&gt;</td>\n",
       "      <td>Jiva pRiMir druGim naUka</td>\n",
       "      <td>naUka</td>\n",
       "      <td>Uka</td>\n",
       "    </tr>\n",
       "    <tr>\n",
       "      <th>5</th>\n",
       "      <td>Eo.1</td>\n",
       "      <td>1</td>\n",
       "      <td>6</td>\n",
       "      <td>&lt;line lineNo=\"006\"&gt;Но, боже мой, какая ск&lt;stress&gt;у&lt;/stress&gt;ка&lt;/line&gt;</td>\n",
       "      <td>nabaži maJ kakaJi skUka</td>\n",
       "      <td>skUka</td>\n",
       "      <td>Uka</td>\n",
       "    </tr>\n",
       "    <tr>\n",
       "      <th>6</th>\n",
       "      <td>Eo.1</td>\n",
       "      <td>1</td>\n",
       "      <td>7</td>\n",
       "      <td>&lt;line lineNo=\"007\"&gt;С больным сидеть и день и н&lt;stress&gt;о&lt;/stress&gt;чь,&lt;/line&gt;</td>\n",
       "      <td>zbaLnim SiDiT iDiN inOČ</td>\n",
       "      <td>inOČ</td>\n",
       "      <td>OČ</td>\n",
       "    </tr>\n",
       "    <tr>\n",
       "      <th>7</th>\n",
       "      <td>Eo.1</td>\n",
       "      <td>1</td>\n",
       "      <td>8</td>\n",
       "      <td>&lt;line lineNo=\"008\"&gt;Не отходя ни шагу пр&lt;stress&gt;о&lt;/stress&gt;чь!&lt;/line&gt;</td>\n",
       "      <td>NiatxaDi Nišagu prOČ</td>\n",
       "      <td>prOČ</td>\n",
       "      <td>OČ</td>\n",
       "    </tr>\n",
       "    <tr>\n",
       "      <th>8</th>\n",
       "      <td>Eo.1</td>\n",
       "      <td>1</td>\n",
       "      <td>9</td>\n",
       "      <td>&lt;line lineNo=\"009\"&gt;Какое низкое ков&lt;stress&gt;а&lt;/stress&gt;рство&lt;/line&gt;</td>\n",
       "      <td>kakaJi NiskaJi kavArstva</td>\n",
       "      <td>kavArstva</td>\n",
       "      <td>Arstva</td>\n",
       "    </tr>\n",
       "    <tr>\n",
       "      <th>9</th>\n",
       "      <td>Eo.1</td>\n",
       "      <td>1</td>\n",
       "      <td>10</td>\n",
       "      <td>&lt;line lineNo=\"010\"&gt;Полу-живого забавл&lt;stress&gt;я&lt;/stress&gt;ть,&lt;/line&gt;</td>\n",
       "      <td>palu-živava zabavLAT</td>\n",
       "      <td>zabavLAT</td>\n",
       "      <td>AT</td>\n",
       "    </tr>\n",
       "    <tr>\n",
       "      <th>10</th>\n",
       "      <td>Eo.1</td>\n",
       "      <td>1</td>\n",
       "      <td>11</td>\n",
       "      <td>&lt;line lineNo=\"011\"&gt;Ему подушки поправл&lt;stress&gt;я&lt;/stress&gt;ть,&lt;/line&gt;</td>\n",
       "      <td>Jimu padušKi papravLAT</td>\n",
       "      <td>papravLAT</td>\n",
       "      <td>AT</td>\n",
       "    </tr>\n",
       "    <tr>\n",
       "      <th>11</th>\n",
       "      <td>Eo.1</td>\n",
       "      <td>1</td>\n",
       "      <td>12</td>\n",
       "      <td>&lt;line lineNo=\"012\"&gt;Печально подносить лек&lt;stress&gt;а&lt;/stress&gt;рство,&lt;/line&gt;</td>\n",
       "      <td>PiČiLna padnaSiT LikArstva</td>\n",
       "      <td>LikArstva</td>\n",
       "      <td>Arstva</td>\n",
       "    </tr>\n",
       "    <tr>\n",
       "      <th>12</th>\n",
       "      <td>Eo.1</td>\n",
       "      <td>1</td>\n",
       "      <td>13</td>\n",
       "      <td>&lt;line lineNo=\"013\"&gt;Вздыхать и думать про себ&lt;stress&gt;я&lt;/stress&gt;:&lt;/line&gt;</td>\n",
       "      <td>vzdixaT idumaT praSiBA</td>\n",
       "      <td>praSiBA</td>\n",
       "      <td>BA</td>\n",
       "    </tr>\n",
       "    <tr>\n",
       "      <th>13</th>\n",
       "      <td>Eo.1</td>\n",
       "      <td>1</td>\n",
       "      <td>14</td>\n",
       "      <td>&lt;line lineNo=\"014\"&gt;Когда же чорт возьмет теб&lt;stress&gt;я&lt;/stress&gt;!\"&lt;/line&gt;</td>\n",
       "      <td>kagdaži Čirt vaZMit TiBA</td>\n",
       "      <td>TiBA</td>\n",
       "      <td>BA</td>\n",
       "    </tr>\n",
       "  </tbody>\n",
       "</table>\n",
       "</div>"
      ],
      "text/plain": [
       "   PoemId  StanzaNo  LineNo  \\\n",
       "0   Eo.1   1         1        \n",
       "1   Eo.1   1         2        \n",
       "2   Eo.1   1         3        \n",
       "3   Eo.1   1         4        \n",
       "4   Eo.1   1         5        \n",
       "5   Eo.1   1         6        \n",
       "6   Eo.1   1         7        \n",
       "7   Eo.1   1         8        \n",
       "8   Eo.1   1         9        \n",
       "9   Eo.1   1         10       \n",
       "10  Eo.1   1         11       \n",
       "11  Eo.1   1         12       \n",
       "12  Eo.1   1         13       \n",
       "13  Eo.1   1         14       \n",
       "\n",
       "                                                                          Text  \\\n",
       "0   <line lineNo=\"001\">\"Мой дядя самых честных пр<stress>а</stress>вил,</line>   \n",
       "1   <line lineNo=\"002\">Когда не в шутку занем<stress>о</stress>г,</line>         \n",
       "2   <line lineNo=\"003\">Он уважать себя заст<stress>а</stress>вил</line>          \n",
       "3   <line lineNo=\"004\">И лучше выдумать не м<stress>о</stress>г.</line>          \n",
       "4   <line lineNo=\"005\">Его пример другим на<stress>у</stress>ка;</line>          \n",
       "5   <line lineNo=\"006\">Но, боже мой, какая ск<stress>у</stress>ка</line>         \n",
       "6   <line lineNo=\"007\">С больным сидеть и день и н<stress>о</stress>чь,</line>   \n",
       "7   <line lineNo=\"008\">Не отходя ни шагу пр<stress>о</stress>чь!</line>          \n",
       "8   <line lineNo=\"009\">Какое низкое ков<stress>а</stress>рство</line>            \n",
       "9   <line lineNo=\"010\">Полу-живого забавл<stress>я</stress>ть,</line>            \n",
       "10  <line lineNo=\"011\">Ему подушки поправл<stress>я</stress>ть,</line>           \n",
       "11  <line lineNo=\"012\">Печально подносить лек<stress>а</stress>рство,</line>     \n",
       "12  <line lineNo=\"013\">Вздыхать и думать про себ<stress>я</stress>:</line>       \n",
       "13  <line lineNo=\"014\">Когда же чорт возьмет теб<stress>я</stress>!\"</line>      \n",
       "\n",
       "                         Phonetic  RhymeWord RhymeZone  \n",
       "0   maJ DiDi samix Čistnix prAVil  prAVil     AVil      \n",
       "1   kagda Nifšutku zaNimOk         zaNimOk    Ok        \n",
       "2   an uvažaT SiBi zastAVil        zastAVil   AVil      \n",
       "3   iluČši vidumaT NimOk           NimOk      Ok        \n",
       "4   Jiva pRiMir druGim naUka       naUka      Uka       \n",
       "5   nabaži maJ kakaJi skUka        skUka      Uka       \n",
       "6   zbaLnim SiDiT iDiN inOČ        inOČ       OČ        \n",
       "7   NiatxaDi Nišagu prOČ           prOČ       OČ        \n",
       "8   kakaJi NiskaJi kavArstva       kavArstva  Arstva    \n",
       "9   palu-živava zabavLAT           zabavLAT   AT        \n",
       "10  Jimu padušKi papravLAT         papravLAT  AT        \n",
       "11  PiČiLna padnaSiT LikArstva     LikArstva  Arstva    \n",
       "12  vzdixaT idumaT praSiBA         praSiBA    BA        \n",
       "13  kagdaži Čirt vaZMit TiBA       TiBA       BA        "
      ]
     },
     "execution_count": 15,
     "metadata": {},
     "output_type": "execute_result"
    }
   ],
   "source": [
    "rhymezonepat = re.compile(r'(.?[AEIOU]$)|([AEIOU].*$)')\n",
    "def remove_pretonic_segments(s: str) -> str: # removes segments in place\n",
    "    try:\n",
    "        return rhymezonepat.search(s).group(0)\n",
    "    except: # modify this to raise a real error, instead of just reporting\n",
    "        print(s)\n",
    "df[\"RhymeZone\"] = df[\"RhymeWord\"].apply(remove_pretonic_segments)\n",
    "df.head(14)"
   ]
  },
  {
   "cell_type": "markdown",
   "metadata": {},
   "source": [
    "## Tokenize rhyme zone into C(C) and V\n",
    "\n",
    "We may have some null values in the rhyme zone for incomplete lines that have no final stressed syllable (*EO* 37: 13) and foreign words that we may not be handling properly (*EO* 23:2). Check for those:"
   ]
  },
  {
   "cell_type": "code",
   "execution_count": 16,
   "metadata": {},
   "outputs": [
    {
     "data": {
      "text/html": [
       "<div>\n",
       "<style scoped>\n",
       "    .dataframe tbody tr th:only-of-type {\n",
       "        vertical-align: middle;\n",
       "    }\n",
       "\n",
       "    .dataframe tbody tr th {\n",
       "        vertical-align: top;\n",
       "    }\n",
       "\n",
       "    .dataframe thead th {\n",
       "        text-align: right;\n",
       "    }\n",
       "</style>\n",
       "<table border=\"1\" class=\"dataframe\">\n",
       "  <thead>\n",
       "    <tr style=\"text-align: right;\">\n",
       "      <th></th>\n",
       "      <th>PoemId</th>\n",
       "      <th>StanzaNo</th>\n",
       "      <th>LineNo</th>\n",
       "      <th>Text</th>\n",
       "      <th>Phonetic</th>\n",
       "      <th>RhymeWord</th>\n",
       "      <th>RhymeZone</th>\n",
       "    </tr>\n",
       "  </thead>\n",
       "  <tbody>\n",
       "    <tr>\n",
       "      <th>2302</th>\n",
       "      <td>Eo.4</td>\n",
       "      <td>37</td>\n",
       "      <td>13</td>\n",
       "      <td>&lt;line lineNo=\"013\"&gt;И одевался...&lt;/line&gt;</td>\n",
       "      <td>iaDivalSi</td>\n",
       "      <td>iaDivalSi</td>\n",
       "      <td>None</td>\n",
       "    </tr>\n",
       "    <tr>\n",
       "      <th>4702</th>\n",
       "      <td>Eo.8</td>\n",
       "      <td>23</td>\n",
       "      <td>2</td>\n",
       "      <td>&lt;line lineNo=\"002\"&gt;Сей неприятный tête-à-t&lt;stress&gt;ê&lt;/stress&gt;te; &lt;/line&gt;</td>\n",
       "      <td>SiJ NipRiJitniJ têti-à-tÊti</td>\n",
       "      <td>têti-à-tÊti</td>\n",
       "      <td>None</td>\n",
       "    </tr>\n",
       "  </tbody>\n",
       "</table>\n",
       "</div>"
      ],
      "text/plain": [
       "     PoemId  StanzaNo  LineNo  \\\n",
       "2302  Eo.4   37        13       \n",
       "4702  Eo.8   23        2        \n",
       "\n",
       "                                                                         Text  \\\n",
       "2302  <line lineNo=\"013\">И одевался...</line>                                   \n",
       "4702  <line lineNo=\"002\">Сей неприятный tête-à-t<stress>ê</stress>te; </line>   \n",
       "\n",
       "                         Phonetic    RhymeWord RhymeZone  \n",
       "2302  iaDivalSi                    iaDivalSi    None      \n",
       "4702  SiJ NipRiJitniJ têti-à-tÊti  têti-à-tÊti  None      "
      ]
     },
     "execution_count": 16,
     "metadata": {},
     "output_type": "execute_result"
    }
   ],
   "source": [
    "df[df[\"RhymeZone\"].isnull()]"
   ]
  },
  {
   "cell_type": "markdown",
   "metadata": {},
   "source": [
    "Filter them out provisionally by writing in a placeholder value:"
   ]
  },
  {
   "cell_type": "code",
   "execution_count": 17,
   "metadata": {},
   "outputs": [
    {
     "data": {
      "text/html": [
       "<div>\n",
       "<style scoped>\n",
       "    .dataframe tbody tr th:only-of-type {\n",
       "        vertical-align: middle;\n",
       "    }\n",
       "\n",
       "    .dataframe tbody tr th {\n",
       "        vertical-align: top;\n",
       "    }\n",
       "\n",
       "    .dataframe thead th {\n",
       "        text-align: right;\n",
       "    }\n",
       "</style>\n",
       "<table border=\"1\" class=\"dataframe\">\n",
       "  <thead>\n",
       "    <tr style=\"text-align: right;\">\n",
       "      <th></th>\n",
       "      <th>PoemId</th>\n",
       "      <th>StanzaNo</th>\n",
       "      <th>LineNo</th>\n",
       "      <th>Text</th>\n",
       "      <th>Phonetic</th>\n",
       "      <th>RhymeWord</th>\n",
       "      <th>RhymeZone</th>\n",
       "    </tr>\n",
       "  </thead>\n",
       "  <tbody>\n",
       "    <tr>\n",
       "      <th>2302</th>\n",
       "      <td>Eo.4</td>\n",
       "      <td>37</td>\n",
       "      <td>13</td>\n",
       "      <td>&lt;line lineNo=\"013\"&gt;И одевался...&lt;/line&gt;</td>\n",
       "      <td>iaDivalSi</td>\n",
       "      <td>iaDivalSi</td>\n",
       "      <td>Abcde</td>\n",
       "    </tr>\n",
       "    <tr>\n",
       "      <th>4702</th>\n",
       "      <td>Eo.8</td>\n",
       "      <td>23</td>\n",
       "      <td>2</td>\n",
       "      <td>&lt;line lineNo=\"002\"&gt;Сей неприятный tête-à-t&lt;stress&gt;ê&lt;/stress&gt;te; &lt;/line&gt;</td>\n",
       "      <td>SiJ NipRiJitniJ têti-à-tÊti</td>\n",
       "      <td>têti-à-tÊti</td>\n",
       "      <td>Abcde</td>\n",
       "    </tr>\n",
       "  </tbody>\n",
       "</table>\n",
       "</div>"
      ],
      "text/plain": [
       "     PoemId  StanzaNo  LineNo  \\\n",
       "2302  Eo.4   37        13       \n",
       "4702  Eo.8   23        2        \n",
       "\n",
       "                                                                         Text  \\\n",
       "2302  <line lineNo=\"013\">И одевался...</line>                                   \n",
       "4702  <line lineNo=\"002\">Сей неприятный tête-à-t<stress>ê</stress>te; </line>   \n",
       "\n",
       "                         Phonetic    RhymeWord RhymeZone  \n",
       "2302  iaDivalSi                    iaDivalSi    Abcde     \n",
       "4702  SiJ NipRiJitniJ têti-à-tÊti  têti-à-tÊti  Abcde     "
      ]
     },
     "execution_count": 17,
     "metadata": {},
     "output_type": "execute_result"
    }
   ],
   "source": [
    "df.loc[df[\"RhymeZone\"].isnull(), \"RhymeZone\"] = \"Abcde\"\n",
    "df[df[\"RhymeZone\"] == \"Abcde\"]"
   ]
  },
  {
   "cell_type": "code",
   "execution_count": 18,
   "metadata": {},
   "outputs": [
    {
     "data": {
      "text/html": [
       "<div>\n",
       "<style scoped>\n",
       "    .dataframe tbody tr th:only-of-type {\n",
       "        vertical-align: middle;\n",
       "    }\n",
       "\n",
       "    .dataframe tbody tr th {\n",
       "        vertical-align: top;\n",
       "    }\n",
       "\n",
       "    .dataframe thead th {\n",
       "        text-align: right;\n",
       "    }\n",
       "</style>\n",
       "<table border=\"1\" class=\"dataframe\">\n",
       "  <thead>\n",
       "    <tr style=\"text-align: right;\">\n",
       "      <th></th>\n",
       "      <th>StanzaNo</th>\n",
       "      <th>LineNo</th>\n",
       "      <th>Text</th>\n",
       "      <th>RhymeWord</th>\n",
       "      <th>token0</th>\n",
       "      <th>token1</th>\n",
       "      <th>token2</th>\n",
       "      <th>token3</th>\n",
       "      <th>token4</th>\n",
       "      <th>token5</th>\n",
       "    </tr>\n",
       "  </thead>\n",
       "  <tbody>\n",
       "    <tr>\n",
       "      <th>0</th>\n",
       "      <td>1</td>\n",
       "      <td>1</td>\n",
       "      <td>&lt;line lineNo=\"001\"&gt;\"Мой дядя самых честных пр&lt;stress&gt;а&lt;/stress&gt;вил,&lt;/line&gt;</td>\n",
       "      <td>prAVil</td>\n",
       "      <td>missing</td>\n",
       "      <td>A</td>\n",
       "      <td>V</td>\n",
       "      <td>i</td>\n",
       "      <td>l</td>\n",
       "      <td>missing</td>\n",
       "    </tr>\n",
       "    <tr>\n",
       "      <th>1</th>\n",
       "      <td>1</td>\n",
       "      <td>2</td>\n",
       "      <td>&lt;line lineNo=\"002\"&gt;Когда не в шутку занем&lt;stress&gt;о&lt;/stress&gt;г,&lt;/line&gt;</td>\n",
       "      <td>zaNimOk</td>\n",
       "      <td>missing</td>\n",
       "      <td>O</td>\n",
       "      <td>k</td>\n",
       "      <td>missing</td>\n",
       "      <td>missing</td>\n",
       "      <td>missing</td>\n",
       "    </tr>\n",
       "    <tr>\n",
       "      <th>2</th>\n",
       "      <td>1</td>\n",
       "      <td>3</td>\n",
       "      <td>&lt;line lineNo=\"003\"&gt;Он уважать себя заст&lt;stress&gt;а&lt;/stress&gt;вил&lt;/line&gt;</td>\n",
       "      <td>zastAVil</td>\n",
       "      <td>missing</td>\n",
       "      <td>A</td>\n",
       "      <td>V</td>\n",
       "      <td>i</td>\n",
       "      <td>l</td>\n",
       "      <td>missing</td>\n",
       "    </tr>\n",
       "    <tr>\n",
       "      <th>3</th>\n",
       "      <td>1</td>\n",
       "      <td>4</td>\n",
       "      <td>&lt;line lineNo=\"004\"&gt;И лучше выдумать не м&lt;stress&gt;о&lt;/stress&gt;г.&lt;/line&gt;</td>\n",
       "      <td>NimOk</td>\n",
       "      <td>missing</td>\n",
       "      <td>O</td>\n",
       "      <td>k</td>\n",
       "      <td>missing</td>\n",
       "      <td>missing</td>\n",
       "      <td>missing</td>\n",
       "    </tr>\n",
       "    <tr>\n",
       "      <th>4</th>\n",
       "      <td>1</td>\n",
       "      <td>5</td>\n",
       "      <td>&lt;line lineNo=\"005\"&gt;Его пример другим на&lt;stress&gt;у&lt;/stress&gt;ка;&lt;/line&gt;</td>\n",
       "      <td>naUka</td>\n",
       "      <td>missing</td>\n",
       "      <td>U</td>\n",
       "      <td>k</td>\n",
       "      <td>a</td>\n",
       "      <td>missing</td>\n",
       "      <td>missing</td>\n",
       "    </tr>\n",
       "  </tbody>\n",
       "</table>\n",
       "</div>"
      ],
      "text/plain": [
       "   StanzaNo  LineNo  \\\n",
       "0  1         1        \n",
       "1  1         2        \n",
       "2  1         3        \n",
       "3  1         4        \n",
       "4  1         5        \n",
       "\n",
       "                                                                         Text  \\\n",
       "0  <line lineNo=\"001\">\"Мой дядя самых честных пр<stress>а</stress>вил,</line>   \n",
       "1  <line lineNo=\"002\">Когда не в шутку занем<stress>о</stress>г,</line>         \n",
       "2  <line lineNo=\"003\">Он уважать себя заст<stress>а</stress>вил</line>          \n",
       "3  <line lineNo=\"004\">И лучше выдумать не м<stress>о</stress>г.</line>          \n",
       "4  <line lineNo=\"005\">Его пример другим на<stress>у</stress>ка;</line>          \n",
       "\n",
       "  RhymeWord   token0 token1 token2   token3   token4   token5  \n",
       "0  prAVil    missing  A      V      i        l        missing  \n",
       "1  zaNimOk   missing  O      k      missing  missing  missing  \n",
       "2  zastAVil  missing  A      V      i        l        missing  \n",
       "3  NimOk     missing  O      k      missing  missing  missing  \n",
       "4  naUka     missing  U      k      a        missing  missing  "
      ]
     },
     "execution_count": 18,
     "metadata": {},
     "output_type": "execute_result"
    }
   ],
   "source": [
    "df[\"tokenized\"] = [x[0] for x in df[\"RhymeZone\"].str.\n",
    "                   findall(r\"(.?)([AEIOU])([^aeiou]*)([aeiou]?)([^aeiou]*)([aeiou]?)([^aeiou]*)([aeiou]?)([^aeiou]*)([aeiou]?)([^aeiou]*)([aeiou]?)([^aeiou]*)([aeiou]?)([^aeiou]*)([aeiou]?)([^aeiou]*)([aeiou]?)\")]\n",
    "i = 0\n",
    "while pd.np.count_nonzero([item[i] for item in df[\"tokenized\"]]) > 0:\n",
    "    # print([item[i] for item in df[\"tokenized\"]]) # diagnostic\n",
    "    df[\"token\" + str(i)] = [item[i] for item in df[\"tokenized\"]]\n",
    "    i += 1\n",
    "tokenheaders = df.filter(regex=\"^token\\d\").columns\n",
    "# tokenheaders = list([item for item in df.columns if re.match(r'token\\d', item)])\n",
    "df[tokenheaders] = df[tokenheaders].replace(r'^$', \"missing\", regex=True) # replace empty strings with specific value; inplace doesn't work (?)\n",
    "df.filter(regex=r\"StanzaNo|LineNo|RhymeWord|Text|^token\\d\").head() # columns we care about"
   ]
  },
  {
   "cell_type": "markdown",
   "metadata": {},
   "source": [
    "## One-hot encode token columns\n",
    "\n",
    "`df = pd.get_dummies(df, columns=df.filter(regex=\"^token\\d\").columns, drop_first=True)` will replace the original categorical values with binary ones. The approach below keeps both and avoids duplication."
   ]
  },
  {
   "cell_type": "code",
   "execution_count": 19,
   "metadata": {},
   "outputs": [],
   "source": [
    "# Danger: don’t rerun this; it will one-hot encode the output of the previous one-hot encoding!\n",
    "dummy = pd.get_dummies(df, columns=df.filter(regex=\"^token\\d\").columns, drop_first=True)"
   ]
  },
  {
   "cell_type": "code",
   "execution_count": 20,
   "metadata": {},
   "outputs": [],
   "source": [
    "df = df.merge(dummy, on=[\"PoemId\", \"StanzaNo\", \"LineNo\", \"Text\", \"Phonetic\", \"RhymeWord\", \"RhymeZone\", \"tokenized\"])"
   ]
  },
  {
   "cell_type": "code",
   "execution_count": 21,
   "metadata": {},
   "outputs": [
    {
     "data": {
      "text/html": [
       "<div>\n",
       "<style scoped>\n",
       "    .dataframe tbody tr th:only-of-type {\n",
       "        vertical-align: middle;\n",
       "    }\n",
       "\n",
       "    .dataframe tbody tr th {\n",
       "        vertical-align: top;\n",
       "    }\n",
       "\n",
       "    .dataframe thead th {\n",
       "        text-align: right;\n",
       "    }\n",
       "</style>\n",
       "<table border=\"1\" class=\"dataframe\">\n",
       "  <thead>\n",
       "    <tr style=\"text-align: right;\">\n",
       "      <th></th>\n",
       "      <th></th>\n",
       "      <th></th>\n",
       "      <th>Text</th>\n",
       "      <th>Phonetic</th>\n",
       "      <th>RhymeWord</th>\n",
       "      <th>RhymeZone</th>\n",
       "      <th>tokenized</th>\n",
       "      <th>token0</th>\n",
       "      <th>token1</th>\n",
       "      <th>token2</th>\n",
       "      <th>token3</th>\n",
       "      <th>token4</th>\n",
       "      <th>...</th>\n",
       "      <th>token4_k</th>\n",
       "      <th>token4_l</th>\n",
       "      <th>token4_m</th>\n",
       "      <th>token4_missing</th>\n",
       "      <th>token4_n</th>\n",
       "      <th>token4_s</th>\n",
       "      <th>token4_t</th>\n",
       "      <th>token4_x</th>\n",
       "      <th>token4_š</th>\n",
       "      <th>token5_missing</th>\n",
       "    </tr>\n",
       "    <tr>\n",
       "      <th>PoemId</th>\n",
       "      <th>StanzaNo</th>\n",
       "      <th>LineNo</th>\n",
       "      <th></th>\n",
       "      <th></th>\n",
       "      <th></th>\n",
       "      <th></th>\n",
       "      <th></th>\n",
       "      <th></th>\n",
       "      <th></th>\n",
       "      <th></th>\n",
       "      <th></th>\n",
       "      <th></th>\n",
       "      <th></th>\n",
       "      <th></th>\n",
       "      <th></th>\n",
       "      <th></th>\n",
       "      <th></th>\n",
       "      <th></th>\n",
       "      <th></th>\n",
       "      <th></th>\n",
       "      <th></th>\n",
       "      <th></th>\n",
       "      <th></th>\n",
       "    </tr>\n",
       "  </thead>\n",
       "  <tbody>\n",
       "    <tr>\n",
       "      <th rowspan=\"5\" valign=\"top\">Eo.1</th>\n",
       "      <th rowspan=\"5\" valign=\"top\">1</th>\n",
       "      <th>1</th>\n",
       "      <td>&lt;line lineNo=\"001\"&gt;\"Мой дядя самых честных пр&lt;stress&gt;а&lt;/stress&gt;вил,&lt;/line&gt;</td>\n",
       "      <td>maJ DiDi samix Čistnix prAVil</td>\n",
       "      <td>prAVil</td>\n",
       "      <td>AVil</td>\n",
       "      <td>(, A, V, i, l, , , , , , , , , , , , , )</td>\n",
       "      <td>missing</td>\n",
       "      <td>A</td>\n",
       "      <td>V</td>\n",
       "      <td>i</td>\n",
       "      <td>l</td>\n",
       "      <td>...</td>\n",
       "      <td>0</td>\n",
       "      <td>1</td>\n",
       "      <td>0</td>\n",
       "      <td>0</td>\n",
       "      <td>0</td>\n",
       "      <td>0</td>\n",
       "      <td>0</td>\n",
       "      <td>0</td>\n",
       "      <td>0</td>\n",
       "      <td>1</td>\n",
       "    </tr>\n",
       "    <tr>\n",
       "      <th>2</th>\n",
       "      <td>&lt;line lineNo=\"002\"&gt;Когда не в шутку занем&lt;stress&gt;о&lt;/stress&gt;г,&lt;/line&gt;</td>\n",
       "      <td>kagda Nifšutku zaNimOk</td>\n",
       "      <td>zaNimOk</td>\n",
       "      <td>Ok</td>\n",
       "      <td>(, O, k, , , , , , , , , , , , , , , )</td>\n",
       "      <td>missing</td>\n",
       "      <td>O</td>\n",
       "      <td>k</td>\n",
       "      <td>missing</td>\n",
       "      <td>missing</td>\n",
       "      <td>...</td>\n",
       "      <td>0</td>\n",
       "      <td>0</td>\n",
       "      <td>0</td>\n",
       "      <td>1</td>\n",
       "      <td>0</td>\n",
       "      <td>0</td>\n",
       "      <td>0</td>\n",
       "      <td>0</td>\n",
       "      <td>0</td>\n",
       "      <td>1</td>\n",
       "    </tr>\n",
       "    <tr>\n",
       "      <th>3</th>\n",
       "      <td>&lt;line lineNo=\"003\"&gt;Он уважать себя заст&lt;stress&gt;а&lt;/stress&gt;вил&lt;/line&gt;</td>\n",
       "      <td>an uvažaT SiBi zastAVil</td>\n",
       "      <td>zastAVil</td>\n",
       "      <td>AVil</td>\n",
       "      <td>(, A, V, i, l, , , , , , , , , , , , , )</td>\n",
       "      <td>missing</td>\n",
       "      <td>A</td>\n",
       "      <td>V</td>\n",
       "      <td>i</td>\n",
       "      <td>l</td>\n",
       "      <td>...</td>\n",
       "      <td>0</td>\n",
       "      <td>1</td>\n",
       "      <td>0</td>\n",
       "      <td>0</td>\n",
       "      <td>0</td>\n",
       "      <td>0</td>\n",
       "      <td>0</td>\n",
       "      <td>0</td>\n",
       "      <td>0</td>\n",
       "      <td>1</td>\n",
       "    </tr>\n",
       "    <tr>\n",
       "      <th>4</th>\n",
       "      <td>&lt;line lineNo=\"004\"&gt;И лучше выдумать не м&lt;stress&gt;о&lt;/stress&gt;г.&lt;/line&gt;</td>\n",
       "      <td>iluČši vidumaT NimOk</td>\n",
       "      <td>NimOk</td>\n",
       "      <td>Ok</td>\n",
       "      <td>(, O, k, , , , , , , , , , , , , , , )</td>\n",
       "      <td>missing</td>\n",
       "      <td>O</td>\n",
       "      <td>k</td>\n",
       "      <td>missing</td>\n",
       "      <td>missing</td>\n",
       "      <td>...</td>\n",
       "      <td>0</td>\n",
       "      <td>0</td>\n",
       "      <td>0</td>\n",
       "      <td>1</td>\n",
       "      <td>0</td>\n",
       "      <td>0</td>\n",
       "      <td>0</td>\n",
       "      <td>0</td>\n",
       "      <td>0</td>\n",
       "      <td>1</td>\n",
       "    </tr>\n",
       "    <tr>\n",
       "      <th>5</th>\n",
       "      <td>&lt;line lineNo=\"005\"&gt;Его пример другим на&lt;stress&gt;у&lt;/stress&gt;ка;&lt;/line&gt;</td>\n",
       "      <td>Jiva pRiMir druGim naUka</td>\n",
       "      <td>naUka</td>\n",
       "      <td>Uka</td>\n",
       "      <td>(, U, k, a, , , , , , , , , , , , , , )</td>\n",
       "      <td>missing</td>\n",
       "      <td>U</td>\n",
       "      <td>k</td>\n",
       "      <td>a</td>\n",
       "      <td>missing</td>\n",
       "      <td>...</td>\n",
       "      <td>0</td>\n",
       "      <td>0</td>\n",
       "      <td>0</td>\n",
       "      <td>1</td>\n",
       "      <td>0</td>\n",
       "      <td>0</td>\n",
       "      <td>0</td>\n",
       "      <td>0</td>\n",
       "      <td>0</td>\n",
       "      <td>1</td>\n",
       "    </tr>\n",
       "  </tbody>\n",
       "</table>\n",
       "<p>5 rows × 163 columns</p>\n",
       "</div>"
      ],
      "text/plain": [
       "                                                                                              Text  \\\n",
       "PoemId StanzaNo LineNo                                                                               \n",
       "Eo.1   1        1       <line lineNo=\"001\">\"Мой дядя самых честных пр<stress>а</stress>вил,</line>   \n",
       "                2       <line lineNo=\"002\">Когда не в шутку занем<stress>о</stress>г,</line>         \n",
       "                3       <line lineNo=\"003\">Он уважать себя заст<stress>а</stress>вил</line>          \n",
       "                4       <line lineNo=\"004\">И лучше выдумать не м<stress>о</stress>г.</line>          \n",
       "                5       <line lineNo=\"005\">Его пример другим на<stress>у</stress>ка;</line>          \n",
       "\n",
       "                                             Phonetic RhymeWord RhymeZone  \\\n",
       "PoemId StanzaNo LineNo                                                      \n",
       "Eo.1   1        1       maJ DiDi samix Čistnix prAVil  prAVil    AVil       \n",
       "                2       kagda Nifšutku zaNimOk         zaNimOk   Ok         \n",
       "                3       an uvažaT SiBi zastAVil        zastAVil  AVil       \n",
       "                4       iluČši vidumaT NimOk           NimOk     Ok         \n",
       "                5       Jiva pRiMir druGim naUka       naUka     Uka        \n",
       "\n",
       "                                                       tokenized   token0  \\\n",
       "PoemId StanzaNo LineNo                                                      \n",
       "Eo.1   1        1       (, A, V, i, l, , , , , , , , , , , , , )  missing   \n",
       "                2       (, O, k, , , , , , , , , , , , , , , )    missing   \n",
       "                3       (, A, V, i, l, , , , , , , , , , , , , )  missing   \n",
       "                4       (, O, k, , , , , , , , , , , , , , , )    missing   \n",
       "                5       (, U, k, a, , , , , , , , , , , , , , )   missing   \n",
       "\n",
       "                       token1 token2   token3   token4  ... token4_k  \\\n",
       "PoemId StanzaNo LineNo                                  ...            \n",
       "Eo.1   1        1       A      V      i        l        ...  0         \n",
       "                2       O      k      missing  missing  ...  0         \n",
       "                3       A      V      i        l        ...  0         \n",
       "                4       O      k      missing  missing  ...  0         \n",
       "                5       U      k      a        missing  ...  0         \n",
       "\n",
       "                        token4_l  token4_m  token4_missing  token4_n  \\\n",
       "PoemId StanzaNo LineNo                                                 \n",
       "Eo.1   1        1       1         0         0               0          \n",
       "                2       0         0         1               0          \n",
       "                3       1         0         0               0          \n",
       "                4       0         0         1               0          \n",
       "                5       0         0         1               0          \n",
       "\n",
       "                        token4_s  token4_t  token4_x  token4_š  token5_missing  \n",
       "PoemId StanzaNo LineNo                                                          \n",
       "Eo.1   1        1       0         0         0         0         1               \n",
       "                2       0         0         0         0         1               \n",
       "                3       0         0         0         0         1               \n",
       "                4       0         0         0         0         1               \n",
       "                5       0         0         0         0         1               \n",
       "\n",
       "[5 rows x 163 columns]"
      ]
     },
     "execution_count": 21,
     "metadata": {},
     "output_type": "execute_result"
    }
   ],
   "source": [
    "# Multindex on PoemId (canto), StanzaNo, and LineNo; stanza will be rhyme domain\n",
    "df.set_index([\"PoemId\", \"StanzaNo\", \"LineNo\"], inplace=True)\n",
    "df.head()"
   ]
  },
  {
   "cell_type": "markdown",
   "metadata": {},
   "source": [
    "## Is rhyme identification a supervised or unsupervised question?\n",
    "\n",
    "### Unsupervised\n",
    "\n",
    "#### Overview\n",
    "\n",
    "An *unsupervised* approach to rhyme identification regards it as a *clustering* problem. Within the domain to be searched (e.g., stanza, sliding window of four lines):\n",
    "\n",
    "1. Form clusters hierarchically according to shortest distance. \n",
    "1. Determine where the clustering makes a transition from informational to artifactual.\n",
    "\n",
    "#### Observations\n",
    "\n",
    "* There is no separation of training and testing sets and no predefined rhymed or non-rhymed assessments for line pairs. \n",
    "* The method does not require pairwise line comparison—except insofar as that is implicit in the black box that performs the clustering.\n",
    "* The method naturally recognizes degree or confidence of rhyme identification: except as mediated by interlinear distamce, it should cluster perfect rhyme first, and then increasingly approximate rhyme, a hierarchy that is consistent with human intuition.\n",
    "\n",
    "#### Issues\n",
    "\n",
    "* **Parameters.** The *linkage* (clustering method: simple, complete, Ward’s, centroid) and *affinity* (distance measure: Euclidean, Manhattan) are to be determined (perhaps with GridSearch?). \n",
    "* **Scaling.** One-hot encoded segment information is binary and proximity (represented by line number) is ordinal. Should they be normalized? On the one hand, if they aren’t, distance might dwarf the binary features. On the other hand, does distance have an absolute quality? For example, being within 10% of the line count in a ten-line stanza is adjacent, and therefore meaningful. In a hundred-line non-stanzaic poem, though, it is distant and of dubious significance.\n",
    "* **Weighting.** At least once scaling has been applied, all features are weighted similarly. Should they be? Can the system advise us about preferential weighting?\n",
    "* **Feedback.** It is unclear how the results of a clustering analysis can be translated into eventual weighting information. Since we know the correct outcome, we can identify correct and incorrect results. Can we feed that back into weighting adjustments?\n",
    "* **Phonetic distinctive features.** We don’t yet see a way to perform comparison at the level of phonetic distinctive features as long as consonant clusters of different lengths may be aligned. But we could decompose vowels, since those are always singletons. Is it useful (or even practical) to decompose some segments and not others? We could test whether features matter by looking for statistically significant differences among the three unstressed vowels, *[i, u, a]*.\n",
    "* **Enrichment.** At the moment we ignore pretonic information, but it should be incorporated,  even if only at a lower weight. For the moment the pretonic consonant is relevant only for open masculine rhyme, and in that case it is always a singleton, and therefore amenable to feature decomposition (see immediately above). Once we incorporate enrichment, though, does the pretonic cluster become more important than the pretonic consonant?"
   ]
  },
  {
   "cell_type": "markdown",
   "metadata": {},
   "source": [
    "## Exploratory dendrograms\n",
    "\n",
    "Generate dendrograms for first 10 stanzas (1–11, since 9 is missing).\n",
    "\n",
    "In addition to the one-hot-encoded C(C) ~ V information, line number is treated as a feature, under the assumption that rhyme involves not only phonetic similarity, but also proximity. Earlier trials with raw line numbers (which range from 1–14 with this data set) distorted the output, so the values are normalized (scaled), by trial and error, to range from 0–2. Initial linkage method are complete Ward; for discussion of options see:\n",
    "\n",
    "* <https://joernhees.de/blog/2015/08/26/scipy-hierarchical-clustering-and-dendrogram-tutorial/> (Start here)\n",
    "* <https://stats.stackexchange.com/questions/195446/choosing-the-right-linkage-method-for-hierarchical-clustering>\n",
    "* <https://stats.stackexchange.com/questions/63546/comparing-hierarchical-clustering-dendrograms-obtained-by-different-distances/63549#63549>\n",
    "* <https://stats.stackexchange.com/questions/3713/choosing-a-clustering-method>\n",
    "* <https://stats.stackexchange.com/questions/195456/how-to-select-a-clustering-method-how-to-validate-a-cluster-solution-to-warran>\n",
    "\n",
    "Output includes complete and Ward dendrograms with cophenetic correlation coefficient (see <https://joernhees.de/blog/2015/08/26/scipy-hierarchical-clustering-and-dendrogram-tutorial/>); a value closer to 1 means that the clustering does a better job of preserving the actual distances. "
   ]
  },
  {
   "cell_type": "code",
   "execution_count": 22,
   "metadata": {},
   "outputs": [
    {
     "name": "stdout",
     "output_type": "stream",
     "text": [
      "                                                   Text  RhymeWord RhymeZone\n",
      "PoemId StanzaNo LineNo                                                      \n",
      "Eo.1   1        1       \"Мой дядя самых честных правил,  prAVil     AVil    \n",
      "                2       Когда не в шутку занемог,        zaNimOk    Ok      \n",
      "                3       Он уважать себя заставил         zastAVil   AVil    \n",
      "                4       И лучше выдумать не мог.         NimOk      Ok      \n",
      "                5       Его пример другим наука;         naUka      Uka     \n",
      "                6       Но, боже мой, какая скука        skUka      Uka     \n",
      "                7       С больным сидеть и день и ночь,  inOČ       OČ      \n",
      "                8       Не отходя ни шагу прочь!         prOČ       OČ      \n",
      "                9       Какое низкое коварство           kavArstva  Arstva  \n",
      "                10      Полу-живого забавлять,           zabavLAT   AT      \n",
      "                11      Ему подушки поправлять,          papravLAT  AT      \n",
      "                12      Печально подносить лекарство,    LikArstva  Arstva  \n",
      "                13      Вздыхать и думать про себя:      praSiBA    BA      \n",
      "                14      Когда же чорт возьмет тебя!\"     TiBA       BA      \n"
     ]
    },
    {
     "data": {
      "image/png": "[encoded data removed]",
      "text/plain": [
       "<Figure size 864x288 with 2 Axes>"
      ]
     },
     "metadata": {
      "needs_background": "light"
     },
     "output_type": "display_data"
    },
    {
     "name": "stdout",
     "output_type": "stream",
     "text": [
      "                                                 Text   RhymeWord RhymeZone\n",
      "PoemId StanzaNo LineNo                                                     \n",
      "Eo.1   2        1       Так думал молодой повеса,      paVEsa      Esa     \n",
      "                2       Летя в пыли на почтовых,       napaČtavIx  Ix      \n",
      "                3       Всевышней волею Зевеса         ZiVEsa      Esa     \n",
      "                4       Наследник всех своих родных.—  radnIx      Ix      \n",
      "                5       Друзья Людмилы и Руслана!      iruslAna    Ana     \n",
      "                6       С героем моего романа          ramAna      Ana     \n",
      "                7       Без предисловий, сей же час    ČAs         As      \n",
      "                8       Позвольте познакомить вас:     vAs         As      \n",
      "                9       Онегин, добрый мой приятель,   pRiJATiL    ATiL    \n",
      "                10      Родился на брегах Невы,        NivI        vI      \n",
      "                11      Где может быть родились вы,    vI          vI      \n",
      "                12      Или блистали, мой читатель;    ČitATiL     ATiL    \n",
      "                13      Там некогда гулял и я:         iJA         JA      \n",
      "                14      Но вреден север для меня.      DLiMiNA     NA      \n"
     ]
    },
    {
     "data": {
      "image/png": "[encoded data removed]",
      "text/plain": [
       "<Figure size 864x288 with 2 Axes>"
      ]
     },
     "metadata": {
      "needs_background": "light"
     },
     "output_type": "display_data"
    },
    {
     "name": "stdout",
     "output_type": "stream",
     "text": [
      "                                                     Text           RhymeWord RhymeZone\n",
      "PoemId StanzaNo LineNo                                                                 \n",
      "Eo.1   3        1       Служив отлично-благородно,         aTLiČna-blagarOdna  Odna    \n",
      "                2       Долгами жил его отец,              aTEts               Ets     \n",
      "                3       Давал три бала ежегодно            JižigOdna           Odna    \n",
      "                4       И промотался наконец.              nakaNEts            Ets     \n",
      "                5       Судьба Евгения хранила:            xraNIla             Ila     \n",
      "                6       Сперва Madame за ним ходила,       xaDIla              Ila     \n",
      "                7       Потом Monsieur ее сменил;          sMiNIl              Il      \n",
      "                8       Ребенок был резов, но мил.         naMIl               Il      \n",
      "                9        Monsieur l'Abbé, француз убогой,  ubOgaJ              OgaJ    \n",
      "                10      Чтоб не измучилось дитя,           DiTA                TA      \n",
      "                11      Учил его всему шутя,               šuTA                TA      \n",
      "                12      Не докучал моралью строгой,        strOgaJ             OgaJ    \n",
      "                13      Слегка за шалости бранил,          braNIl              Il      \n",
      "                14      И в Летний сад гулять водил.       vaDIl               Il      \n"
     ]
    },
    {
     "data": {
      "image/png": "[encoded data removed]",
      "text/plain": [
       "<Figure size 864x288 with 2 Axes>"
      ]
     },
     "metadata": {
      "needs_background": "light"
     },
     "output_type": "display_data"
    },
    {
     "name": "stdout",
     "output_type": "stream",
     "text": [
      "                                                  Text     RhymeWord RhymeZone\n",
      "PoemId StanzaNo LineNo                                                        \n",
      "Eo.1   4        1       Когда же юности мятежной        MiTEžnaJ      EžnaJ   \n",
      "                2       Пришла Евгению пора,            parA          rA      \n",
      "                3       Пора надежд и грусти нежной,    NEžnaJ        EžnaJ   \n",
      "                4        Monsieur прогнали со двора.    sadvarA       rA      \n",
      "                5       Вот мой Онегин на свободе;      nasvabODi     ODi     \n",
      "                6       Острижен по последней моде;     mODi          ODi     \n",
      "                7       Как dandy лондонской одет—      aDEt          Et      \n",
      "                8       И наконец увидел свет.          sVEt          Et      \n",
      "                9       Он по-французски совершенно     saViršEna     Ena     \n",
      "                10      Мог изьясняться и писал;        iPisAl        Al      \n",
      "                11      Легко мазурку танцовал,         tantsavAl     Al      \n",
      "                12      И кланялся непринужденно;       NipRinužDEna  Ena     \n",
      "                13      Чего ж вам больше? Свет решил,  RišIl         Il      \n",
      "                14      Что он умен и очень мил.        MIl           Il      \n"
     ]
    },
    {
     "data": {
      "image/png": "[encoded data removed]",
      "text/plain": [
       "<Figure size 864x288 with 2 Axes>"
      ]
     },
     "metadata": {
      "needs_background": "light"
     },
     "output_type": "display_data"
    },
    {
     "name": "stdout",
     "output_type": "stream",
     "text": [
      "                                                    Text   RhymeWord RhymeZone\n",
      "PoemId StanzaNo LineNo                                                        \n",
      "Eo.1   5        1       Мы все учились понемногу          paNimnOgu   Ogu     \n",
      "                2       Чему-нибудь и как-нибудь,         ikak-NibUT  UT      \n",
      "                3       Так воспитаньем, слава богу,      bOgu        Ogu     \n",
      "                4       У нас немудрено блеснуть.         bLisnUT     UT      \n",
      "                5       Онегин был по мненью многих       mnOGix      OGix    \n",
      "                6       (Судей решительных и строгих)     istrOGix    OGix    \n",
      "                7       Ученый малый, но педант:          naPidAnt    Ant     \n",
      "                8       Имел он счастливый талант         talAnt      Ant     \n",
      "                9       Без принужденья в разговоре       vrazgavORi  ORi     \n",
      "                10      Коснуться до всего слегка,        SLikA       kA      \n",
      "                11      С ученым видом знатока            znatakA     kA      \n",
      "                12      Хранить молчанье в важном споре,  spORi       ORi     \n",
      "                13      И возбуждать улыбку дам           dAm         Am      \n",
      "                14      Огнем нежданных эпиграмм.         iPigrAm     Am      \n"
     ]
    },
    {
     "data": {
      "image/png": "[encoded data removed]",
      "text/plain": [
       "<Figure size 864x288 with 2 Axes>"
      ]
     },
     "metadata": {
      "needs_background": "light"
     },
     "output_type": "display_data"
    },
    {
     "name": "stdout",
     "output_type": "stream",
     "text": [
      "                                                   Text   RhymeWord RhymeZone\n",
      "PoemId StanzaNo LineNo                                                       \n",
      "Eo.1   6        1       Латынь из моды вышла ныне:       nINi        INi     \n",
      "                2       Так, если правду вам сказать,    skazAT      AT      \n",
      "                3       Он знал довольно по-латыне,      pa-latINi   INi     \n",
      "                4       Чтоб эпиграфы разбирать,         razBirAT    AT      \n",
      "                5       Потолковать об Ювенале,          aBuVinALi   ALi     \n",
      "                6       В конце письма поставить vale,   vAli        Ali     \n",
      "                7       Да помнил, хоть не без греха,    NiBizgRixA  xA      \n",
      "                8       Из Энеиды два стиха.             STixA       xA      \n",
      "                9       Он рыться не имел охоты          axOti       Oti     \n",
      "                10      В хронологической пыли           piLI        LI      \n",
      "                11      Бытописания земли:               ZimLI       LI      \n",
      "                12      Но дней минувших анекдоты        aNigdOti    Oti     \n",
      "                13      От Ромула до наших дней          DNEJ        EJ      \n",
      "                14      Хранил он в памяте своей.        svaJEJ      EJ      \n"
     ]
    },
    {
     "data": {
      "image/png": "[encoded data removed]",
      "text/plain": [
       "<Figure size 864x288 with 2 Axes>"
      ]
     },
     "metadata": {
      "needs_background": "light"
     },
     "output_type": "display_data"
    },
    {
     "name": "stdout",
     "output_type": "stream",
     "text": [
      "                                                Text  RhymeWord RhymeZone\n",
      "PoemId StanzaNo LineNo                                                   \n",
      "Eo.1   7        1       Высокой страсти не имея       NiJiMEJi   EJi     \n",
      "                2       Для звуков жизни не щадить,   NiQaDIT    IT      \n",
      "                3       Не мог он ямба от хорея,      atxaREJi   EJi     \n",
      "                4       Как мы ни бились, отличить.   aTLiČIT    IT      \n",
      "                5       Бранил Гомера, Феокрита;      FiakRIta   Ita     \n",
      "                6       За то читал Адама Смита,      sMIta      Ita     \n",
      "                7       И был глубокой эконом,        ikanOm     Om      \n",
      "                8       То есть, умел судить о том,   atOm       Om      \n",
      "                9       Как государство богатеет,     bagaTEJit  EJit    \n",
      "                10      И чем живет, и почему         ipaČimU    mU      \n",
      "                11      Не нужно золота ему,          JimU       mU      \n",
      "                12      Когда простой продукт имеет.  iMEJit     EJit    \n",
      "                13      Отец понять его не мог        NimOk      Ok      \n",
      "                14      И земли отдавал в залог.      vzalOk     Ok      \n"
     ]
    },
    {
     "data": {
      "image/png": "[encoded data removed]",
      "text/plain": [
       "<Figure size 864x288 with 2 Axes>"
      ]
     },
     "metadata": {
      "needs_background": "light"
     },
     "output_type": "display_data"
    },
    {
     "name": "stdout",
     "output_type": "stream",
     "text": [
      "                                                   Text  RhymeWord RhymeZone\n",
      "PoemId StanzaNo LineNo                                                      \n",
      "Eo.1   8        1       Всего, что знал еще Евгений,     JivGENiJ   ENiJ    \n",
      "                2       Пересказать мне недосуг;         NidasUk    Uk      \n",
      "                3       Но в чем он истинный был гений,  GENiJ      ENiJ    \n",
      "                4       Что знал он тверже всех наук,    naUk       Uk      \n",
      "                5       Что было для него измлада        izmlAda    Ada     \n",
      "                6       И труд и мука и отрада,          iatrAda    Ada     \n",
      "                7       Что занимало целый день          DEN        EN      \n",
      "                8       Его тоскующую лень,—             LEN        EN      \n",
      "                9       Была наука страсти нежной,       NEžnaJ     EžnaJ   \n",
      "                10      Которую воспел Назон,            nazOn      On      \n",
      "                11      За что страдальцем кончил он     On         On      \n",
      "                12      Свой век блестящий и мятежный    iMiTEžniJ  EžniJ   \n",
      "                13      В Молдавии, в глуши степей,      STiPEJ     EJ      \n",
      "                14      Вдали Италии своей.              svaJEJ     EJ      \n"
     ]
    },
    {
     "data": {
      "image/png": "[encoded data removed]",
      "text/plain": [
       "<Figure size 864x288 with 2 Axes>"
      ]
     },
     "metadata": {
      "needs_background": "light"
     },
     "output_type": "display_data"
    },
    {
     "name": "stdout",
     "output_type": "stream",
     "text": [
      "                                                     Text      RhymeWord RhymeZone\n",
      "PoemId StanzaNo LineNo                                                            \n",
      "Eo.1   10       1       Как рано мог он лицемерить,        LitsiMERiT     ERiT    \n",
      "                2       Таить надежду, ревновать,          RivnavAT       AT      \n",
      "                3       Разуверять, заставить верить,      VERiT          ERiT    \n",
      "                4       Казаться мрачным, изнывать,        iznivAT        AT      \n",
      "                5       Являться гордым и послушным,       ipaslUšnim     Ušnim   \n",
      "                6       Внимательным, иль равнодушным!     iLravnadUšnim  Ušnim   \n",
      "                7       Как томно был он молчалив,         malČiLIf       If      \n",
      "                8       Как пламенно красноречив,          krasnaRiČIf    If      \n",
      "                9       В сердечных письмах как небрежен!  NibREžin       Ežin    \n",
      "                10      Одним дыша, одно любя,             LuBA           BA      \n",
      "                11      Как он умел забыть себя!           SiBA           BA      \n",
      "                12      Как взор его был быстр и нежен,    iNEžin         Ežin    \n",
      "                13      Стыдлив и дерзок, а порой          aparOJ         OJ      \n",
      "                14      Блистал послушною слезой!          SLizOJ         OJ      \n"
     ]
    },
    {
     "data": {
      "image/png": "[encoded data removed]",
      "text/plain": [
       "<Figure size 864x288 with 2 Axes>"
      ]
     },
     "metadata": {
      "needs_background": "light"
     },
     "output_type": "display_data"
    },
    {
     "name": "stdout",
     "output_type": "stream",
     "text": [
      "                                                  Text      RhymeWord RhymeZone\n",
      "PoemId StanzaNo LineNo                                                         \n",
      "Eo.1   11       1       Как он умел казаться новым,     nOvim          Ovim    \n",
      "                2       Шутя невинность изумлять,       izumLAT        AT      \n",
      "                3       Пугать отчаяньем готовым,       gatOvim        Ovim    \n",
      "                4       Приятной лестью забавлять,      zabavLAT       AT      \n",
      "                5       Ловить минуту умиленья,         uMiLENJi       ENJi    \n",
      "                6       Невинных лет предубежденья      pRiduBižDENJi  ENJi    \n",
      "                7       Умом и страстью побеждать,      paBiždAT       AT      \n",
      "                8       Невольной ласки ожидать,        ažidAT         AT      \n",
      "                9       Молить и требовать признанья,   pRiznANJi      ANJi    \n",
      "                10      Подслушать сердца первый звук,  zvUk           Uk      \n",
      "                11      Преследовать любовь, и вдруг    ivdrUk         Uk      \n",
      "                12      Добиться тайного свиданья...    sVidANJi       ANJi    \n",
      "                13      И после ей наедине              naJiDiNE       NE      \n",
      "                14      Давать уроки в тишине!          fTišiNE        NE      \n"
     ]
    },
    {
     "data": {
      "image/png": "[encoded data removed]",
      "text/plain": [
       "<Figure size 864x288 with 2 Axes>"
      ]
     },
     "metadata": {
      "needs_background": "light"
     },
     "output_type": "display_data"
    },
    {
     "name": "stdout",
     "output_type": "stream",
     "text": [
      "                                                Text  RhymeWord RhymeZone\n",
      "PoemId StanzaNo LineNo                                                   \n",
      "Eo.1   12       1       Как рано мог уж он тревожить  tRivOžiT   OžiT    \n",
      "                2       Сердца кокеток записных!      zaPisnIx   Ix      \n",
      "                3       Когда ж хотелось уничтожить   uNiČtOžiT  OžiT    \n",
      "                4       Ему соперников своих,         svaJIx     Ix      \n",
      "                5       Как он язвительно злословил!  zlaslOVil  OVil    \n",
      "                6       Какие сети им готовил!        gatOVil    OVil    \n",
      "                7       Но вы, блаженные мужья,       mužJA      JA      \n",
      "                8       С ним оставались вы друзья:   druZJA     JA      \n",
      "                9       Его ласкал супруг лукавый,    lukAviJ    AviJ    \n",
      "                10      Фобласа давний ученик,        uČiNIk     Ik      \n",
      "                11      И недоверчивый старик,        staRIk     Ik      \n",
      "                12      И рогоносец величавый,        ViLiČAviJ  AviJ    \n",
      "                13      Всегда довольный сам собой,   sabOJ      OJ      \n",
      "                14      Своим обедом и женой.         ižinOJ     OJ      \n"
     ]
    },
    {
     "data": {
      "image/png": "[encoded data removed]",
      "text/plain": [
       "<Figure size 864x288 with 2 Axes>"
      ]
     },
     "metadata": {
      "needs_background": "light"
     },
     "output_type": "display_data"
    }
   ],
   "source": [
    "stanzas = df.groupby(level=[0,1])\n",
    "pd.set_option('display.width', 1000) # don't wrap long rows\n",
    "i = 0\n",
    "for id, lines in stanzas:\n",
    "    if i < 11:\n",
    "        print(pd.concat([lines[\"Text\"].str.replace(r\"<[^>]+?>\", \"\"), lines[[\"RhymeWord\", \"RhymeZone\"]]], axis=1)) # diagnostic\n",
    "        data = lines.copy().filter(regex=r\"^token\\d_\") # only one-hot features\n",
    "        labelList = list(range(1, len(lines)+1)) # labels are line numbers within stanza\n",
    "        data.loc[:,\"LineNo\"] = [2 * n / len(labelList) for n in labelList] # scale to avoid tyranny of proximity\n",
    "        complete = linkage(data,method=\"complete\")\n",
    "        complete_c, complete_coph_dist = cophenet(complete, pdist(data))\n",
    "        ward = linkage(data, method=\"ward\")\n",
    "        ward_c, ward_coph_dists = cophenet(ward, pdist(data))\n",
    "        plt.figure(figsize=(12, 4))\n",
    "        plt.subplot(1, 2, 1)\n",
    "        plt.title(\"Complete: \" + str(complete_c))\n",
    "        dendrogram(complete, labels=labelList)\n",
    "        plt.subplot(1, 2, 2)\n",
    "        plt.title(\"Ward: \" + str(ward_c))\n",
    "        dendrogram(ward, labels=labelList)\n",
    "        plt.show()\n",
    "    i += 1\n",
    "pd.set_option('display.width', 80) # restore default"
   ]
  },
  {
   "cell_type": "code",
   "execution_count": null,
   "metadata": {},
   "outputs": [],
   "source": []
  }
 ],
 "metadata": {
  "kernelspec": {
   "display_name": "Python 3",
   "language": "python",
   "name": "python3"
  },
  "language_info": {
   "codemirror_mode": {
    "name": "ipython",
    "version": 3
   },
   "file_extension": ".py",
   "mimetype": "text/x-python",
   "name": "python",
   "nbconvert_exporter": "python",
   "pygments_lexer": "ipython3",
   "version": "3.7.3"
  }
 },
 "nbformat": 4,
 "nbformat_minor": 2
}
