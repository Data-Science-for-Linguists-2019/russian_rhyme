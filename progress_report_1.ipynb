{
 "cells": [
  {
   "cell_type": "markdown",
   "metadata": {},
   "source": [
    "# Progress report 1 notebook"
   ]
  },
  {
   "cell_type": "markdown",
   "metadata": {},
   "source": [
    "## Reload libraries each time, since we’re tinkering with them"
   ]
  },
  {
   "cell_type": "code",
   "execution_count": 25,
   "metadata": {},
   "outputs": [
    {
     "name": "stdout",
     "output_type": "stream",
     "text": [
      "The autoreload extension is already loaded. To reload it, use:\n",
      "  %reload_ext autoreload\n"
     ]
    }
   ],
   "source": [
    "%load_ext autoreload\n",
    "%autoreload 2"
   ]
  },
  {
   "cell_type": "markdown",
   "metadata": {},
   "source": [
    "## Load libraries"
   ]
  },
  {
   "cell_type": "code",
   "execution_count": 26,
   "metadata": {},
   "outputs": [],
   "source": [
    "from xml.dom import pulldom  # parse input XML\n",
    "from xml.dom.minidom import Document  # construct output XML\n",
    "import numpy as np\n",
    "import pandas as pd\n",
    "import regex as re\n",
    "from cyr2phon import cyr2phon, utility  # custom package"
   ]
  },
  {
   "cell_type": "markdown",
   "metadata": {},
   "source": [
    "## Class and variables for parsing input XML"
   ]
  },
  {
   "cell_type": "code",
   "execution_count": 27,
   "metadata": {},
   "outputs": [],
   "source": [
    "class Stack(list):  # keep track of open nodes while constructing XML output\n",
    "    def push(self, item):\n",
    "        self.append(item)\n",
    "\n",
    "    def peek(self):  \n",
    "        return self[-1]\n",
    "\n",
    "\n",
    "open_elements = Stack()\n",
    "WS_RE = re.compile(r'\\s+')  # normalize white space in output"
   ]
  },
  {
   "cell_type": "markdown",
   "metadata": {},
   "source": [
    "## Function to parse the XML\n",
    "\n",
    "Returns a list of lists, with stanza number, line number, and `<line>` element for each line"
   ]
  },
  {
   "cell_type": "code",
   "execution_count": 28,
   "metadata": {},
   "outputs": [],
   "source": [
    "def process(input_xml):\n",
    "    stanzaNo = 0\n",
    "    lineNo = 0\n",
    "    inline = 0  # flag to control behavior inside and outside lines\n",
    "    result = []  # array of arrays, one per line, with stanzaNo, lineNo, and serialized XML\n",
    "    doc = pulldom.parse(input_xml)\n",
    "    for event, node in doc:\n",
    "        if event == pulldom.START_ELEMENT and node.localName == 'stanza':\n",
    "            stanzaNo = node.getAttribute(\"stanzaNo\")\n",
    "        elif event == pulldom.START_ELEMENT and node.localName == 'line':\n",
    "            d = Document()  # each line is an output XML document\n",
    "            open_elements.push(d)  # document node\n",
    "            lineNo = node.getAttribute(\"lineNo\")\n",
    "            inline = 1  # we’re inside a line\n",
    "            open_elements.peek().appendChild(node)  # add as child of current node in output tree\n",
    "            open_elements.push(node)  # keep track of open elements\n",
    "        elif event == pulldom.END_ELEMENT and node.localName == 'line':\n",
    "            inline = 0  # when we finish our work here, we’ll no longer be inside a line\n",
    "            open_elements.pop()  # line is finished\n",
    "            # serialize XML, strip declaration, rewrite &quot; entity as character\n",
    "            result.append([int(stanzaNo), int(lineNo),\n",
    "                WS_RE.sub(\" \" ,\n",
    "                open_elements.pop().toxml().replace('<?xml version=\"1.0\" ?>', '').replace('&quot;', '\"'))])\n",
    "        elif event == pulldom.START_ELEMENT and node.localName == 'stress':\n",
    "            open_elements.peek().appendChild(node)  # add as child of current node in output tree\n",
    "            open_elements.push(node)  # keep track of open elements\n",
    "        elif event == pulldom.END_ELEMENT and node.localName == 'stress':\n",
    "            open_elements.pop()  # stress element is finished\n",
    "        elif event == pulldom.CHARACTERS and inline:  # keep text only inside lines\n",
    "            t = d.createTextNode(node.data)\n",
    "            open_elements.peek().appendChild(t)\n",
    "    return result"
   ]
  },
  {
   "cell_type": "markdown",
   "metadata": {},
   "source": [
    "## Parse the XML into an array of arrays"
   ]
  },
  {
   "cell_type": "code",
   "execution_count": 29,
   "metadata": {},
   "outputs": [
    {
     "data": {
      "text/plain": [
       "[[1,\n",
       "  1,\n",
       "  '<line lineNo=\"001\">\"Мой дядя самых честных пр<stress>а</stress>вил,</line>'],\n",
       " [1,\n",
       "  2,\n",
       "  '<line lineNo=\"002\">Когда не в шутку занем<stress>о</stress>г,</line>'],\n",
       " [1, 3, '<line lineNo=\"003\">Он уважать себя заст<stress>а</stress>вил</line>'],\n",
       " [1, 4, '<line lineNo=\"004\">И лучше выдумать не м<stress>о</stress>г.</line>'],\n",
       " [1, 5, '<line lineNo=\"005\">Его пример другим на<stress>у</stress>ка;</line>']]"
      ]
     },
     "execution_count": 29,
     "metadata": {},
     "output_type": "execute_result"
    }
   ],
   "source": [
    "with open(\"data_samples/eo1.xml\") as f:\n",
    "    all_lines = process(f)\n",
    "all_lines[:5]  # take a look"
   ]
  },
  {
   "cell_type": "markdown",
   "metadata": {},
   "source": [
    "## Write the data into a dataframe"
   ]
  },
  {
   "cell_type": "code",
   "execution_count": 30,
   "metadata": {},
   "outputs": [
    {
     "data": {
      "text/html": [
       "<div>\n",
       "<style scoped>\n",
       "    .dataframe tbody tr th:only-of-type {\n",
       "        vertical-align: middle;\n",
       "    }\n",
       "\n",
       "    .dataframe tbody tr th {\n",
       "        vertical-align: top;\n",
       "    }\n",
       "\n",
       "    .dataframe thead th {\n",
       "        text-align: right;\n",
       "    }\n",
       "</style>\n",
       "<table border=\"1\" class=\"dataframe\">\n",
       "  <thead>\n",
       "    <tr style=\"text-align: right;\">\n",
       "      <th></th>\n",
       "      <th>StanzaNo</th>\n",
       "      <th>LineNo</th>\n",
       "      <th>Text</th>\n",
       "    </tr>\n",
       "  </thead>\n",
       "  <tbody>\n",
       "    <tr>\n",
       "      <th>0</th>\n",
       "      <td>1</td>\n",
       "      <td>1</td>\n",
       "      <td>&lt;line lineNo=\"001\"&gt;\"Мой дядя самых честных пр&lt;...</td>\n",
       "    </tr>\n",
       "    <tr>\n",
       "      <th>1</th>\n",
       "      <td>1</td>\n",
       "      <td>2</td>\n",
       "      <td>&lt;line lineNo=\"002\"&gt;Когда не в шутку занем&lt;stre...</td>\n",
       "    </tr>\n",
       "    <tr>\n",
       "      <th>2</th>\n",
       "      <td>1</td>\n",
       "      <td>3</td>\n",
       "      <td>&lt;line lineNo=\"003\"&gt;Он уважать себя заст&lt;stress...</td>\n",
       "    </tr>\n",
       "    <tr>\n",
       "      <th>3</th>\n",
       "      <td>1</td>\n",
       "      <td>4</td>\n",
       "      <td>&lt;line lineNo=\"004\"&gt;И лучше выдумать не м&lt;stres...</td>\n",
       "    </tr>\n",
       "    <tr>\n",
       "      <th>4</th>\n",
       "      <td>1</td>\n",
       "      <td>5</td>\n",
       "      <td>&lt;line lineNo=\"005\"&gt;Его пример другим на&lt;stress...</td>\n",
       "    </tr>\n",
       "  </tbody>\n",
       "</table>\n",
       "</div>"
      ],
      "text/plain": [
       "   StanzaNo  LineNo                                               Text\n",
       "0         1       1  <line lineNo=\"001\">\"Мой дядя самых честных пр<...\n",
       "1         1       2  <line lineNo=\"002\">Когда не в шутку занем<stre...\n",
       "2         1       3  <line lineNo=\"003\">Он уважать себя заст<stress...\n",
       "3         1       4  <line lineNo=\"004\">И лучше выдумать не м<stres...\n",
       "4         1       5  <line lineNo=\"005\">Его пример другим на<stress..."
      ]
     },
     "execution_count": 30,
     "metadata": {},
     "output_type": "execute_result"
    }
   ],
   "source": [
    "df = pd.DataFrame(all_lines, columns=[\"StanzaNo\", \"LineNo\", \"Text\"])\n",
    "df.head(5)"
   ]
  },
  {
   "cell_type": "markdown",
   "metadata": {},
   "source": [
    "## Transliterate all lines and save in new column\n",
    "\n",
    "### Notes\n",
    "\n",
    "1. Because only the last stress in the line is marked, the phonetic representation of all words except the last is incorrect. That doesn’t matter for the analysis of end rhyme.\n",
    "1. Words in foreign languages are not being treated specially, and are therefore usually phonetically incorrect. That *does* matter for the analysis of end rhyme. Deal with it later, first by excluding those lines (revise the XML parsing to record that information), and eventually by phoneticizing them correctly."
   ]
  },
  {
   "cell_type": "code",
   "execution_count": 31,
   "metadata": {},
   "outputs": [
    {
     "data": {
      "text/html": [
       "<div>\n",
       "<style scoped>\n",
       "    .dataframe tbody tr th:only-of-type {\n",
       "        vertical-align: middle;\n",
       "    }\n",
       "\n",
       "    .dataframe tbody tr th {\n",
       "        vertical-align: top;\n",
       "    }\n",
       "\n",
       "    .dataframe thead th {\n",
       "        text-align: right;\n",
       "    }\n",
       "</style>\n",
       "<table border=\"1\" class=\"dataframe\">\n",
       "  <thead>\n",
       "    <tr style=\"text-align: right;\">\n",
       "      <th></th>\n",
       "      <th>StanzaNo</th>\n",
       "      <th>LineNo</th>\n",
       "      <th>Text</th>\n",
       "      <th>Phonetic</th>\n",
       "    </tr>\n",
       "  </thead>\n",
       "  <tbody>\n",
       "    <tr>\n",
       "      <th>0</th>\n",
       "      <td>1</td>\n",
       "      <td>1</td>\n",
       "      <td>&lt;line lineNo=\"001\"&gt;\"Мой дядя самых честных пр&lt;...</td>\n",
       "      <td>maJ DiDi samix Čistnix prAVil</td>\n",
       "    </tr>\n",
       "    <tr>\n",
       "      <th>1</th>\n",
       "      <td>1</td>\n",
       "      <td>2</td>\n",
       "      <td>&lt;line lineNo=\"002\"&gt;Когда не в шутку занем&lt;stre...</td>\n",
       "      <td>kagda Nifšutku zaNimOk</td>\n",
       "    </tr>\n",
       "    <tr>\n",
       "      <th>2</th>\n",
       "      <td>1</td>\n",
       "      <td>3</td>\n",
       "      <td>&lt;line lineNo=\"003\"&gt;Он уважать себя заст&lt;stress...</td>\n",
       "      <td>an uvažaT SiBi zastAVil</td>\n",
       "    </tr>\n",
       "    <tr>\n",
       "      <th>3</th>\n",
       "      <td>1</td>\n",
       "      <td>4</td>\n",
       "      <td>&lt;line lineNo=\"004\"&gt;И лучше выдумать не м&lt;stres...</td>\n",
       "      <td>iluČši vidumaT NimOk</td>\n",
       "    </tr>\n",
       "    <tr>\n",
       "      <th>4</th>\n",
       "      <td>1</td>\n",
       "      <td>5</td>\n",
       "      <td>&lt;line lineNo=\"005\"&gt;Его пример другим на&lt;stress...</td>\n",
       "      <td>Jiva pRiMir druGim naUka</td>\n",
       "    </tr>\n",
       "  </tbody>\n",
       "</table>\n",
       "</div>"
      ],
      "text/plain": [
       "   StanzaNo  LineNo                                               Text  \\\n",
       "0         1       1  <line lineNo=\"001\">\"Мой дядя самых честных пр<...   \n",
       "1         1       2  <line lineNo=\"002\">Когда не в шутку занем<stre...   \n",
       "2         1       3  <line lineNo=\"003\">Он уважать себя заст<stress...   \n",
       "3         1       4  <line lineNo=\"004\">И лучше выдумать не м<stres...   \n",
       "4         1       5  <line lineNo=\"005\">Его пример другим на<stress...   \n",
       "\n",
       "                        Phonetic  \n",
       "0  maJ DiDi samix Čistnix prAVil  \n",
       "1         kagda Nifšutku zaNimOk  \n",
       "2        an uvažaT SiBi zastAVil  \n",
       "3           iluČši vidumaT NimOk  \n",
       "4       Jiva pRiMir druGim naUka  "
      ]
     },
     "execution_count": 31,
     "metadata": {},
     "output_type": "execute_result"
    }
   ],
   "source": [
    "trans_vec = np.vectorize(cyr2phon.transliterate)\n",
    "df[\"Phonetic\"] = trans_vec(df[\"Text\"])\n",
    "df.head()  # take a look"
   ]
  },
  {
   "cell_type": "markdown",
   "metadata": {},
   "source": [
    "## Write the rhyme word into a new column"
   ]
  },
  {
   "cell_type": "code",
   "execution_count": 32,
   "metadata": {},
   "outputs": [
    {
     "data": {
      "text/html": [
       "<div>\n",
       "<style scoped>\n",
       "    .dataframe tbody tr th:only-of-type {\n",
       "        vertical-align: middle;\n",
       "    }\n",
       "\n",
       "    .dataframe tbody tr th {\n",
       "        vertical-align: top;\n",
       "    }\n",
       "\n",
       "    .dataframe thead th {\n",
       "        text-align: right;\n",
       "    }\n",
       "</style>\n",
       "<table border=\"1\" class=\"dataframe\">\n",
       "  <thead>\n",
       "    <tr style=\"text-align: right;\">\n",
       "      <th></th>\n",
       "      <th>StanzaNo</th>\n",
       "      <th>LineNo</th>\n",
       "      <th>Text</th>\n",
       "      <th>Phonetic</th>\n",
       "      <th>RhymeWord</th>\n",
       "    </tr>\n",
       "  </thead>\n",
       "  <tbody>\n",
       "    <tr>\n",
       "      <th>0</th>\n",
       "      <td>1</td>\n",
       "      <td>1</td>\n",
       "      <td>&lt;line lineNo=\"001\"&gt;\"Мой дядя самых честных пр&lt;...</td>\n",
       "      <td>maJ DiDi samix Čistnix prAVil</td>\n",
       "      <td>prAVil</td>\n",
       "    </tr>\n",
       "    <tr>\n",
       "      <th>1</th>\n",
       "      <td>1</td>\n",
       "      <td>2</td>\n",
       "      <td>&lt;line lineNo=\"002\"&gt;Когда не в шутку занем&lt;stre...</td>\n",
       "      <td>kagda Nifšutku zaNimOk</td>\n",
       "      <td>zaNimOk</td>\n",
       "    </tr>\n",
       "    <tr>\n",
       "      <th>2</th>\n",
       "      <td>1</td>\n",
       "      <td>3</td>\n",
       "      <td>&lt;line lineNo=\"003\"&gt;Он уважать себя заст&lt;stress...</td>\n",
       "      <td>an uvažaT SiBi zastAVil</td>\n",
       "      <td>zastAVil</td>\n",
       "    </tr>\n",
       "    <tr>\n",
       "      <th>3</th>\n",
       "      <td>1</td>\n",
       "      <td>4</td>\n",
       "      <td>&lt;line lineNo=\"004\"&gt;И лучше выдумать не м&lt;stres...</td>\n",
       "      <td>iluČši vidumaT NimOk</td>\n",
       "      <td>NimOk</td>\n",
       "    </tr>\n",
       "    <tr>\n",
       "      <th>4</th>\n",
       "      <td>1</td>\n",
       "      <td>5</td>\n",
       "      <td>&lt;line lineNo=\"005\"&gt;Его пример другим на&lt;stress...</td>\n",
       "      <td>Jiva pRiMir druGim naUka</td>\n",
       "      <td>naUka</td>\n",
       "    </tr>\n",
       "  </tbody>\n",
       "</table>\n",
       "</div>"
      ],
      "text/plain": [
       "   StanzaNo  LineNo                                               Text  \\\n",
       "0         1       1  <line lineNo=\"001\">\"Мой дядя самых честных пр<...   \n",
       "1         1       2  <line lineNo=\"002\">Когда не в шутку занем<stre...   \n",
       "2         1       3  <line lineNo=\"003\">Он уважать себя заст<stress...   \n",
       "3         1       4  <line lineNo=\"004\">И лучше выдумать не м<stres...   \n",
       "4         1       5  <line lineNo=\"005\">Его пример другим на<stress...   \n",
       "\n",
       "                        Phonetic RhymeWord  \n",
       "0  maJ DiDi samix Čistnix prAVil    prAVil  \n",
       "1         kagda Nifšutku zaNimOk   zaNimOk  \n",
       "2        an uvažaT SiBi zastAVil  zastAVil  \n",
       "3           iluČši vidumaT NimOk     NimOk  \n",
       "4       Jiva pRiMir druGim naUka     naUka  "
      ]
     },
     "execution_count": 32,
     "metadata": {},
     "output_type": "execute_result"
    }
   ],
   "source": [
    "df[\"RhymeWord\"] = df[\"Phonetic\"].str.split().str[-1]\n",
    "df.head()  # take a look"
   ]
  },
  {
   "cell_type": "markdown",
   "metadata": {},
   "source": [
    "## Syllabify rhyme word and write into new column"
   ]
  },
  {
   "cell_type": "code",
   "execution_count": 33,
   "metadata": {},
   "outputs": [
    {
     "data": {
      "text/html": [
       "<div>\n",
       "<style scoped>\n",
       "    .dataframe tbody tr th:only-of-type {\n",
       "        vertical-align: middle;\n",
       "    }\n",
       "\n",
       "    .dataframe tbody tr th {\n",
       "        vertical-align: top;\n",
       "    }\n",
       "\n",
       "    .dataframe thead th {\n",
       "        text-align: right;\n",
       "    }\n",
       "</style>\n",
       "<table border=\"1\" class=\"dataframe\">\n",
       "  <thead>\n",
       "    <tr style=\"text-align: right;\">\n",
       "      <th></th>\n",
       "      <th>StanzaNo</th>\n",
       "      <th>LineNo</th>\n",
       "      <th>Text</th>\n",
       "      <th>Phonetic</th>\n",
       "      <th>RhymeWord</th>\n",
       "      <th>Syllabified</th>\n",
       "    </tr>\n",
       "  </thead>\n",
       "  <tbody>\n",
       "    <tr>\n",
       "      <th>0</th>\n",
       "      <td>1</td>\n",
       "      <td>1</td>\n",
       "      <td>&lt;line lineNo=\"001\"&gt;\"Мой дядя самых честных пр&lt;...</td>\n",
       "      <td>maJ DiDi samix Čistnix prAVil</td>\n",
       "      <td>prAVil</td>\n",
       "      <td>prA-Vil</td>\n",
       "    </tr>\n",
       "    <tr>\n",
       "      <th>1</th>\n",
       "      <td>1</td>\n",
       "      <td>2</td>\n",
       "      <td>&lt;line lineNo=\"002\"&gt;Когда не в шутку занем&lt;stre...</td>\n",
       "      <td>kagda Nifšutku zaNimOk</td>\n",
       "      <td>zaNimOk</td>\n",
       "      <td>za-Ni-mOk</td>\n",
       "    </tr>\n",
       "    <tr>\n",
       "      <th>2</th>\n",
       "      <td>1</td>\n",
       "      <td>3</td>\n",
       "      <td>&lt;line lineNo=\"003\"&gt;Он уважать себя заст&lt;stress...</td>\n",
       "      <td>an uvažaT SiBi zastAVil</td>\n",
       "      <td>zastAVil</td>\n",
       "      <td>za-stA-Vil</td>\n",
       "    </tr>\n",
       "    <tr>\n",
       "      <th>3</th>\n",
       "      <td>1</td>\n",
       "      <td>4</td>\n",
       "      <td>&lt;line lineNo=\"004\"&gt;И лучше выдумать не м&lt;stres...</td>\n",
       "      <td>iluČši vidumaT NimOk</td>\n",
       "      <td>NimOk</td>\n",
       "      <td>Ni-mOk</td>\n",
       "    </tr>\n",
       "    <tr>\n",
       "      <th>4</th>\n",
       "      <td>1</td>\n",
       "      <td>5</td>\n",
       "      <td>&lt;line lineNo=\"005\"&gt;Его пример другим на&lt;stress...</td>\n",
       "      <td>Jiva pRiMir druGim naUka</td>\n",
       "      <td>naUka</td>\n",
       "      <td>na-U-ka</td>\n",
       "    </tr>\n",
       "  </tbody>\n",
       "</table>\n",
       "</div>"
      ],
      "text/plain": [
       "   StanzaNo  LineNo                                               Text  \\\n",
       "0         1       1  <line lineNo=\"001\">\"Мой дядя самых честных пр<...   \n",
       "1         1       2  <line lineNo=\"002\">Когда не в шутку занем<stre...   \n",
       "2         1       3  <line lineNo=\"003\">Он уважать себя заст<stress...   \n",
       "3         1       4  <line lineNo=\"004\">И лучше выдумать не м<stres...   \n",
       "4         1       5  <line lineNo=\"005\">Его пример другим на<stress...   \n",
       "\n",
       "                        Phonetic RhymeWord Syllabified  \n",
       "0  maJ DiDi samix Čistnix prAVil    prAVil     prA-Vil  \n",
       "1         kagda Nifšutku zaNimOk   zaNimOk   za-Ni-mOk  \n",
       "2        an uvažaT SiBi zastAVil  zastAVil  za-stA-Vil  \n",
       "3           iluČši vidumaT NimOk     NimOk      Ni-mOk  \n",
       "4       Jiva pRiMir druGim naUka     naUka     na-U-ka  "
      ]
     },
     "execution_count": 33,
     "metadata": {},
     "output_type": "execute_result"
    }
   ],
   "source": [
    "syllabify_vec = np.vectorize(utility.syllabify)\n",
    "df[\"Syllabified\"] = syllabify_vec(df[\"RhymeWord\"])\n",
    "df.head()"
   ]
  },
  {
   "cell_type": "markdown",
   "metadata": {},
   "source": [
    "## Find rhyme pairs\n",
    "\n",
    "Each fourteen-line stanza in this poem has the same regular rhyme scheme: **aBaBccDDeFFeGG**. We can use this regularity to find lines that rhyme by matching the line numbers, creating a gold standard that we can use to test our (eventual) analytic identification of rhyme."
   ]
  },
  {
   "cell_type": "markdown",
   "metadata": {},
   "source": [
    "## (Resume here)\n",
    "\n",
    "Todo:\n",
    "\n",
    "1. identify rhyme zone\n",
    "1. decompose syllables into segments\n",
    "1. decompose segments into phonetic features\n",
    "1. build table of rhymes\n",
    "1. identify imperfect rhymes and describe and analyze at segment and feature level"
   ]
  },
  {
   "cell_type": "code",
   "execution_count": null,
   "metadata": {},
   "outputs": [],
   "source": []
  }
 ],
 "metadata": {
  "kernelspec": {
   "display_name": "Python 3",
   "language": "python",
   "name": "python3"
  },
  "language_info": {
   "codemirror_mode": {
    "name": "ipython",
    "version": 3
   },
   "file_extension": ".py",
   "mimetype": "text/x-python",
   "name": "python",
   "nbconvert_exporter": "python",
   "pygments_lexer": "ipython3",
   "version": "3.7.1"
  }
 },
 "nbformat": 4,
 "nbformat_minor": 2
}
